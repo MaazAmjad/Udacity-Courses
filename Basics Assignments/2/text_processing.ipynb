{
 "cells": [
  {
   "cell_type": "markdown",
   "metadata": {},
   "source": [
    "# Text Processing\n",
    "\n",
    "## Capturing Text Data\n",
    "\n",
    "### Plain Text"
   ]
  },
  {
   "cell_type": "code",
   "execution_count": 1,
   "metadata": {},
   "outputs": [
    {
     "name": "stdout",
     "output_type": "stream",
     "text": [
      "Hieroglyphic writing dates from c. 3000 BC, and is composed of hundreds of symbols. A hieroglyph can represent a word, a sound, or a silent determinative; and the same symbol can serve different purposes in different contexts. Hieroglyphs were a formal script, used on stone monuments and in tombs, that could be as detailed as individual works of art.\n",
      "\n"
     ]
    }
   ],
   "source": [
    "import os\n",
    "\n",
    "# Read in a plain text file\n",
    "#with open(os.path.join(\"data\", \"hieroglyph.txt\"), \"r\") as f:\n",
    "with open(\"hieroglyph.txt\", \"r\") as f:\n",
    "    text = f.read()\n",
    "    print(text)"
   ]
  },
  {
   "cell_type": "markdown",
   "metadata": {},
   "source": [
    "### Tabular Data"
   ]
  },
  {
   "cell_type": "code",
   "execution_count": 2,
   "metadata": {
    "scrolled": true
   },
   "outputs": [],
   "source": [
    "import pandas as pd\n",
    "\n",
    "# Extract text column from a dataframe\n",
    "#df = pd.read_csv(os.path.join(\"data\", \"news.csv\"))\n",
    "df = pd.read_csv(\"news.csv\")"
   ]
  },
  {
   "cell_type": "code",
   "execution_count": 3,
   "metadata": {},
   "outputs": [
    {
     "data": {
      "text/html": [
       "<div>\n",
       "<style scoped>\n",
       "    .dataframe tbody tr th:only-of-type {\n",
       "        vertical-align: middle;\n",
       "    }\n",
       "\n",
       "    .dataframe tbody tr th {\n",
       "        vertical-align: top;\n",
       "    }\n",
       "\n",
       "    .dataframe thead th {\n",
       "        text-align: right;\n",
       "    }\n",
       "</style>\n",
       "<table border=\"1\" class=\"dataframe\">\n",
       "  <thead>\n",
       "    <tr style=\"text-align: right;\">\n",
       "      <th></th>\n",
       "      <th>id</th>\n",
       "      <th>title</th>\n",
       "      <th>url</th>\n",
       "      <th>publisher</th>\n",
       "      <th>category</th>\n",
       "      <th>story</th>\n",
       "      <th>hostname</th>\n",
       "      <th>timestamp</th>\n",
       "    </tr>\n",
       "  </thead>\n",
       "  <tbody>\n",
       "    <tr>\n",
       "      <th>0</th>\n",
       "      <td>2</td>\n",
       "      <td>Fed's Charles Plosser sees high bar for change...</td>\n",
       "      <td>http://www.livemint.com/Politics/H2EvwJSK2VE6O...</td>\n",
       "      <td>Livemint</td>\n",
       "      <td>b</td>\n",
       "      <td>ddUyU0VZz0BRneMioxUPQVP6sIxvM</td>\n",
       "      <td>www.livemint.com</td>\n",
       "      <td>1394470371207</td>\n",
       "    </tr>\n",
       "    <tr>\n",
       "      <th>1</th>\n",
       "      <td>3</td>\n",
       "      <td>US open: Stocks fall after Fed official hints ...</td>\n",
       "      <td>http://www.ifamagazine.com/news/us-open-stocks...</td>\n",
       "      <td>IFA Magazine</td>\n",
       "      <td>b</td>\n",
       "      <td>ddUyU0VZz0BRneMioxUPQVP6sIxvM</td>\n",
       "      <td>www.ifamagazine.com</td>\n",
       "      <td>1394470371550</td>\n",
       "    </tr>\n",
       "    <tr>\n",
       "      <th>2</th>\n",
       "      <td>4</td>\n",
       "      <td>Fed risks falling 'behind the curve', Charles ...</td>\n",
       "      <td>http://www.ifamagazine.com/news/fed-risks-fall...</td>\n",
       "      <td>IFA Magazine</td>\n",
       "      <td>b</td>\n",
       "      <td>ddUyU0VZz0BRneMioxUPQVP6sIxvM</td>\n",
       "      <td>www.ifamagazine.com</td>\n",
       "      <td>1394470371793</td>\n",
       "    </tr>\n",
       "    <tr>\n",
       "      <th>3</th>\n",
       "      <td>5</td>\n",
       "      <td>Fed's Plosser: Nasty Weather Has Curbed Job Gr...</td>\n",
       "      <td>http://www.moneynews.com/Economy/federal-reser...</td>\n",
       "      <td>Moneynews</td>\n",
       "      <td>b</td>\n",
       "      <td>ddUyU0VZz0BRneMioxUPQVP6sIxvM</td>\n",
       "      <td>www.moneynews.com</td>\n",
       "      <td>1394470372027</td>\n",
       "    </tr>\n",
       "    <tr>\n",
       "      <th>4</th>\n",
       "      <td>6</td>\n",
       "      <td>Plosser: Fed May Have to Accelerate Tapering Pace</td>\n",
       "      <td>http://www.nasdaq.com/article/plosser-fed-may-...</td>\n",
       "      <td>NASDAQ</td>\n",
       "      <td>b</td>\n",
       "      <td>ddUyU0VZz0BRneMioxUPQVP6sIxvM</td>\n",
       "      <td>www.nasdaq.com</td>\n",
       "      <td>1394470372212</td>\n",
       "    </tr>\n",
       "  </tbody>\n",
       "</table>\n",
       "</div>"
      ],
      "text/plain": [
       "   id                                              title  \\\n",
       "0   2  Fed's Charles Plosser sees high bar for change...   \n",
       "1   3  US open: Stocks fall after Fed official hints ...   \n",
       "2   4  Fed risks falling 'behind the curve', Charles ...   \n",
       "3   5  Fed's Plosser: Nasty Weather Has Curbed Job Gr...   \n",
       "4   6  Plosser: Fed May Have to Accelerate Tapering Pace   \n",
       "\n",
       "                                                 url     publisher category  \\\n",
       "0  http://www.livemint.com/Politics/H2EvwJSK2VE6O...      Livemint        b   \n",
       "1  http://www.ifamagazine.com/news/us-open-stocks...  IFA Magazine        b   \n",
       "2  http://www.ifamagazine.com/news/fed-risks-fall...  IFA Magazine        b   \n",
       "3  http://www.moneynews.com/Economy/federal-reser...     Moneynews        b   \n",
       "4  http://www.nasdaq.com/article/plosser-fed-may-...        NASDAQ        b   \n",
       "\n",
       "                           story             hostname      timestamp  \n",
       "0  ddUyU0VZz0BRneMioxUPQVP6sIxvM     www.livemint.com  1394470371207  \n",
       "1  ddUyU0VZz0BRneMioxUPQVP6sIxvM  www.ifamagazine.com  1394470371550  \n",
       "2  ddUyU0VZz0BRneMioxUPQVP6sIxvM  www.ifamagazine.com  1394470371793  \n",
       "3  ddUyU0VZz0BRneMioxUPQVP6sIxvM    www.moneynews.com  1394470372027  \n",
       "4  ddUyU0VZz0BRneMioxUPQVP6sIxvM       www.nasdaq.com  1394470372212  "
      ]
     },
     "execution_count": 3,
     "metadata": {},
     "output_type": "execute_result"
    }
   ],
   "source": [
    "df.head()"
   ]
  },
  {
   "cell_type": "code",
   "execution_count": 4,
   "metadata": {},
   "outputs": [
    {
     "data": {
      "text/html": [
       "<div>\n",
       "<style scoped>\n",
       "    .dataframe tbody tr th:only-of-type {\n",
       "        vertical-align: middle;\n",
       "    }\n",
       "\n",
       "    .dataframe tbody tr th {\n",
       "        vertical-align: top;\n",
       "    }\n",
       "\n",
       "    .dataframe thead th {\n",
       "        text-align: right;\n",
       "    }\n",
       "</style>\n",
       "<table border=\"1\" class=\"dataframe\">\n",
       "  <thead>\n",
       "    <tr style=\"text-align: right;\">\n",
       "      <th></th>\n",
       "      <th>publisher</th>\n",
       "      <th>title</th>\n",
       "    </tr>\n",
       "  </thead>\n",
       "  <tbody>\n",
       "    <tr>\n",
       "      <th>0</th>\n",
       "      <td>Livemint</td>\n",
       "      <td>Fed's Charles Plosser sees high bar for change...</td>\n",
       "    </tr>\n",
       "    <tr>\n",
       "      <th>1</th>\n",
       "      <td>IFA Magazine</td>\n",
       "      <td>US open: Stocks fall after Fed official hints ...</td>\n",
       "    </tr>\n",
       "    <tr>\n",
       "      <th>2</th>\n",
       "      <td>IFA Magazine</td>\n",
       "      <td>Fed risks falling 'behind the curve', Charles ...</td>\n",
       "    </tr>\n",
       "    <tr>\n",
       "      <th>3</th>\n",
       "      <td>Moneynews</td>\n",
       "      <td>Fed's Plosser: Nasty Weather Has Curbed Job Gr...</td>\n",
       "    </tr>\n",
       "    <tr>\n",
       "      <th>4</th>\n",
       "      <td>NASDAQ</td>\n",
       "      <td>Plosser: Fed May Have to Accelerate Tapering Pace</td>\n",
       "    </tr>\n",
       "  </tbody>\n",
       "</table>\n",
       "</div>"
      ],
      "text/plain": [
       "      publisher                                              title\n",
       "0      Livemint  Fed's Charles Plosser sees high bar for change...\n",
       "1  IFA Magazine  US open: Stocks fall after Fed official hints ...\n",
       "2  IFA Magazine  Fed risks falling 'behind the curve', Charles ...\n",
       "3     Moneynews  Fed's Plosser: Nasty Weather Has Curbed Job Gr...\n",
       "4        NASDAQ  Plosser: Fed May Have to Accelerate Tapering Pace"
      ]
     },
     "execution_count": 4,
     "metadata": {},
     "output_type": "execute_result"
    }
   ],
   "source": [
    "df.head()[['publisher', 'title']]"
   ]
  },
  {
   "cell_type": "code",
   "execution_count": 5,
   "metadata": {},
   "outputs": [
    {
     "data": {
      "text/html": [
       "<div>\n",
       "<style scoped>\n",
       "    .dataframe tbody tr th:only-of-type {\n",
       "        vertical-align: middle;\n",
       "    }\n",
       "\n",
       "    .dataframe tbody tr th {\n",
       "        vertical-align: top;\n",
       "    }\n",
       "\n",
       "    .dataframe thead th {\n",
       "        text-align: right;\n",
       "    }\n",
       "</style>\n",
       "<table border=\"1\" class=\"dataframe\">\n",
       "  <thead>\n",
       "    <tr style=\"text-align: right;\">\n",
       "      <th></th>\n",
       "      <th>publisher</th>\n",
       "      <th>title</th>\n",
       "    </tr>\n",
       "  </thead>\n",
       "  <tbody>\n",
       "    <tr>\n",
       "      <th>0</th>\n",
       "      <td>Livemint</td>\n",
       "      <td>fed's charles plosser sees high bar for change...</td>\n",
       "    </tr>\n",
       "    <tr>\n",
       "      <th>1</th>\n",
       "      <td>IFA Magazine</td>\n",
       "      <td>us open: stocks fall after fed official hints ...</td>\n",
       "    </tr>\n",
       "    <tr>\n",
       "      <th>2</th>\n",
       "      <td>IFA Magazine</td>\n",
       "      <td>fed risks falling 'behind the curve', charles ...</td>\n",
       "    </tr>\n",
       "    <tr>\n",
       "      <th>3</th>\n",
       "      <td>Moneynews</td>\n",
       "      <td>fed's plosser: nasty weather has curbed job gr...</td>\n",
       "    </tr>\n",
       "    <tr>\n",
       "      <th>4</th>\n",
       "      <td>NASDAQ</td>\n",
       "      <td>plosser: fed may have to accelerate tapering pace</td>\n",
       "    </tr>\n",
       "  </tbody>\n",
       "</table>\n",
       "</div>"
      ],
      "text/plain": [
       "      publisher                                              title\n",
       "0      Livemint  fed's charles plosser sees high bar for change...\n",
       "1  IFA Magazine  us open: stocks fall after fed official hints ...\n",
       "2  IFA Magazine  fed risks falling 'behind the curve', charles ...\n",
       "3     Moneynews  fed's plosser: nasty weather has curbed job gr...\n",
       "4        NASDAQ  plosser: fed may have to accelerate tapering pace"
      ]
     },
     "execution_count": 5,
     "metadata": {},
     "output_type": "execute_result"
    }
   ],
   "source": [
    "# Convert text column to lowercase\n",
    "df['title'] = df['title'].str.lower()\n",
    "df.head()[['publisher', 'title']]"
   ]
  },
  {
   "cell_type": "markdown",
   "metadata": {},
   "source": [
    "### Online Resource"
   ]
  },
  {
   "cell_type": "code",
   "execution_count": 6,
   "metadata": {
    "scrolled": true
   },
   "outputs": [
    {
     "name": "stdout",
     "output_type": "stream",
     "text": [
      "{\n",
      "    \"success\": {\n",
      "        \"total\": 1\n",
      "    },\n",
      "    \"contents\": {\n",
      "        \"quotes\": [\n",
      "            {\n",
      "                \"quote\": \"Think in terms of opportunities and solutions instead of problems, disappointment, and failure.\",\n",
      "                \"length\": \"95\",\n",
      "                \"author\": \"Lorii Myers\",\n",
      "                \"tags\": {\n",
      "                    \"0\": \"failure\",\n",
      "                    \"1\": \"inspire\",\n",
      "                    \"2\": \"opportunity\",\n",
      "                    \"3\": \"positive-attitude\",\n",
      "                    \"5\": \"tso-management\"\n",
      "                },\n",
      "                \"category\": \"inspire\",\n",
      "                \"language\": \"en\",\n",
      "                \"date\": \"2020-06-30\",\n",
      "                \"permalink\": \"https://theysaidso.com/quote/lorii-myers-think-in-terms-of-opportunities-and-solutions-instead-of-problems-di\",\n",
      "                \"id\": \"F9MnDaQftE2TFpeIyCPB3geF\",\n",
      "                \"background\": \"https://theysaidso.com/img/qod/qod-inspire.jpg\",\n",
      "                \"title\": \"Inspiring Quote of the day\"\n",
      "            }\n",
      "        ]\n",
      "    },\n",
      "    \"baseurl\": \"https://theysaidso.com\",\n",
      "    \"copyright\": {\n",
      "        \"year\": 2022,\n",
      "        \"url\": \"https://theysaidso.com\"\n",
      "    }\n",
      "}\n",
      "Think in terms of opportunities and solutions instead of problems, disappointment, and failure. \n",
      "-- Lorii Myers\n"
     ]
    }
   ],
   "source": [
    "import requests\n",
    "import json\n",
    "\n",
    "# Fetch data from a REST API\n",
    "r = requests.get(\n",
    "    \"https://quotes.rest/qod.json\")\n",
    "res = r.json()\n",
    "print(json.dumps(res, indent=4))\n",
    "\n",
    "# Extract relevant object and field\n",
    "q = res[\"contents\"][\"quotes\"][0]\n",
    "print(q[\"quote\"], \"\\n--\", q[\"author\"])"
   ]
  },
  {
   "cell_type": "markdown",
   "metadata": {},
   "source": [
    "## Cleaning"
   ]
  },
  {
   "cell_type": "code",
   "execution_count": 7,
   "metadata": {
    "scrolled": true
   },
   "outputs": [
    {
     "name": "stdout",
     "output_type": "stream",
     "text": [
      "<html lang=\"en\" op=\"news\"><head><meta name=\"referrer\" content=\"origin\"><meta name=\"viewport\" content=\"width=device-width, initial-scale=1.0\"><link rel=\"stylesheet\" type=\"text/css\" href=\"news.css?lWjTR7Bo1FobbZdHztpg\">\n",
      "        <link rel=\"shortcut icon\" href=\"favicon.ico\">\n",
      "          <link rel=\"alternate\" type=\"application/rss+xml\" title=\"RSS\" href=\"rss\">\n",
      "        <title>Hacker News</title></head><body><center><table id=\"hnmain\" border=\"0\" cellpadding=\"0\" cellspacing=\"0\" width=\"85%\" bgcolor=\"#f6f6ef\">\n",
      "        <tr><td bgcolor=\"#ff6600\"><table border=\"0\" cellpadding=\"0\" cellspacing=\"0\" width=\"100%\" style=\"padding:2px\"><tr><td style=\"width:18px;padding-right:4px\"><a href=\"https://news.ycombinator.com\"><img src=\"y18.gif\" width=\"18\" height=\"18\" style=\"border:1px white solid;\"></a></td>\n",
      "                  <td style=\"line-height:12pt; height:10px;\"><span class=\"pagetop\"><b class=\"hnname\"><a href=\"news\">Hacker News</a></b>\n",
      "              <a href=\"newest\">new</a> | <a href=\"front\">past</a> | <a href=\"newcomments\">comments</a> | <a href=\"ask\">ask</a> | <a href=\"show\">show</a> | <a href=\"jobs\">jobs</a> | <a href=\"submit\">submit</a>            </span></td><td style=\"text-align:right;padding-right:4px;\"><span class=\"pagetop\">\n",
      "                              <a href=\"login?goto=news\">login</a>\n",
      "                          </span></td>\n",
      "              </tr></table></td></tr>\n",
      "<tr id=\"pagespace\" title=\"\" style=\"height:10px\"></tr><tr><td><table border=\"0\" cellpadding=\"0\" cellspacing=\"0\" class=\"itemlist\">\n",
      "              <tr class='athing' id='23689549'>\n",
      "      <td align=\"right\" valign=\"top\" class=\"title\"><span class=\"rank\">1.</span></td>      <td valign=\"top\" class=\"votelinks\"><center><a id='up_23689549' href='vote?id=23689549&amp;how=up&amp;goto=news'><div class='votearrow' title='upvote'></div></a></center></td><td class=\"title\"><a href=\"http://antirez.com/news/133\" class=\"storylink\">The End of the Redis Adventure</a><span class=\"sitebit comhead\"> (<a href=\"from?site=antirez.com\"><span class=\"sitestr\">antirez.com</span></a>)</span></td></tr><tr><td colspan=\"2\"></td><td class=\"subtext\">\n",
      "        <span class=\"score\" id=\"score_23689549\">1659 points</span> by <a href=\"user?id=kristoff_it\" class=\"hnuser\">kristoff_it</a> <span class=\"age\"><a href=\"item?id=23689549\">9 hours ago</a></span> <span id=\"unv_23689549\"></span> | <a href=\"hide?id=23689549&amp;goto=news\">hide</a> | <a href=\"item?id=23689549\">229&nbsp;comments</a>              </td></tr>\n",
      "      <tr class=\"spacer\" style=\"height:5px\"></tr>\n",
      "                <tr class='athing' id='23693029'>\n",
      "      <td align=\"right\" valign=\"top\" class=\"title\"><span class=\"rank\">2.</span></td>      <td valign=\"top\" class=\"votelinks\"><center><a id='up_23693029' href='vote?id=23693029&amp;how=up&amp;goto=news'><div class='votearrow' title='upvote'></div></a></center></td><td class=\"title\"><a href=\"http://linear.app/\" class=\"storylink\">Linear – A fast issue tracker</a><span class=\"sitebit comhead\"> (<a href=\"from?site=linear.app\"><span class=\"sitestr\">linear.app</span></a>)</span></td></tr><tr><td colspan=\"2\"></td><td class=\"subtext\">\n",
      "        <span class=\"score\" id=\"score_23693029\">264 points</span> by <a href=\"user?id=tommoor\" class=\"hnuser\">tommoor</a> <span class=\"age\"><a href=\"item?id=23693029\">4 hours ago</a></span> <span id=\"unv_23693029\"></span> | <a href=\"hide?id=23693029&amp;goto=news\">hide</a> | <a href=\"item?id=23693029\">124&nbsp;comments</a>              </td></tr>\n",
      "      <tr class=\"spacer\" style=\"height:5px\"></tr>\n",
      "                <tr class='athing' id='23694667'>\n",
      "      <td align=\"right\" valign=\"top\" class=\"title\"><span class=\"rank\">3.</span></td>      <td valign=\"top\" class=\"votelinks\"><center><a id='up_23694667' href='vote?id=23694667&amp;how=up&amp;goto=news'><div class='votearrow' title='upvote'></div></a></center></td><td class=\"title\"><a href=\"http://tylerneylon.com/a/learn-lua/\" class=\"storylink\">Learn Lua in 15 Minutes (2013)</a><span class=\"sitebit comhead\"> (<a href=\"from?site=tylerneylon.com\"><span class=\"sitestr\">tylerneylon.com</span></a>)</span></td></tr><tr><td colspan=\"2\"></td><td class=\"subtext\">\n",
      "        <span class=\"score\" id=\"score_23694667\">48 points</span> by <a href=\"user?id=jakogut\" class=\"hnuser\">jakogut</a> <span class=\"age\"><a href=\"item?id=23694667\">1 hour ago</a></span> <span id=\"unv_23694667\"></span> | <a href=\"hide?id=23694667&amp;goto=news\">hide</a> | <a href=\"item?id=23694667\">21&nbsp;comments</a>              </td></tr>\n",
      "      <tr class=\"spacer\" style=\"height:5px\"></tr>\n",
      "                <tr class='athing' id='23692442'>\n",
      "      <td align=\"right\" valign=\"top\" class=\"title\"><span class=\"rank\">4.</span></td>      <td valign=\"top\" class=\"votelinks\"><center><a id='up_23692442' href='vote?id=23692442&amp;how=up&amp;goto=news'><div class='votearrow' title='upvote'></div></a></center></td><td class=\"title\"><a href=\"https://research.fb.com/blog/2020/06/holographic-optics-for-thin-and-lightweight-virtual-reality/\" class=\"storylink\">Holographic optics for thin and lightweight virtual reality</a><span class=\"sitebit comhead\"> (<a href=\"from?site=fb.com\"><span class=\"sitestr\">fb.com</span></a>)</span></td></tr><tr><td colspan=\"2\"></td><td class=\"subtext\">\n",
      "        <span class=\"score\" id=\"score_23692442\">223 points</span> by <a href=\"user?id=onurcel\" class=\"hnuser\">onurcel</a> <span class=\"age\"><a href=\"item?id=23692442\">5 hours ago</a></span> <span id=\"unv_23692442\"></span> | <a href=\"hide?id=23692442&amp;goto=news\">hide</a> | <a href=\"item?id=23692442\">49&nbsp;comments</a>              </td></tr>\n",
      "      <tr class=\"spacer\" style=\"height:5px\"></tr>\n",
      "                <tr class='athing' id='23685886'>\n",
      "      <td align=\"right\" valign=\"top\" class=\"title\"><span class=\"rank\">5.</span></td>      <td valign=\"top\" class=\"votelinks\"><center><a id='up_23685886' href='vote?id=23685886&amp;how=up&amp;goto=news'><div class='votearrow' title='upvote'></div></a></center></td><td class=\"title\"><a href=\"https://www.economist.com/briefing/2020/06/25/the-world-should-think-better-about-catastrophic-and-existential-risks\" class=\"storylink\">The world should think better about catastrophic and existential risks</a><span class=\"sitebit comhead\"> (<a href=\"from?site=economist.com\"><span class=\"sitestr\">economist.com</span></a>)</span></td></tr><tr><td colspan=\"2\"></td><td class=\"subtext\">\n",
      "        <span class=\"score\" id=\"score_23685886\">60 points</span> by <a href=\"user?id=prostoalex\" class=\"hnuser\">prostoalex</a> <span class=\"age\"><a href=\"item?id=23685886\">2 hours ago</a></span> <span id=\"unv_23685886\"></span> | <a href=\"hide?id=23685886&amp;goto=news\">hide</a> | <a href=\"item?id=23685886\">28&nbsp;comments</a>              </td></tr>\n",
      "      <tr class=\"spacer\" style=\"height:5px\"></tr>\n",
      "                <tr class='athing' id='23689091'>\n",
      "      <td align=\"right\" valign=\"top\" class=\"title\"><span class=\"rank\">6.</span></td>      <td valign=\"top\" class=\"votelinks\"><center><a id='up_23689091' href='vote?id=23689091&amp;how=up&amp;goto=news'><div class='votearrow' title='upvote'></div></a></center></td><td class=\"title\"><a href=\"https://pragmaticpineapple.com/how-did-vim-become-so-popular/\" class=\"storylink\">How Did Vim Become So Popular?</a><span class=\"sitebit comhead\"> (<a href=\"from?site=pragmaticpineapple.com\"><span class=\"sitestr\">pragmaticpineapple.com</span></a>)</span></td></tr><tr><td colspan=\"2\"></td><td class=\"subtext\">\n",
      "        <span class=\"score\" id=\"score_23689091\">23 points</span> by <a href=\"user?id=nikolalsvk\" class=\"hnuser\">nikolalsvk</a> <span class=\"age\"><a href=\"item?id=23689091\">1 hour ago</a></span> <span id=\"unv_23689091\"></span> | <a href=\"hide?id=23689091&amp;goto=news\">hide</a> | <a href=\"item?id=23689091\">33&nbsp;comments</a>              </td></tr>\n",
      "      <tr class=\"spacer\" style=\"height:5px\"></tr>\n",
      "                <tr class='athing' id='23695377'>\n",
      "      <td align=\"right\" valign=\"top\" class=\"title\"><span class=\"rank\">7.</span></td>      <td valign=\"top\" class=\"votelinks\"><center><a id='up_23695377' href='vote?id=23695377&amp;how=up&amp;goto=news'><div class='votearrow' title='upvote'></div></a></center></td><td class=\"title\"><a href=\"https://discourse.mozilla.org/t/common-voice-dataset-release-mid-year-2020/62938\" class=\"storylink\">Mozilla Common Voice Dataset – 7200 hrs, 54 languages</a><span class=\"sitebit comhead\"> (<a href=\"from?site=discourse.mozilla.org\"><span class=\"sitestr\">discourse.mozilla.org</span></a>)</span></td></tr><tr><td colspan=\"2\"></td><td class=\"subtext\">\n",
      "        <span class=\"score\" id=\"score_23695377\">8 points</span> by <a href=\"user?id=dabinat\" class=\"hnuser\">dabinat</a> <span class=\"age\"><a href=\"item?id=23695377\">35 minutes ago</a></span> <span id=\"unv_23695377\"></span> | <a href=\"hide?id=23695377&amp;goto=news\">hide</a> | <a href=\"item?id=23695377\">discuss</a>              </td></tr>\n",
      "      <tr class=\"spacer\" style=\"height:5px\"></tr>\n",
      "                <tr class='athing' id='23690788'>\n",
      "      <td align=\"right\" valign=\"top\" class=\"title\"><span class=\"rank\">8.</span></td>      <td valign=\"top\" class=\"votelinks\"><center><a id='up_23690788' href='vote?id=23690788&amp;how=up&amp;goto=news'><div class='votearrow' title='upvote'></div></a></center></td><td class=\"title\"><a href=\"https://marcobonvini.com/modelica/2020/06/29/all-about-modelica.html\" class=\"storylink\">All about Modelica: An equation-based language for modeling physical systems</a><span class=\"sitebit comhead\"> (<a href=\"from?site=marcobonvini.com\"><span class=\"sitestr\">marcobonvini.com</span></a>)</span></td></tr><tr><td colspan=\"2\"></td><td class=\"subtext\">\n",
      "        <span class=\"score\" id=\"score_23690788\">90 points</span> by <a href=\"user?id=macro-b\" class=\"hnuser\">macro-b</a> <span class=\"age\"><a href=\"item?id=23690788\">4 hours ago</a></span> <span id=\"unv_23690788\"></span> | <a href=\"hide?id=23690788&amp;goto=news\">hide</a> | <a href=\"item?id=23690788\">18&nbsp;comments</a>              </td></tr>\n",
      "      <tr class=\"spacer\" style=\"height:5px\"></tr>\n",
      "                <tr class='athing' id='23695270'>\n",
      "      <td align=\"right\" valign=\"top\" class=\"title\"><span class=\"rank\">9.</span></td>      <td valign=\"top\" class=\"votelinks\"><center><a id='up_23695270' href='vote?id=23695270&amp;how=up&amp;goto=news'><div class='votearrow' title='upvote'></div></a></center></td><td class=\"title\"><a href=\"https://blog.malwarebytes.com/mac/2020/06/new-mac-ransomware-spreading-through-piracy/\" class=\"storylink\">New Mac ransomware spreading through piracy</a><span class=\"sitebit comhead\"> (<a href=\"from?site=malwarebytes.com\"><span class=\"sitestr\">malwarebytes.com</span></a>)</span></td></tr><tr><td colspan=\"2\"></td><td class=\"subtext\">\n",
      "        <span class=\"score\" id=\"score_23695270\">7 points</span> by <a href=\"user?id=1915cb1f\" class=\"hnuser\">1915cb1f</a> <span class=\"age\"><a href=\"item?id=23695270\">49 minutes ago</a></span> <span id=\"unv_23695270\"></span> | <a href=\"hide?id=23695270&amp;goto=news\">hide</a> | <a href=\"item?id=23695270\">discuss</a>              </td></tr>\n",
      "      <tr class=\"spacer\" style=\"height:5px\"></tr>\n",
      "                <tr class='athing' id='23692257'>\n",
      "      <td align=\"right\" valign=\"top\" class=\"title\"><span class=\"rank\">10.</span></td>      <td valign=\"top\" class=\"votelinks\"><center><a id='up_23692257' href='vote?id=23692257&amp;how=up&amp;goto=news'><div class='votearrow' title='upvote'></div></a></center></td><td class=\"title\"><a href=\"https://security.googleblog.com/2020/06/system-hardening-in-android-11.html\" class=\"storylink\">System Hardening in Android 11</a><span class=\"sitebit comhead\"> (<a href=\"from?site=googleblog.com\"><span class=\"sitestr\">googleblog.com</span></a>)</span></td></tr><tr><td colspan=\"2\"></td><td class=\"subtext\">\n",
      "        <span class=\"score\" id=\"score_23692257\">116 points</span> by <a href=\"user?id=theafh\" class=\"hnuser\">theafh</a> <span class=\"age\"><a href=\"item?id=23692257\">5 hours ago</a></span> <span id=\"unv_23692257\"></span> | <a href=\"hide?id=23692257&amp;goto=news\">hide</a> | <a href=\"item?id=23692257\">99&nbsp;comments</a>              </td></tr>\n",
      "      <tr class=\"spacer\" style=\"height:5px\"></tr>\n",
      "                <tr class='athing' id='23675364'>\n",
      "      <td align=\"right\" valign=\"top\" class=\"title\"><span class=\"rank\">11.</span></td>      <td valign=\"top\" class=\"votelinks\"><center><a id='up_23675364' href='vote?id=23675364&amp;how=up&amp;goto=news'><div class='votearrow' title='upvote'></div></a></center></td><td class=\"title\"><a href=\"https://www.rd.com/article/isolated-for-a-year-in-antarctica/\" class=\"storylink\">Returning from a Year of Isolation in Antarctica</a><span class=\"sitebit comhead\"> (<a href=\"from?site=rd.com\"><span class=\"sitestr\">rd.com</span></a>)</span></td></tr><tr><td colspan=\"2\"></td><td class=\"subtext\">\n",
      "        <span class=\"score\" id=\"score_23675364\">59 points</span> by <a href=\"user?id=op03\" class=\"hnuser\">op03</a> <span class=\"age\"><a href=\"item?id=23675364\">3 hours ago</a></span> <span id=\"unv_23675364\"></span> | <a href=\"hide?id=23675364&amp;goto=news\">hide</a> | <a href=\"item?id=23675364\">25&nbsp;comments</a>              </td></tr>\n",
      "      <tr class=\"spacer\" style=\"height:5px\"></tr>\n",
      "                <tr class='athing' id='23693407'>\n",
      "      <td align=\"right\" valign=\"top\" class=\"title\"><span class=\"rank\">12.</span></td>      <td valign=\"top\" class=\"votelinks\"><center><a id='up_23693407' href='vote?id=23693407&amp;how=up&amp;goto=news'><div class='votearrow' title='upvote'></div></a></center></td><td class=\"title\"><a href=\"https://www.theverge.com/2020/6/30/21308449/youtube-tv-price-increase-64-99-viacom-hbo-new-channels\" class=\"storylink\">YouTube TV sharply increases monthly subscription to $64.99</a><span class=\"sitebit comhead\"> (<a href=\"from?site=theverge.com\"><span class=\"sitestr\">theverge.com</span></a>)</span></td></tr><tr><td colspan=\"2\"></td><td class=\"subtext\">\n",
      "        <span class=\"score\" id=\"score_23693407\">55 points</span> by <a href=\"user?id=jbredeche\" class=\"hnuser\">jbredeche</a> <span class=\"age\"><a href=\"item?id=23693407\">3 hours ago</a></span> <span id=\"unv_23693407\"></span> | <a href=\"hide?id=23693407&amp;goto=news\">hide</a> | <a href=\"item?id=23693407\">35&nbsp;comments</a>              </td></tr>\n",
      "      <tr class=\"spacer\" style=\"height:5px\"></tr>\n",
      "                <tr class='athing' id='23688798'>\n",
      "      <td align=\"right\" valign=\"top\" class=\"title\"><span class=\"rank\">13.</span></td>      <td valign=\"top\" class=\"votelinks\"><center><a id='up_23688798' href='vote?id=23688798&amp;how=up&amp;goto=news'><div class='votearrow' title='upvote'></div></a></center></td><td class=\"title\"><a href=\"https://hyperapp.dev/\" class=\"storylink\">Hyperapp – A tiny framework for building web interfaces</a><span class=\"sitebit comhead\"> (<a href=\"from?site=hyperapp.dev\"><span class=\"sitestr\">hyperapp.dev</span></a>)</span></td></tr><tr><td colspan=\"2\"></td><td class=\"subtext\">\n",
      "        <span class=\"score\" id=\"score_23688798\">342 points</span> by <a href=\"user?id=Al0neStar\" class=\"hnuser\">Al0neStar</a> <span class=\"age\"><a href=\"item?id=23688798\">11 hours ago</a></span> <span id=\"unv_23688798\"></span> | <a href=\"hide?id=23688798&amp;goto=news\">hide</a> | <a href=\"item?id=23688798\">155&nbsp;comments</a>              </td></tr>\n",
      "      <tr class=\"spacer\" style=\"height:5px\"></tr>\n",
      "                <tr class='athing' id='23689364'>\n",
      "      <td align=\"right\" valign=\"top\" class=\"title\"><span class=\"rank\">14.</span></td>      <td valign=\"top\" class=\"votelinks\"><center><a id='up_23689364' href='vote?id=23689364&amp;how=up&amp;goto=news'><div class='votearrow' title='upvote'></div></a></center></td><td class=\"title\"><a href=\"https://lapcatsoftware.com/articles/disclosure2.html\" class=\"storylink\">Disclosure: Another macOS privacy protections bypass</a><span class=\"sitebit comhead\"> (<a href=\"from?site=lapcatsoftware.com\"><span class=\"sitestr\">lapcatsoftware.com</span></a>)</span></td></tr><tr><td colspan=\"2\"></td><td class=\"subtext\">\n",
      "        <span class=\"score\" id=\"score_23689364\">322 points</span> by <a href=\"user?id=sillysaurusx\" class=\"hnuser\">sillysaurusx</a> <span class=\"age\"><a href=\"item?id=23689364\">10 hours ago</a></span> <span id=\"unv_23689364\"></span> | <a href=\"hide?id=23689364&amp;goto=news\">hide</a> | <a href=\"item?id=23689364\">86&nbsp;comments</a>              </td></tr>\n",
      "      <tr class=\"spacer\" style=\"height:5px\"></tr>\n",
      "                <tr class='athing' id='23689538'>\n",
      "      <td align=\"right\" valign=\"top\" class=\"title\"><span class=\"rank\">15.</span></td>      <td valign=\"top\" class=\"votelinks\"><center><a id='up_23689538' href='vote?id=23689538&amp;how=up&amp;goto=news'><div class='votearrow' title='upvote'></div></a></center></td><td class=\"title\"><a href=\"https://danluu.com/car-safety/\" class=\"storylink\">How well do cars do in crash tests they're not optimized for?</a><span class=\"sitebit comhead\"> (<a href=\"from?site=danluu.com\"><span class=\"sitestr\">danluu.com</span></a>)</span></td></tr><tr><td colspan=\"2\"></td><td class=\"subtext\">\n",
      "        <span class=\"score\" id=\"score_23689538\">219 points</span> by <a href=\"user?id=weinzierl\" class=\"hnuser\">weinzierl</a> <span class=\"age\"><a href=\"item?id=23689538\">9 hours ago</a></span> <span id=\"unv_23689538\"></span> | <a href=\"hide?id=23689538&amp;goto=news\">hide</a> | <a href=\"item?id=23689538\">278&nbsp;comments</a>              </td></tr>\n",
      "      <tr class=\"spacer\" style=\"height:5px\"></tr>\n",
      "                <tr class='athing' id='23690922'>\n",
      "      <td align=\"right\" valign=\"top\" class=\"title\"><span class=\"rank\">16.</span></td>      <td valign=\"top\" class=\"votelinks\"><center><a id='up_23690922' href='vote?id=23690922&amp;how=up&amp;goto=news'><div class='votearrow' title='upvote'></div></a></center></td><td class=\"title\"><a href=\"https://www.deepsouthventures.com/must-ride-mule-to-from-work-location/\" class=\"storylink\">Must ride mule to and from work location</a><span class=\"sitebit comhead\"> (<a href=\"from?site=deepsouthventures.com\"><span class=\"sitestr\">deepsouthventures.com</span></a>)</span></td></tr><tr><td colspan=\"2\"></td><td class=\"subtext\">\n",
      "        <span class=\"score\" id=\"score_23690922\">144 points</span> by <a href=\"user?id=eightturn\" class=\"hnuser\">eightturn</a> <span class=\"age\"><a href=\"item?id=23690922\">7 hours ago</a></span> <span id=\"unv_23690922\"></span> | <a href=\"hide?id=23690922&amp;goto=news\">hide</a> | <a href=\"item?id=23690922\">30&nbsp;comments</a>              </td></tr>\n",
      "      <tr class=\"spacer\" style=\"height:5px\"></tr>\n",
      "                <tr class='athing' id='23693371'>\n",
      "      <td align=\"right\" valign=\"top\" class=\"title\"><span class=\"rank\">17.</span></td>      <td valign=\"top\" class=\"votelinks\"><center><a id='up_23693371' href='vote?id=23693371&amp;how=up&amp;goto=news'><div class='votearrow' title='upvote'></div></a></center></td><td class=\"title\"><a href=\"https://nova.chat/\" class=\"storylink\">NovaChat: Multi-Network Chat</a><span class=\"sitebit comhead\"> (<a href=\"from?site=nova.chat\"><span class=\"sitestr\">nova.chat</span></a>)</span></td></tr><tr><td colspan=\"2\"></td><td class=\"subtext\">\n",
      "        <span class=\"score\" id=\"score_23693371\">57 points</span> by <a href=\"user?id=memexy\" class=\"hnuser\">memexy</a> <span class=\"age\"><a href=\"item?id=23693371\">4 hours ago</a></span> <span id=\"unv_23693371\"></span> | <a href=\"hide?id=23693371&amp;goto=news\">hide</a> | <a href=\"item?id=23693371\">49&nbsp;comments</a>              </td></tr>\n",
      "      <tr class=\"spacer\" style=\"height:5px\"></tr>\n",
      "                <tr class='athing' id='23691701'>\n",
      "      <td align=\"right\" valign=\"top\" class=\"title\"><span class=\"rank\">18.</span></td>      <td valign=\"top\" class=\"votelinks\"><center><a id='up_23691701' href='vote?id=23691701&amp;how=up&amp;goto=news'><div class='votearrow' title='upvote'></div></a></center></td><td class=\"title\"><a href=\"http://kvark.github.io/tech/arguments/2020/06/30/technical-discussions.html\" class=\"storylink\">Missing Structure in Technical Discussions</a><span class=\"sitebit comhead\"> (<a href=\"from?site=kvark.github.io\"><span class=\"sitestr\">kvark.github.io</span></a>)</span></td></tr><tr><td colspan=\"2\"></td><td class=\"subtext\">\n",
      "        <span class=\"score\" id=\"score_23691701\">90 points</span> by <a href=\"user?id=MindGods\" class=\"hnuser\">MindGods</a> <span class=\"age\"><a href=\"item?id=23691701\">6 hours ago</a></span> <span id=\"unv_23691701\"></span> | <a href=\"hide?id=23691701&amp;goto=news\">hide</a> | <a href=\"item?id=23691701\">21&nbsp;comments</a>              </td></tr>\n",
      "      <tr class=\"spacer\" style=\"height:5px\"></tr>\n",
      "                <tr class='athing' id='23690461'>\n",
      "      <td align=\"right\" valign=\"top\" class=\"title\"><span class=\"rank\">19.</span></td>      <td valign=\"top\" class=\"votelinks\"><center><a id='up_23690461' href='vote?id=23690461&amp;how=up&amp;goto=news'><div class='votearrow' title='upvote'></div></a></center></td><td class=\"title\"><a href=\"https://www.anandtech.com/show/15888/400-tb-storage-drives-in-our-future-fujifilm\" class=\"storylink\">400 TB Storage Drives in Our Future: Fujifilm</a><span class=\"sitebit comhead\"> (<a href=\"from?site=anandtech.com\"><span class=\"sitestr\">anandtech.com</span></a>)</span></td></tr><tr><td colspan=\"2\"></td><td class=\"subtext\">\n",
      "        <span class=\"score\" id=\"score_23690461\">128 points</span> by <a href=\"user?id=caution\" class=\"hnuser\">caution</a> <span class=\"age\"><a href=\"item?id=23690461\">8 hours ago</a></span> <span id=\"unv_23690461\"></span> | <a href=\"hide?id=23690461&amp;goto=news\">hide</a> | <a href=\"item?id=23690461\">74&nbsp;comments</a>              </td></tr>\n",
      "      <tr class=\"spacer\" style=\"height:5px\"></tr>\n",
      "                <tr class='athing' id='23691297'>\n",
      "      <td align=\"right\" valign=\"top\" class=\"title\"><span class=\"rank\">20.</span></td>      <td valign=\"top\" class=\"votelinks\"><center><a id='up_23691297' href='vote?id=23691297&amp;how=up&amp;goto=news'><div class='votearrow' title='upvote'></div></a></center></td><td class=\"title\"><a href=\"https://torrentfreak.com/eff-heavyweight-legal-team-will-defend-internet-archives-digital-library-against-publishers-200626/\" class=\"storylink\">EFF and heavyweight legal team will defend Internet Archive against publishers</a><span class=\"sitebit comhead\"> (<a href=\"from?site=torrentfreak.com\"><span class=\"sitestr\">torrentfreak.com</span></a>)</span></td></tr><tr><td colspan=\"2\"></td><td class=\"subtext\">\n",
      "        <span class=\"score\" id=\"score_23691297\">390 points</span> by <a href=\"user?id=toomuchtodo\" class=\"hnuser\">toomuchtodo</a> <span class=\"age\"><a href=\"item?id=23691297\">6 hours ago</a></span> <span id=\"unv_23691297\"></span> | <a href=\"hide?id=23691297&amp;goto=news\">hide</a> | <a href=\"item?id=23691297\">165&nbsp;comments</a>              </td></tr>\n",
      "      <tr class=\"spacer\" style=\"height:5px\"></tr>\n",
      "                <tr class='athing' id='23693650'>\n",
      "      <td align=\"right\" valign=\"top\" class=\"title\"><span class=\"rank\">21.</span></td>      <td valign=\"top\" class=\"votelinks\"><center><a id='up_23693650' href='vote?id=23693650&amp;how=up&amp;goto=news'><div class='votearrow' title='upvote'></div></a></center></td><td class=\"title\"><a href=\"https://github.com/2020PB/police-brutality#hn\" class=\"storylink\">Git Repo of Police Brutality During the 2020 George Floyd Protests</a><span class=\"sitebit comhead\"> (<a href=\"from?site=github.com\"><span class=\"sitestr\">github.com</span></a>)</span></td></tr><tr><td colspan=\"2\"></td><td class=\"subtext\">\n",
      "        <span class=\"score\" id=\"score_23693650\">282 points</span> by <a href=\"user?id=Glench\" class=\"hnuser\">Glench</a> <span class=\"age\"><a href=\"item?id=23693650\">3 hours ago</a></span> <span id=\"unv_23693650\"></span> | <a href=\"hide?id=23693650&amp;goto=news\">hide</a> | <a href=\"item?id=23693650\">131&nbsp;comments</a>              </td></tr>\n",
      "      <tr class=\"spacer\" style=\"height:5px\"></tr>\n",
      "                <tr class='athing' id='23688748'>\n",
      "      <td align=\"right\" valign=\"top\" class=\"title\"><span class=\"rank\">22.</span></td>      <td valign=\"top\" class=\"votelinks\"><center><a id='up_23688748' href='vote?id=23688748&amp;how=up&amp;goto=news'><div class='votearrow' title='upvote'></div></a></center></td><td class=\"title\"><a href=\"https://www.audubon.org/news/mallards-ferry-fish-eggs-between-waterbodies-through-their-poop\" class=\"storylink\">Mallards ferry fish eggs between waterbodies</a><span class=\"sitebit comhead\"> (<a href=\"from?site=audubon.org\"><span class=\"sitestr\">audubon.org</span></a>)</span></td></tr><tr><td colspan=\"2\"></td><td class=\"subtext\">\n",
      "        <span class=\"score\" id=\"score_23688748\">47 points</span> by <a href=\"user?id=Someone\" class=\"hnuser\">Someone</a> <span class=\"age\"><a href=\"item?id=23688748\">5 hours ago</a></span> <span id=\"unv_23688748\"></span> | <a href=\"hide?id=23688748&amp;goto=news\">hide</a> | <a href=\"item?id=23688748\">9&nbsp;comments</a>              </td></tr>\n",
      "      <tr class=\"spacer\" style=\"height:5px\"></tr>\n",
      "                <tr class='athing' id='23675370'>\n",
      "      <td align=\"right\" valign=\"top\" class=\"title\"><span class=\"rank\">23.</span></td>      <td valign=\"top\" class=\"votelinks\"><center><a id='up_23675370' href='vote?id=23675370&amp;how=up&amp;goto=news'><div class='votearrow' title='upvote'></div></a></center></td><td class=\"title\"><a href=\"item?id=23675370\" class=\"storylink\">Ask HN: How to improve my abstract thinking?</a></td></tr><tr><td colspan=\"2\"></td><td class=\"subtext\">\n",
      "        <span class=\"score\" id=\"score_23675370\">123 points</span> by <a href=\"user?id=max_\" class=\"hnuser\">max_</a> <span class=\"age\"><a href=\"item?id=23675370\">6 hours ago</a></span> <span id=\"unv_23675370\"></span> | <a href=\"hide?id=23675370&amp;goto=news\">hide</a> | <a href=\"item?id=23675370\">56&nbsp;comments</a>              </td></tr>\n",
      "      <tr class=\"spacer\" style=\"height:5px\"></tr>\n",
      "                <tr class='athing' id='23691547'>\n",
      "      <td align=\"right\" valign=\"top\" class=\"title\"><span class=\"rank\">24.</span></td>      <td valign=\"top\" class=\"votelinks\"><center><a id='up_23691547' href='vote?id=23691547&amp;how=up&amp;goto=news'><div class='votearrow' title='upvote'></div></a></center></td><td class=\"title\"><a href=\"https://blog.c0nrad.io/hydrogen/\" class=\"storylink\">3D Electron Orbitals of Hydrogen</a><span class=\"sitebit comhead\"> (<a href=\"from?site=c0nrad.io\"><span class=\"sitestr\">c0nrad.io</span></a>)</span></td></tr><tr><td colspan=\"2\"></td><td class=\"subtext\">\n",
      "        <span class=\"score\" id=\"score_23691547\">71 points</span> by <a href=\"user?id=c0nrad\" class=\"hnuser\">c0nrad</a> <span class=\"age\"><a href=\"item?id=23691547\">6 hours ago</a></span> <span id=\"unv_23691547\"></span> | <a href=\"hide?id=23691547&amp;goto=news\">hide</a> | <a href=\"item?id=23691547\">33&nbsp;comments</a>              </td></tr>\n",
      "      <tr class=\"spacer\" style=\"height:5px\"></tr>\n",
      "                <tr class='athing' id='23693023'>\n",
      "      <td align=\"right\" valign=\"top\" class=\"title\"><span class=\"rank\">25.</span></td>      <td valign=\"top\" class=\"votelinks\"><center><a id='up_23693023' href='vote?id=23693023&amp;how=up&amp;goto=news'><div class='votearrow' title='upvote'></div></a></center></td><td class=\"title\"><a href=\"https://www.reuters.com/article/us-usa-judges-misconduct-specialreport/special-report-thousands-of-us-judges-who-broke-laws-oaths-remained-on-the-bench-idUSKBN2411WG\" class=\"storylink\">Thousands of U.S. judges who broke laws, oaths remained on the bench</a><span class=\"sitebit comhead\"> (<a href=\"from?site=reuters.com\"><span class=\"sitestr\">reuters.com</span></a>)</span></td></tr><tr><td colspan=\"2\"></td><td class=\"subtext\">\n",
      "        <span class=\"score\" id=\"score_23693023\">217 points</span> by <a href=\"user?id=hhs\" class=\"hnuser\">hhs</a> <span class=\"age\"><a href=\"item?id=23693023\">4 hours ago</a></span> <span id=\"unv_23693023\"></span> | <a href=\"hide?id=23693023&amp;goto=news\">hide</a> | <a href=\"item?id=23693023\">133&nbsp;comments</a>              </td></tr>\n",
      "      <tr class=\"spacer\" style=\"height:5px\"></tr>\n",
      "                <tr class='athing' id='23690967'>\n",
      "      <td align=\"right\" valign=\"top\" class=\"title\"><span class=\"rank\">26.</span></td>      <td valign=\"top\" class=\"votelinks\"><center><a id='up_23690967' href='vote?id=23690967&amp;how=up&amp;goto=news'><div class='votearrow' title='upvote'></div></a></center></td><td class=\"title\"><a href=\"https://blog.google/products/hardware/focus-helpful-devices-google-acquires-north/\" class=\"storylink\">Google Acquires North</a><span class=\"sitebit comhead\"> (<a href=\"from?site=blog.google\"><span class=\"sitestr\">blog.google</span></a>)</span></td></tr><tr><td colspan=\"2\"></td><td class=\"subtext\">\n",
      "        <span class=\"score\" id=\"score_23690967\">201 points</span> by <a href=\"user?id=caution\" class=\"hnuser\">caution</a> <span class=\"age\"><a href=\"item?id=23690967\">7 hours ago</a></span> <span id=\"unv_23690967\"></span> | <a href=\"hide?id=23690967&amp;goto=news\">hide</a> | <a href=\"item?id=23690967\">170&nbsp;comments</a>              </td></tr>\n",
      "      <tr class=\"spacer\" style=\"height:5px\"></tr>\n",
      "                <tr class='athing' id='23694137'>\n",
      "      <td align=\"right\" valign=\"top\" class=\"title\"><span class=\"rank\">27.</span></td>      <td></td><td class=\"title\"><a href=\"https://www.tesorio.com/careers#job-openings\" class=\"storylink\" rel=\"nofollow\">Tesorio (YC S15) is hiring managers and engineers – join our distributed team</a><span class=\"sitebit comhead\"> (<a href=\"from?site=tesorio.com\"><span class=\"sitestr\">tesorio.com</span></a>)</span></td></tr><tr><td colspan=\"2\"></td><td class=\"subtext\">\n",
      "        <span class=\"age\"><a href=\"item?id=23694137\">2 hours ago</a></span> | <a href=\"hide?id=23694137&amp;goto=news\">hide</a>      </td></tr>\n",
      "      <tr class=\"spacer\" style=\"height:5px\"></tr>\n",
      "                <tr class='athing' id='23675279'>\n",
      "      <td align=\"right\" valign=\"top\" class=\"title\"><span class=\"rank\">28.</span></td>      <td valign=\"top\" class=\"votelinks\"><center><a id='up_23675279' href='vote?id=23675279&amp;how=up&amp;goto=news'><div class='votearrow' title='upvote'></div></a></center></td><td class=\"title\"><a href=\"https://pdmethods.com\" class=\"storylink\">Product Discovery Methods</a><span class=\"sitebit comhead\"> (<a href=\"from?site=pdmethods.com\"><span class=\"sitestr\">pdmethods.com</span></a>)</span></td></tr><tr><td colspan=\"2\"></td><td class=\"subtext\">\n",
      "        <span class=\"score\" id=\"score_23675279\">25 points</span> by <a href=\"user?id=kevnguy\" class=\"hnuser\">kevnguy</a> <span class=\"age\"><a href=\"item?id=23675279\">4 hours ago</a></span> <span id=\"unv_23675279\"></span> | <a href=\"hide?id=23675279&amp;goto=news\">hide</a> | <a href=\"item?id=23675279\">2&nbsp;comments</a>              </td></tr>\n",
      "      <tr class=\"spacer\" style=\"height:5px\"></tr>\n",
      "                <tr class='athing' id='23695265'>\n",
      "      <td align=\"right\" valign=\"top\" class=\"title\"><span class=\"rank\">29.</span></td>      <td valign=\"top\" class=\"votelinks\"><center><a id='up_23695265' href='vote?id=23695265&amp;how=up&amp;goto=news'><div class='votearrow' title='upvote'></div></a></center></td><td class=\"title\"><a href=\"https://hackaday.com/2020/06/30/your-own-open-source-asic-skywater-pdf-plans-first-130-nm-wafer-in-2020/\" class=\"storylink\" rel=\"nofollow\">SkyWater-PDF Plans First 130 Nm Wafer in 2020</a><span class=\"sitebit comhead\"> (<a href=\"from?site=hackaday.com\"><span class=\"sitestr\">hackaday.com</span></a>)</span></td></tr><tr><td colspan=\"2\"></td><td class=\"subtext\">\n",
      "        <span class=\"score\" id=\"score_23695265\">3 points</span> by <a href=\"user?id=mmastrac\" class=\"hnuser\">mmastrac</a> <span class=\"age\"><a href=\"item?id=23695265\">50 minutes ago</a></span> <span id=\"unv_23695265\"></span> | <a href=\"hide?id=23695265&amp;goto=news\">hide</a> | <a href=\"item?id=23695265\">discuss</a>              </td></tr>\n",
      "      <tr class=\"spacer\" style=\"height:5px\"></tr>\n",
      "                <tr class='athing' id='23689667'>\n",
      "      <td align=\"right\" valign=\"top\" class=\"title\"><span class=\"rank\">30.</span></td>      <td valign=\"top\" class=\"votelinks\"><center><a id='up_23689667' href='vote?id=23689667&amp;how=up&amp;goto=news'><div class='votearrow' title='upvote'></div></a></center></td><td class=\"title\"><a href=\"https://www.sciencealert.com/some-people-can-t-picture-things-in-their-mind-and-it-might-make-it-hard-for-them-to-remember\" class=\"storylink\">People who can't see things in their mind could have memory trouble too: study</a><span class=\"sitebit comhead\"> (<a href=\"from?site=sciencealert.com\"><span class=\"sitestr\">sciencealert.com</span></a>)</span></td></tr><tr><td colspan=\"2\"></td><td class=\"subtext\">\n",
      "        <span class=\"score\" id=\"score_23689667\">52 points</span> by <a href=\"user?id=lnyan\" class=\"hnuser\">lnyan</a> <span class=\"age\"><a href=\"item?id=23689667\">9 hours ago</a></span> <span id=\"unv_23689667\"></span> | <a href=\"hide?id=23689667&amp;goto=news\">hide</a> | <a href=\"item?id=23689667\">96&nbsp;comments</a>              </td></tr>\n",
      "      <tr class=\"spacer\" style=\"height:5px\"></tr>\n",
      "            <tr class=\"morespace\" style=\"height:10px\"></tr><tr><td colspan=\"2\"></td><td class=\"title\"><a href=\"news?p=2\" class=\"morelink\" rel=\"next\">More</a></td></tr>\n",
      "  </table>\n",
      "</td></tr>\n",
      "<tr><td><img src=\"s.gif\" height=\"10\" width=\"0\"><table width=\"100%\" cellspacing=\"0\" cellpadding=\"1\"><tr><td bgcolor=\"#ff6600\"></td></tr></table><br><center><span class=\"yclinks\"><a href=\"newsguidelines.html\">Guidelines</a>\n",
      "        | <a href=\"newsfaq.html\">FAQ</a>\n",
      "        | <a href=\"mailto:hn@ycombinator.com\">Support</a>\n",
      "        | <a href=\"https://github.com/HackerNews/API\">API</a>\n",
      "        | <a href=\"security.html\">Security</a>\n",
      "        | <a href=\"lists\">Lists</a>\n",
      "        | <a href=\"bookmarklet.html\" rel=\"nofollow\">Bookmarklet</a>\n",
      "        | <a href=\"http://www.ycombinator.com/legal/\">Legal</a>\n",
      "        | <a href=\"http://www.ycombinator.com/apply/\">Apply to YC</a>\n",
      "        | <a href=\"mailto:hn@ycombinator.com\">Contact</a></span><br><br><form method=\"get\" action=\"//hn.algolia.com/\">Search:\n",
      "          <input type=\"text\" name=\"q\" value=\"\" size=\"17\" autocorrect=\"off\" spellcheck=\"false\" autocapitalize=\"off\" autocomplete=\"false\"></form>\n",
      "            </center></td></tr>\n",
      "      </table></center></body><script type='text/javascript' src='hn.js?lWjTR7Bo1FobbZdHztpg'></script></html>\n",
      "\n"
     ]
    }
   ],
   "source": [
    "import requests\n",
    "\n",
    "# Fetch a web page\n",
    "r = requests.get(\"https://news.ycombinator.com\")\n",
    "print(r.text)"
   ]
  },
  {
   "cell_type": "markdown",
   "metadata": {},
   "source": [
    "There are many raw things we want to discard, so lets use regular expression"
   ]
  },
  {
   "cell_type": "code",
   "execution_count": 8,
   "metadata": {
    "scrolled": false
   },
   "outputs": [
    {
     "name": "stdout",
     "output_type": "stream",
     "text": [
      "\n",
      "        \n",
      "          \n",
      "        Hacker News\n",
      "        \n",
      "                  Hacker News\n",
      "              new | past | comments | ask | show | jobs | submit            \n",
      "                              login\n",
      "                          \n",
      "              \n",
      "\n",
      "              \n",
      "      1.      The End of the Redis Adventure (antirez.com)\n",
      "        1659 points by kristoff_it 9 hours ago  | hide | 229&nbsp;comments              \n",
      "      \n",
      "                \n",
      "      2.      Linear – A fast issue tracker (linear.app)\n",
      "        264 points by tommoor 4 hours ago  | hide | 124&nbsp;comments              \n",
      "      \n",
      "                \n",
      "      3.      Learn Lua in 15 Minutes (2013) (tylerneylon.com)\n",
      "        48 points by jakogut 1 hour ago  | hide | 21&nbsp;comments              \n",
      "      \n",
      "                \n",
      "      4.      Holographic optics for thin and lightweight virtual reality (fb.com)\n",
      "        223 points by onurcel 5 hours ago  | hide | 49&nbsp;comments              \n",
      "      \n",
      "                \n",
      "      5.      The world should think better about catastrophic and existential risks (economist.com)\n",
      "        60 points by prostoalex 2 hours ago  | hide | 28&nbsp;comments              \n",
      "      \n",
      "                \n",
      "      6.      How Did Vim Become So Popular? (pragmaticpineapple.com)\n",
      "        23 points by nikolalsvk 1 hour ago  | hide | 33&nbsp;comments              \n",
      "      \n",
      "                \n",
      "      7.      Mozilla Common Voice Dataset – 7200 hrs, 54 languages (discourse.mozilla.org)\n",
      "        8 points by dabinat 35 minutes ago  | hide | discuss              \n",
      "      \n",
      "                \n",
      "      8.      All about Modelica: An equation-based language for modeling physical systems (marcobonvini.com)\n",
      "        90 points by macro-b 4 hours ago  | hide | 18&nbsp;comments              \n",
      "      \n",
      "                \n",
      "      9.      New Mac ransomware spreading through piracy (malwarebytes.com)\n",
      "        7 points by 1915cb1f 49 minutes ago  | hide | discuss              \n",
      "      \n",
      "                \n",
      "      10.      System Hardening in Android 11 (googleblog.com)\n",
      "        116 points by theafh 5 hours ago  | hide | 99&nbsp;comments              \n",
      "      \n",
      "                \n",
      "      11.      Returning from a Year of Isolation in Antarctica (rd.com)\n",
      "        59 points by op03 3 hours ago  | hide | 25&nbsp;comments              \n",
      "      \n",
      "                \n",
      "      12.      YouTube TV sharply increases monthly subscription to $64.99 (theverge.com)\n",
      "        55 points by jbredeche 3 hours ago  | hide | 35&nbsp;comments              \n",
      "      \n",
      "                \n",
      "      13.      Hyperapp – A tiny framework for building web interfaces (hyperapp.dev)\n",
      "        342 points by Al0neStar 11 hours ago  | hide | 155&nbsp;comments              \n",
      "      \n",
      "                \n",
      "      14.      Disclosure: Another macOS privacy protections bypass (lapcatsoftware.com)\n",
      "        322 points by sillysaurusx 10 hours ago  | hide | 86&nbsp;comments              \n",
      "      \n",
      "                \n",
      "      15.      How well do cars do in crash tests they're not optimized for? (danluu.com)\n",
      "        219 points by weinzierl 9 hours ago  | hide | 278&nbsp;comments              \n",
      "      \n",
      "                \n",
      "      16.      Must ride mule to and from work location (deepsouthventures.com)\n",
      "        144 points by eightturn 7 hours ago  | hide | 30&nbsp;comments              \n",
      "      \n",
      "                \n",
      "      17.      NovaChat: Multi-Network Chat (nova.chat)\n",
      "        57 points by memexy 4 hours ago  | hide | 49&nbsp;comments              \n",
      "      \n",
      "                \n",
      "      18.      Missing Structure in Technical Discussions (kvark.github.io)\n",
      "        90 points by MindGods 6 hours ago  | hide | 21&nbsp;comments              \n",
      "      \n",
      "                \n",
      "      19.      400 TB Storage Drives in Our Future: Fujifilm (anandtech.com)\n",
      "        128 points by caution 8 hours ago  | hide | 74&nbsp;comments              \n",
      "      \n",
      "                \n",
      "      20.      EFF and heavyweight legal team will defend Internet Archive against publishers (torrentfreak.com)\n",
      "        390 points by toomuchtodo 6 hours ago  | hide | 165&nbsp;comments              \n",
      "      \n",
      "                \n",
      "      21.      Git Repo of Police Brutality During the 2020 George Floyd Protests (github.com)\n",
      "        282 points by Glench 3 hours ago  | hide | 131&nbsp;comments              \n",
      "      \n",
      "                \n",
      "      22.      Mallards ferry fish eggs between waterbodies (audubon.org)\n",
      "        47 points by Someone 5 hours ago  | hide | 9&nbsp;comments              \n",
      "      \n",
      "                \n",
      "      23.      Ask HN: How to improve my abstract thinking?\n",
      "        123 points by max_ 6 hours ago  | hide | 56&nbsp;comments              \n",
      "      \n",
      "                \n",
      "      24.      3D Electron Orbitals of Hydrogen (c0nrad.io)\n",
      "        71 points by c0nrad 6 hours ago  | hide | 33&nbsp;comments              \n",
      "      \n",
      "                \n",
      "      25.      Thousands of U.S. judges who broke laws, oaths remained on the bench (reuters.com)\n",
      "        217 points by hhs 4 hours ago  | hide | 133&nbsp;comments              \n",
      "      \n",
      "                \n",
      "      26.      Google Acquires North (blog.google)\n",
      "        201 points by caution 7 hours ago  | hide | 170&nbsp;comments              \n",
      "      \n",
      "                \n",
      "      27.      Tesorio (YC S15) is hiring managers and engineers – join our distributed team (tesorio.com)\n",
      "        2 hours ago | hide      \n",
      "      \n",
      "                \n",
      "      28.      Product Discovery Methods (pdmethods.com)\n",
      "        25 points by kevnguy 4 hours ago  | hide | 2&nbsp;comments              \n",
      "      \n",
      "                \n",
      "      29.      SkyWater-PDF Plans First 130 Nm Wafer in 2020 (hackaday.com)\n",
      "        3 points by mmastrac 50 minutes ago  | hide | discuss              \n",
      "      \n",
      "                \n",
      "      30.      People who can't see things in their mind could have memory trouble too: study (sciencealert.com)\n",
      "        52 points by lnyan 9 hours ago  | hide | 96&nbsp;comments              \n",
      "      \n",
      "            More\n",
      "  \n",
      "\n",
      "Guidelines\n",
      "        | FAQ\n",
      "        | Support\n",
      "        | API\n",
      "        | Security\n",
      "        | Lists\n",
      "        | Bookmarklet\n",
      "        | Legal\n",
      "        | Apply to YC\n",
      "        | ContactSearch:\n",
      "          \n",
      "            \n",
      "      \n",
      "\n"
     ]
    }
   ],
   "source": [
    "import re\n",
    "\n",
    "# Remove HTML tags using RegEx\n",
    "pattern = re.compile(r'<.*?>')  # tags look like <...>\n",
    "print(pattern.sub('', r.text))  # replace them with blank"
   ]
  },
  {
   "cell_type": "markdown",
   "metadata": {},
   "source": [
    "So, we can see that regular expression is also not really helpful to remove HTML tags, so lets use beautiful soup for it.\n",
    "\n",
    "There are many free spaces between the text, we want to remove them. So, lets do it."
   ]
  },
  {
   "cell_type": "code",
   "execution_count": 9,
   "metadata": {},
   "outputs": [
    {
     "name": "stdout",
     "output_type": "stream",
     "text": [
      "\n",
      "        \n",
      "          \n",
      "        Hacker News\n",
      "        \n",
      "                  Hacker News\n",
      "              new | past | comments | ask | show | jobs | submit            \n",
      "                              login\n",
      "                          \n",
      "              \n",
      "\n",
      "              \n",
      "      1.      The End of the Redis Adventure (antirez.com)\n",
      "        1659 points by kristoff_it 9 hours ago  | hide | 229 comments              \n",
      "      \n",
      "                \n",
      "      2.      Linear – A fast issue tracker (linear.app)\n",
      "        264 points by tommoor 4 hours ago  | hide | 124 comments              \n",
      "      \n",
      "                \n",
      "      3.      Learn Lua in 15 Minutes (2013) (tylerneylon.com)\n",
      "        48 points by jakogut 1 hour ago  | hide | 21 comments              \n",
      "      \n",
      "                \n",
      "      4.      Holographic optics for thin and lightweight virtual reality (fb.com)\n",
      "        223 points by onurcel 5 hours ago  | hide | 49 comments              \n",
      "      \n",
      "                \n",
      "      5.      The world should think better about catastrophic and existential risks (economist.com)\n",
      "        60 points by prostoalex 2 hours ago  | hide | 28 comments              \n",
      "      \n",
      "                \n",
      "      6.      How Did Vim Become So Popular? (pragmaticpineapple.com)\n",
      "        23 points by nikolalsvk 1 hour ago  | hide | 33 comments              \n",
      "      \n",
      "                \n",
      "      7.      Mozilla Common Voice Dataset – 7200 hrs, 54 languages (discourse.mozilla.org)\n",
      "        8 points by dabinat 35 minutes ago  | hide | discuss              \n",
      "      \n",
      "                \n",
      "      8.      All about Modelica: An equation-based language for modeling physical systems (marcobonvini.com)\n",
      "        90 points by macro-b 4 hours ago  | hide | 18 comments              \n",
      "      \n",
      "                \n",
      "      9.      New Mac ransomware spreading through piracy (malwarebytes.com)\n",
      "        7 points by 1915cb1f 49 minutes ago  | hide | discuss              \n",
      "      \n",
      "                \n",
      "      10.      System Hardening in Android 11 (googleblog.com)\n",
      "        116 points by theafh 5 hours ago  | hide | 99 comments              \n",
      "      \n",
      "                \n",
      "      11.      Returning from a Year of Isolation in Antarctica (rd.com)\n",
      "        59 points by op03 3 hours ago  | hide | 25 comments              \n",
      "      \n",
      "                \n",
      "      12.      YouTube TV sharply increases monthly subscription to $64.99 (theverge.com)\n",
      "        55 points by jbredeche 3 hours ago  | hide | 35 comments              \n",
      "      \n",
      "                \n",
      "      13.      Hyperapp – A tiny framework for building web interfaces (hyperapp.dev)\n",
      "        342 points by Al0neStar 11 hours ago  | hide | 155 comments              \n",
      "      \n",
      "                \n",
      "      14.      Disclosure: Another macOS privacy protections bypass (lapcatsoftware.com)\n",
      "        322 points by sillysaurusx 10 hours ago  | hide | 86 comments              \n",
      "      \n",
      "                \n",
      "      15.      How well do cars do in crash tests they're not optimized for? (danluu.com)\n",
      "        219 points by weinzierl 9 hours ago  | hide | 278 comments              \n",
      "      \n",
      "                \n",
      "      16.      Must ride mule to and from work location (deepsouthventures.com)\n",
      "        144 points by eightturn 7 hours ago  | hide | 30 comments              \n",
      "      \n",
      "                \n",
      "      17.      NovaChat: Multi-Network Chat (nova.chat)\n",
      "        57 points by memexy 4 hours ago  | hide | 49 comments              \n",
      "      \n",
      "                \n",
      "      18.      Missing Structure in Technical Discussions (kvark.github.io)\n",
      "        90 points by MindGods 6 hours ago  | hide | 21 comments              \n",
      "      \n",
      "                \n",
      "      19.      400 TB Storage Drives in Our Future: Fujifilm (anandtech.com)\n",
      "        128 points by caution 8 hours ago  | hide | 74 comments              \n",
      "      \n",
      "                \n",
      "      20.      EFF and heavyweight legal team will defend Internet Archive against publishers (torrentfreak.com)\n",
      "        390 points by toomuchtodo 6 hours ago  | hide | 165 comments              \n",
      "      \n",
      "                \n",
      "      21.      Git Repo of Police Brutality During the 2020 George Floyd Protests (github.com)\n",
      "        282 points by Glench 3 hours ago  | hide | 131 comments              \n",
      "      \n",
      "                \n",
      "      22.      Mallards ferry fish eggs between waterbodies (audubon.org)\n",
      "        47 points by Someone 5 hours ago  | hide | 9 comments              \n",
      "      \n",
      "                \n",
      "      23.      Ask HN: How to improve my abstract thinking?\n",
      "        123 points by max_ 6 hours ago  | hide | 56 comments              \n",
      "      \n",
      "                \n",
      "      24.      3D Electron Orbitals of Hydrogen (c0nrad.io)\n",
      "        71 points by c0nrad 6 hours ago  | hide | 33 comments              \n",
      "      \n",
      "                \n",
      "      25.      Thousands of U.S. judges who broke laws, oaths remained on the bench (reuters.com)\n",
      "        217 points by hhs 4 hours ago  | hide | 133 comments              \n",
      "      \n",
      "                \n",
      "      26.      Google Acquires North (blog.google)\n",
      "        201 points by caution 7 hours ago  | hide | 170 comments              \n",
      "      \n",
      "                \n",
      "      27.      Tesorio (YC S15) is hiring managers and engineers – join our distributed team (tesorio.com)\n",
      "        2 hours ago | hide      \n",
      "      \n",
      "                \n",
      "      28.      Product Discovery Methods (pdmethods.com)\n",
      "        25 points by kevnguy 4 hours ago  | hide | 2 comments              \n",
      "      \n",
      "                \n",
      "      29.      SkyWater-PDF Plans First 130 Nm Wafer in 2020 (hackaday.com)\n",
      "        3 points by mmastrac 50 minutes ago  | hide | discuss              \n",
      "      \n",
      "                \n",
      "      30.      People who can't see things in their mind could have memory trouble too: study (sciencealert.com)\n",
      "        52 points by lnyan 9 hours ago  | hide | 96 comments              \n",
      "      \n",
      "            More\n",
      "  \n",
      "\n",
      "Guidelines\n",
      "        | FAQ\n",
      "        | Support\n",
      "        | API\n",
      "        | Security\n",
      "        | Lists\n",
      "        | Bookmarklet\n",
      "        | Legal\n",
      "        | Apply to YC\n",
      "        | ContactSearch:\n",
      "          \n",
      "            \n",
      "      \n",
      "\n"
     ]
    }
   ],
   "source": [
    "from bs4 import BeautifulSoup\n",
    "\n",
    "# Remove HTML tags using Beautiful Soup library\n",
    "soup = BeautifulSoup(r.text, \"html5lib\")\n",
    "print(soup.get_text())"
   ]
  },
  {
   "cell_type": "markdown",
   "metadata": {},
   "source": [
    "First of all do this step\n",
    "\n",
    "1. Go to website: https://news.ycombinator.com\n",
    "2. Right click on the page anywhere, and click on \"Inspect\" to view the html code of the page.\n",
    "3. Find out the first class from the html code\n",
    "\n",
    "We actually want to collect all the classes and then discard them\n",
    "\n",
    "see the picture below\n",
    "\n",
    "![pic](cc.PNG)"
   ]
  },
  {
   "cell_type": "code",
   "execution_count": 13,
   "metadata": {
    "scrolled": true
   },
   "outputs": [
    {
     "data": {
      "text/plain": [
       "<tr class=\"athing\" id=\"23689549\">\n",
       "      <td align=\"right\" class=\"title\" valign=\"top\"><span class=\"rank\">1.</span></td>      <td class=\"votelinks\" valign=\"top\"><center><a href=\"vote?id=23689549&amp;how=up&amp;goto=news\" id=\"up_23689549\"><div class=\"votearrow\" title=\"upvote\"></div></a></center></td><td class=\"title\"><a class=\"storylink\" href=\"http://antirez.com/news/133\">The End of the Redis Adventure</a><span class=\"sitebit comhead\"> (<a href=\"from?site=antirez.com\"><span class=\"sitestr\">antirez.com</span></a>)</span></td></tr>"
      ]
     },
     "execution_count": 13,
     "metadata": {},
     "output_type": "execute_result"
    }
   ],
   "source": [
    "# Find all articles\n",
    "summaries = soup.find_all(\"tr\", class_=\"athing\")\n",
    "summaries[0]"
   ]
  },
  {
   "cell_type": "markdown",
   "metadata": {},
   "source": [
    "Since we want to fetch the plan text of the first title which is \"The End of the Redis Adventure\". \n",
    "So, look at the class which I extracted from the above text\n",
    "\n",
    "<a class=\"storylink\" href=\"http://antirez.com/news/133\">The End of the Redis Adventure</a>"
   ]
  },
  {
   "cell_type": "code",
   "execution_count": 14,
   "metadata": {},
   "outputs": [
    {
     "data": {
      "text/plain": [
       "'The End of the Redis Adventure'"
      ]
     },
     "execution_count": 14,
     "metadata": {},
     "output_type": "execute_result"
    }
   ],
   "source": [
    "# Extract title\n",
    "summaries[0].find(\"a\", class_=\"storylink\").get_text().strip()"
   ]
  },
  {
   "cell_type": "code",
   "execution_count": 20,
   "metadata": {},
   "outputs": [
    {
     "name": "stdout",
     "output_type": "stream",
     "text": [
      "30 Article summaries found. Sample:\n",
      "Article title 1:  The End of the Redis Adventure\n",
      "Article title 10:  Returning from a Year of Isolation in Antarctica\n"
     ]
    }
   ],
   "source": [
    "# Find all articles, extract titles\n",
    "articles = []\n",
    "summaries = soup.find_all(\"tr\", class_=\"athing\")\n",
    "for summary in summaries:\n",
    "    title = summary.find(\"a\", class_=\"storylink\").get_text().strip()\n",
    "    articles.append((title))\n",
    "\n",
    "print(len(articles), \"Article summaries found. Sample:\")\n",
    "print('Article title 1: ',articles[0])\n",
    "print('Article title 10: ',articles[10])"
   ]
  },
  {
   "cell_type": "markdown",
   "metadata": {},
   "source": [
    "Lets Creat a dataframe and store all the tiles in the dataframe"
   ]
  },
  {
   "cell_type": "code",
   "execution_count": 31,
   "metadata": {},
   "outputs": [
    {
     "data": {
      "text/html": [
       "<div>\n",
       "<style scoped>\n",
       "    .dataframe tbody tr th:only-of-type {\n",
       "        vertical-align: middle;\n",
       "    }\n",
       "\n",
       "    .dataframe tbody tr th {\n",
       "        vertical-align: top;\n",
       "    }\n",
       "\n",
       "    .dataframe thead th {\n",
       "        text-align: right;\n",
       "    }\n",
       "</style>\n",
       "<table border=\"1\" class=\"dataframe\">\n",
       "  <thead>\n",
       "    <tr style=\"text-align: right;\">\n",
       "      <th></th>\n",
       "      <th>0</th>\n",
       "    </tr>\n",
       "  </thead>\n",
       "  <tbody>\n",
       "    <tr>\n",
       "      <th>0</th>\n",
       "      <td>The End of the Redis Adventure</td>\n",
       "    </tr>\n",
       "    <tr>\n",
       "      <th>1</th>\n",
       "      <td>Linear – A fast issue tracker</td>\n",
       "    </tr>\n",
       "    <tr>\n",
       "      <th>2</th>\n",
       "      <td>Learn Lua in 15 Minutes (2013)</td>\n",
       "    </tr>\n",
       "    <tr>\n",
       "      <th>3</th>\n",
       "      <td>Holographic optics for thin and lightweight vi...</td>\n",
       "    </tr>\n",
       "    <tr>\n",
       "      <th>4</th>\n",
       "      <td>The world should think better about catastroph...</td>\n",
       "    </tr>\n",
       "  </tbody>\n",
       "</table>\n",
       "</div>"
      ],
      "text/plain": [
       "                                                   0\n",
       "0                     The End of the Redis Adventure\n",
       "1                      Linear – A fast issue tracker\n",
       "2                     Learn Lua in 15 Minutes (2013)\n",
       "3  Holographic optics for thin and lightweight vi...\n",
       "4  The world should think better about catastroph..."
      ]
     },
     "execution_count": 31,
     "metadata": {},
     "output_type": "execute_result"
    }
   ],
   "source": [
    "import pandas as pd\n",
    "data=pd.DataFrame(articles)\n",
    "data.head()"
   ]
  },
  {
   "cell_type": "markdown",
   "metadata": {
    "collapsed": true
   },
   "source": [
    "## Normalization"
   ]
  },
  {
   "cell_type": "markdown",
   "metadata": {},
   "source": [
    "### Case Normalization"
   ]
  },
  {
   "cell_type": "code",
   "execution_count": 32,
   "metadata": {},
   "outputs": [
    {
     "name": "stdout",
     "output_type": "stream",
     "text": [
      "The first time you see The Second Renaissance it may look boring. Look at it at least twice and definitely watch part 2. It will change your view of the matrix. Are the human people the ones who started the war ? Is AI a bad thing ?\n"
     ]
    }
   ],
   "source": [
    "# Sample text\n",
    "text = \"The first time you see The Second Renaissance it may look boring. Look at it at least twice and definitely watch part 2. It will change your view of the matrix. Are the human people the ones who started the war ? Is AI a bad thing ?\"\n",
    "print(text)"
   ]
  },
  {
   "cell_type": "code",
   "execution_count": 33,
   "metadata": {},
   "outputs": [
    {
     "name": "stdout",
     "output_type": "stream",
     "text": [
      "the first time you see the second renaissance it may look boring. look at it at least twice and definitely watch part 2. it will change your view of the matrix. are the human people the ones who started the war ? is ai a bad thing ?\n"
     ]
    }
   ],
   "source": [
    "# Convert to lowercase\n",
    "text = text.lower() \n",
    "print(text)"
   ]
  },
  {
   "cell_type": "markdown",
   "metadata": {},
   "source": [
    "### Punctuation Removal"
   ]
  },
  {
   "cell_type": "code",
   "execution_count": 37,
   "metadata": {},
   "outputs": [
    {
     "name": "stdout",
     "output_type": "stream",
     "text": [
      "the first time you see the second renaissance it may look boring  look at it at least twice and definitely watch part 2  it will change your view of the matrix  are the human people the ones who started the war   is ai a bad thing  \n"
     ]
    }
   ],
   "source": [
    "import re\n",
    "\n",
    "# Remove punctuation characters\n",
    "text = re.sub(r\"[^a-zA-Z0-9]\", \" \", text) \n",
    "print(text)"
   ]
  },
  {
   "cell_type": "markdown",
   "metadata": {},
   "source": [
    "## Tokenization"
   ]
  },
  {
   "cell_type": "code",
   "execution_count": 38,
   "metadata": {},
   "outputs": [
    {
     "name": "stdout",
     "output_type": "stream",
     "text": [
      "['the', 'first', 'time', 'you', 'see', 'the', 'second', 'renaissance', 'it', 'may', 'look', 'boring', 'look', 'at', 'it', 'at', 'least', 'twice', 'and', 'definitely', 'watch', 'part', '2', 'it', 'will', 'change', 'your', 'view', 'of', 'the', 'matrix', 'are', 'the', 'human', 'people', 'the', 'ones', 'who', 'started', 'the', 'war', 'is', 'ai', 'a', 'bad', 'thing']\n"
     ]
    }
   ],
   "source": [
    "# Split text into tokens (words)\n",
    "words = text.split()\n",
    "print(words)"
   ]
  },
  {
   "cell_type": "markdown",
   "metadata": {},
   "source": [
    "### NLTK: Natural Language ToolKit"
   ]
  },
  {
   "cell_type": "code",
   "execution_count": 39,
   "metadata": {},
   "outputs": [],
   "source": [
    "import os\n",
    "import nltk\n",
    "nltk.data.path.append(os.path.join(os.getcwd(), \"nltk_data\"))"
   ]
  },
  {
   "cell_type": "code",
   "execution_count": 40,
   "metadata": {},
   "outputs": [
    {
     "name": "stdout",
     "output_type": "stream",
     "text": [
      "Dr. Smith graduated from the University of Washington. He later started an analytics firm called Lux, which catered to enterprise customers.\n"
     ]
    }
   ],
   "source": [
    "# Another sample text\n",
    "text = \"Dr. Smith graduated from the University of Washington. He later started an analytics firm called Lux, which catered to enterprise customers.\"\n",
    "print(text)"
   ]
  },
  {
   "cell_type": "code",
   "execution_count": 41,
   "metadata": {},
   "outputs": [
    {
     "name": "stdout",
     "output_type": "stream",
     "text": [
      "['Dr.', 'Smith', 'graduated', 'from', 'the', 'University', 'of', 'Washington', '.', 'He', 'later', 'started', 'an', 'analytics', 'firm', 'called', 'Lux', ',', 'which', 'catered', 'to', 'enterprise', 'customers', '.']\n"
     ]
    }
   ],
   "source": [
    "from nltk.tokenize import word_tokenize\n",
    "\n",
    "# Split text into words using NLTK\n",
    "words = word_tokenize(text)\n",
    "print(words)"
   ]
  },
  {
   "cell_type": "code",
   "execution_count": 42,
   "metadata": {},
   "outputs": [
    {
     "name": "stdout",
     "output_type": "stream",
     "text": [
      "['Dr. Smith graduated from the University of Washington.', 'He later started an analytics firm called Lux, which catered to enterprise customers.']\n"
     ]
    }
   ],
   "source": [
    "from nltk.tokenize import sent_tokenize\n",
    "\n",
    "# Split text into sentences\n",
    "sentences = sent_tokenize(text)\n",
    "print(sentences)"
   ]
  },
  {
   "cell_type": "code",
   "execution_count": 43,
   "metadata": {},
   "outputs": [
    {
     "name": "stdout",
     "output_type": "stream",
     "text": [
      "['i', 'me', 'my', 'myself', 'we', 'our', 'ours', 'ourselves', 'you', \"you're\", \"you've\", \"you'll\", \"you'd\", 'your', 'yours', 'yourself', 'yourselves', 'he', 'him', 'his', 'himself', 'she', \"she's\", 'her', 'hers', 'herself', 'it', \"it's\", 'its', 'itself', 'they', 'them', 'their', 'theirs', 'themselves', 'what', 'which', 'who', 'whom', 'this', 'that', \"that'll\", 'these', 'those', 'am', 'is', 'are', 'was', 'were', 'be', 'been', 'being', 'have', 'has', 'had', 'having', 'do', 'does', 'did', 'doing', 'a', 'an', 'the', 'and', 'but', 'if', 'or', 'because', 'as', 'until', 'while', 'of', 'at', 'by', 'for', 'with', 'about', 'against', 'between', 'into', 'through', 'during', 'before', 'after', 'above', 'below', 'to', 'from', 'up', 'down', 'in', 'out', 'on', 'off', 'over', 'under', 'again', 'further', 'then', 'once', 'here', 'there', 'when', 'where', 'why', 'how', 'all', 'any', 'both', 'each', 'few', 'more', 'most', 'other', 'some', 'such', 'no', 'nor', 'not', 'only', 'own', 'same', 'so', 'than', 'too', 'very', 's', 't', 'can', 'will', 'just', 'don', \"don't\", 'should', \"should've\", 'now', 'd', 'll', 'm', 'o', 're', 've', 'y', 'ain', 'aren', \"aren't\", 'couldn', \"couldn't\", 'didn', \"didn't\", 'doesn', \"doesn't\", 'hadn', \"hadn't\", 'hasn', \"hasn't\", 'haven', \"haven't\", 'isn', \"isn't\", 'ma', 'mightn', \"mightn't\", 'mustn', \"mustn't\", 'needn', \"needn't\", 'shan', \"shan't\", 'shouldn', \"shouldn't\", 'wasn', \"wasn't\", 'weren', \"weren't\", 'won', \"won't\", 'wouldn', \"wouldn't\"]\n"
     ]
    }
   ],
   "source": [
    "# List stop words\n",
    "from nltk.corpus import stopwords\n",
    "print(stopwords.words(\"english\"))"
   ]
  },
  {
   "cell_type": "code",
   "execution_count": 44,
   "metadata": {},
   "outputs": [
    {
     "name": "stdout",
     "output_type": "stream",
     "text": [
      "['the', 'first', 'time', 'you', 'see', 'the', 'second', 'renaissance', 'it', 'may', 'look', 'boring', 'look', 'at', 'it', 'at', 'least', 'twice', 'and', 'definitely', 'watch', 'part', '2', 'it', 'will', 'change', 'your', 'view', 'of', 'the', 'matrix', 'are', 'the', 'human', 'people', 'the', 'ones', 'who', 'started', 'the', 'war', 'is', 'ai', 'a', 'bad', 'thing']\n"
     ]
    }
   ],
   "source": [
    "# Reset text\n",
    "text = \"The first time you see The Second Renaissance it may look boring. Look at it at least twice and definitely watch part 2. It will change your view of the matrix. Are the human people the ones who started the war ? Is AI a bad thing ?\"\n",
    "\n",
    "# Normalize it\n",
    "text = re.sub(r\"[^a-zA-Z0-9]\", \" \", text.lower())\n",
    "\n",
    "# Tokenize it\n",
    "words = text.split()\n",
    "print(words)"
   ]
  },
  {
   "cell_type": "code",
   "execution_count": 45,
   "metadata": {},
   "outputs": [
    {
     "name": "stdout",
     "output_type": "stream",
     "text": [
      "['first', 'time', 'see', 'second', 'renaissance', 'may', 'look', 'boring', 'look', 'least', 'twice', 'definitely', 'watch', 'part', '2', 'change', 'view', 'matrix', 'human', 'people', 'ones', 'started', 'war', 'ai', 'bad', 'thing']\n"
     ]
    }
   ],
   "source": [
    "# Remove stop words\n",
    "words = [w for w in words if w not in stopwords.words(\"english\")]\n",
    "print(words)"
   ]
  },
  {
   "cell_type": "markdown",
   "metadata": {},
   "source": [
    "### POS"
   ]
  },
  {
   "cell_type": "code",
   "execution_count": 47,
   "metadata": {},
   "outputs": [
    {
     "data": {
      "text/plain": [
       "[('I', 'PRP'),\n",
       " ('shot', 'VBP'),\n",
       " ('an', 'DT'),\n",
       " ('elephant', 'NN'),\n",
       " ('in', 'IN'),\n",
       " ('my', 'PRP$'),\n",
       " ('pajamas', 'NN')]"
      ]
     },
     "execution_count": 47,
     "metadata": {},
     "output_type": "execute_result"
    }
   ],
   "source": [
    "from nltk import pos_tag\n",
    "\n",
    "sentence = word_tokenize(\"I shot an elephant in my pajamas\")\n",
    "pos_tag(sentence)"
   ]
  },
  {
   "cell_type": "markdown",
   "metadata": {},
   "source": [
    "### Sentence Parsing"
   ]
  },
  {
   "cell_type": "code",
   "execution_count": 49,
   "metadata": {},
   "outputs": [
    {
     "name": "stdout",
     "output_type": "stream",
     "text": [
      "(S\n",
      "  (NP I)\n",
      "  (VP\n",
      "    (VP (V shot) (NP (Det an) (N elephant)))\n",
      "    (PP (P in) (NP (Det my) (N pajamas)))))\n",
      "(S\n",
      "  (NP I)\n",
      "  (VP\n",
      "    (V shot)\n",
      "    (NP (Det an) (N elephant) (PP (P in) (NP (Det my) (N pajamas))))))\n"
     ]
    }
   ],
   "source": [
    "import nltk\n",
    "\n",
    "# Define a custom grammar\n",
    "my_grammar = nltk.CFG.fromstring(\"\"\"\n",
    "S -> NP VP\n",
    "PP -> P NP\n",
    "NP -> Det N | Det N PP | 'I'\n",
    "VP -> V NP | VP PP\n",
    "Det -> 'an' | 'my'\n",
    "N -> 'elephant' | 'pajamas'\n",
    "V -> 'shot'\n",
    "P -> 'in'\n",
    "\"\"\")\n",
    "parser = nltk.ChartParser(my_grammar)\n",
    "\n",
    "# Parse a sentence\n",
    "sentence = word_tokenize(\"I shot an elephant in my pajamas\")\n",
    "for tree in parser.parse(sentence):\n",
    "    print(tree)\n",
    "    #visullize parts of speech\n",
    "    tree.draw"
   ]
  },
  {
   "cell_type": "code",
   "execution_count": 51,
   "metadata": {},
   "outputs": [],
   "source": [
    "#visullize parts of speech\n",
    "for tree in parser.parse(sentence):\n",
    "    tree.draw()"
   ]
  },
  {
   "cell_type": "markdown",
   "metadata": {},
   "source": [
    "### Name Entity Recognition"
   ]
  },
  {
   "cell_type": "code",
   "execution_count": 53,
   "metadata": {},
   "outputs": [
    {
     "data": {
      "image/png": "[encoded data removed]",
      "text/plain": [
       "Tree('S', [Tree('GPE', [('Maaz', 'NNP')]), ('is', 'VBZ'), ('learning', 'VBG'), Tree('ORGANIZATION', [('NLP', 'NNP')]), ('by', 'IN'), Tree('ORGANIZATION', [('Udacity', 'NNP'), ('Inc.', 'NNP')]), ('course', 'NN'), ('in', 'IN'), Tree('GPE', [('California', 'NNP')]), ('.', '.')])"
      ]
     },
     "execution_count": 53,
     "metadata": {},
     "output_type": "execute_result"
    }
   ],
   "source": [
    "from nltk import pos_tag, ne_chunk\n",
    "from nltk.tokenize import word_tokenize\n",
    "\n",
    "sentence = word_tokenize(\"Maaz is learning NLP by Udacity Inc. course in California.\")\n",
    "ne_chunk(pos_tag(sentence))"
   ]
  },
  {
   "cell_type": "markdown",
   "metadata": {},
   "source": [
    "## Stemming & Lemmatization\n",
    "\n",
    "### Stemming"
   ]
  },
  {
   "cell_type": "markdown",
   "metadata": {},
   "source": [
    "There are many stemmers like:\n",
    "    1. PorterStemmer\n",
    "    2. SnowballStemmer"
   ]
  },
  {
   "cell_type": "code",
   "execution_count": 56,
   "metadata": {},
   "outputs": [
    {
     "name": "stdout",
     "output_type": "stream",
     "text": [
      "['first', 'time', 'see', 'second', 'renaiss', 'may', 'look', 'bore', 'look', 'least', 'twice', 'definit', 'watch', 'part', '2', 'chang', 'view', 'matrix', 'human', 'peopl', 'one', 'start', 'war', 'ai', 'bad', 'thing']\n"
     ]
    }
   ],
   "source": [
    "from nltk.stem.porter import PorterStemmer\n",
    "\n",
    "\n",
    "\n",
    "# Reduce words to their stems\n",
    "stemmed = [PorterStemmer().stem(w) for w in words]\n",
    "print(stemmed)"
   ]
  },
  {
   "cell_type": "markdown",
   "metadata": {},
   "source": [
    "The key difference between Stemming and Lemmatization if the following:\n",
    "    1. Stemming is used to strip words by eleiminating \"ing\", \"ed\" etc to map to its real root.\n",
    "                a. Example: brach, branches, braching, branched --> branch\n",
    "    2. Lemmatization, however, used words present in a dictionary and map all the words in to its real root.\n",
    "    It used WordNet database to reduce words to root form.\n",
    "        a. Example: is, was, were --> be"
   ]
  },
  {
   "cell_type": "markdown",
   "metadata": {},
   "source": [
    "### Lemmatization"
   ]
  },
  {
   "cell_type": "code",
   "execution_count": 57,
   "metadata": {},
   "outputs": [
    {
     "name": "stdout",
     "output_type": "stream",
     "text": [
      "['first', 'time', 'see', 'second', 'renaissance', 'may', 'look', 'boring', 'look', 'least', 'twice', 'definitely', 'watch', 'part', '2', 'change', 'view', 'matrix', 'human', 'people', 'one', 'started', 'war', 'ai', 'bad', 'thing']\n"
     ]
    }
   ],
   "source": [
    "from nltk.stem.wordnet import WordNetLemmatizer\n",
    "\n",
    "# Reduce words to their root form\n",
    "lemmed = [WordNetLemmatizer().lemmatize(w) for w in words]\n",
    "print(lemmed)"
   ]
  },
  {
   "cell_type": "markdown",
   "metadata": {},
   "source": [
    "To reduce words into root from, lemmazer needs to know its POS tag of a particular word.\n",
    "\n",
    "By default, lemmatizer used pos=nouns, however, we can overwrite by changing \"nouns\" to \"verbs\""
   ]
  },
  {
   "cell_type": "code",
   "execution_count": 58,
   "metadata": {},
   "outputs": [
    {
     "name": "stdout",
     "output_type": "stream",
     "text": [
      "['first', 'time', 'see', 'second', 'renaissance', 'may', 'look', 'bore', 'look', 'least', 'twice', 'definitely', 'watch', 'part', '2', 'change', 'view', 'matrix', 'human', 'people', 'one', 'start', 'war', 'ai', 'bad', 'thing']\n"
     ]
    }
   ],
   "source": [
    "# Lemmatize verbs by specifying pos\n",
    "lemmed = [WordNetLemmatizer().lemmatize(w, pos='v') for w in lemmed]\n",
    "print(lemmed)"
   ]
  },
  {
   "cell_type": "markdown",
   "metadata": {},
   "source": [
    "### Comparison between Stemming and Limmatization\n",
    "\n",
    "\n",
    "Stemming sometimes results in stem that are not complete words in english. Limmatizztion is similair to stemming with one difference, in limmatization *the final form is also a meaningful word in English*.\n",
    "\n",
    "![pic](xx.JPG)"
   ]
  },
  {
   "cell_type": "markdown",
   "metadata": {},
   "source": [
    "Stemming is less memory intensive, on the other hand, Limmatization is high memory intensive since it needs dictionary of all the words.  \n",
    "\n",
    "\n",
    "We can use both Stemming and Limmatization. If you we want to use both, then first use Limmatization and then stemming."
   ]
  },
  {
   "cell_type": "markdown",
   "metadata": {},
   "source": [
    "### Final Flow\n",
    "\n",
    "![pic](fl.PNG)"
   ]
  }
 ],
 "metadata": {
  "kernelspec": {
   "display_name": "Python 3",
   "language": "python",
   "name": "python3"
  },
  "language_info": {
   "codemirror_mode": {
    "name": "ipython",
    "version": 3
   },
   "file_extension": ".py",
   "mimetype": "text/x-python",
   "name": "python",
   "nbconvert_exporter": "python",
   "pygments_lexer": "ipython3",
   "version": "3.6.10"
  }
 },
 "nbformat": 4,
 "nbformat_minor": 2
}
