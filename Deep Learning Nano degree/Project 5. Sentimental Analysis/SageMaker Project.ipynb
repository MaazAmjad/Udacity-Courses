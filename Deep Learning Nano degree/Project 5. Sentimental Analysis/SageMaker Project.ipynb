{
 "cells": [
  {
   "cell_type": "markdown",
   "metadata": {},
   "source": [
    "# Creating a Sentiment Analysis Web App\n",
    "## Using PyTorch and SageMaker\n",
    "\n",
    "_Deep Learning Nanodegree Program | Deployment_\n",
    "\n",
    "---\n",
    "\n",
    "Now that we have a basic understanding of how SageMaker works we will try to use it to construct a complete project from end to end. Our goal will be to have a simple web page which a user can use to enter a movie review. The web page will then send the review off to our deployed model which will predict the sentiment of the entered review.\n",
    "\n",
    "## Instructions\n",
    "\n",
    "Some template code has already been provided for you, and you will need to implement additional functionality to successfully complete this notebook. You will not need to modify the included code beyond what is requested. Sections that begin with '**TODO**' in the header indicate that you need to complete or implement some portion within them. Instructions will be provided for each section and the specifics of the implementation are marked in the code block with a `# TODO: ...` comment. Please be sure to read the instructions carefully!\n",
    "\n",
    "In addition to implementing code, there will be questions for you to answer which relate to the task and your implementation. Each section where you will answer a question is preceded by a '**Question:**' header. Carefully read each question and provide your answer below the '**Answer:**' header by editing the Markdown cell.\n",
    "\n",
    "> **Note**: Code and Markdown cells can be executed using the **Shift+Enter** keyboard shortcut. In addition, a cell can be edited by typically clicking it (double-click for Markdown cells) or by pressing **Enter** while it is highlighted.\n",
    "\n",
    "## General Outline\n",
    "\n",
    "Recall the general outline for SageMaker projects using a notebook instance.\n",
    "\n",
    "1. Download or otherwise retrieve the data.\n",
    "2. Process / Prepare the data.\n",
    "3. Upload the processed data to S3.\n",
    "4. Train a chosen model.\n",
    "5. Test the trained model (typically using a batch transform job).\n",
    "6. Deploy the trained model.\n",
    "7. Use the deployed model.\n",
    "\n",
    "For this project, you will be following the steps in the general outline with some modifications. \n",
    "\n",
    "First, you will not be testing the model in its own step. You will still be testing the model, however, you will do it by deploying your model and then using the deployed model by sending the test data to it. One of the reasons for doing this is so that you can make sure that your deployed model is working correctly before moving forward.\n",
    "\n",
    "In addition, you will deploy and use your trained model a second time. In the second iteration you will customize the way that your trained model is deployed by including some of your own code. In addition, your newly deployed model will be used in the sentiment analysis web app."
   ]
  },
  {
   "cell_type": "markdown",
   "metadata": {},
   "source": [
    "## Step 1: Downloading the data\n",
    "\n",
    "As in the XGBoost in SageMaker notebook, we will be using the [IMDb dataset](http://ai.stanford.edu/~amaas/data/sentiment/)\n",
    "\n",
    "> Maas, Andrew L., et al. [Learning Word Vectors for Sentiment Analysis](http://ai.stanford.edu/~amaas/data/sentiment/). In _Proceedings of the 49th Annual Meeting of the Association for Computational Linguistics: Human Language Technologies_. Association for Computational Linguistics, 2011."
   ]
  },
  {
   "cell_type": "code",
   "execution_count": 1,
   "metadata": {},
   "outputs": [
    {
     "name": "stdout",
     "output_type": "stream",
     "text": [
      "mkdir: cannot create directory ‘../data’: File exists\n",
      "--2020-07-27 22:30:52--  http://ai.stanford.edu/~amaas/data/sentiment/aclImdb_v1.tar.gz\n",
      "Resolving ai.stanford.edu (ai.stanford.edu)... 171.64.68.10\n",
      "Connecting to ai.stanford.edu (ai.stanford.edu)|171.64.68.10|:80... connected.\n",
      "HTTP request sent, awaiting response... 200 OK\n",
      "Length: 84125825 (80M) [application/x-gzip]\n",
      "Saving to: ‘../data/aclImdb_v1.tar.gz’\n",
      "\n",
      "../data/aclImdb_v1. 100%[===================>]  80.23M  22.7MB/s    in 4.9s    \n",
      "\n",
      "2020-07-27 22:30:57 (16.5 MB/s) - ‘../data/aclImdb_v1.tar.gz’ saved [84125825/84125825]\n",
      "\n"
     ]
    }
   ],
   "source": [
    "%mkdir ../data\n",
    "!wget -O ../data/aclImdb_v1.tar.gz http://ai.stanford.edu/~amaas/data/sentiment/aclImdb_v1.tar.gz\n",
    "!tar -zxf ../data/aclImdb_v1.tar.gz -C ../data"
   ]
  },
  {
   "cell_type": "markdown",
   "metadata": {},
   "source": [
    "## Step 2: Preparing and Processing the data\n",
    "\n",
    "Also, as in the XGBoost notebook, we will be doing some initial data processing. The first few steps are the same as in the XGBoost example. To begin with, we will read in each of the reviews and combine them into a single input structure. Then, we will split the dataset into a training set and a testing set."
   ]
  },
  {
   "cell_type": "code",
   "execution_count": 2,
   "metadata": {},
   "outputs": [],
   "source": [
    "import os\n",
    "import glob\n",
    "\n",
    "def read_imdb_data(data_dir='../data/aclImdb'):\n",
    "    data = {}\n",
    "    labels = {}\n",
    "    \n",
    "    for data_type in ['train', 'test']:\n",
    "        data[data_type] = {}\n",
    "        labels[data_type] = {}\n",
    "        \n",
    "        for sentiment in ['pos', 'neg']:\n",
    "            data[data_type][sentiment] = []\n",
    "            labels[data_type][sentiment] = []\n",
    "            \n",
    "            path = os.path.join(data_dir, data_type, sentiment, '*.txt')\n",
    "            files = glob.glob(path)\n",
    "            \n",
    "            for f in files:\n",
    "                with open(f) as review:\n",
    "                    data[data_type][sentiment].append(review.read())\n",
    "                    # Here we represent a positive review by '1' and a negative review by '0'\n",
    "                    labels[data_type][sentiment].append(1 if sentiment == 'pos' else 0)\n",
    "                    \n",
    "            assert len(data[data_type][sentiment]) == len(labels[data_type][sentiment]), \\\n",
    "                    \"{}/{} data size does not match labels size\".format(data_type, sentiment)\n",
    "                \n",
    "    return data, labels"
   ]
  },
  {
   "cell_type": "code",
   "execution_count": 3,
   "metadata": {},
   "outputs": [
    {
     "name": "stdout",
     "output_type": "stream",
     "text": [
      "IMDB reviews: train = 12500 pos / 12500 neg, test = 12500 pos / 12500 neg\n"
     ]
    }
   ],
   "source": [
    "data, labels = read_imdb_data()\n",
    "print(\"IMDB reviews: train = {} pos / {} neg, test = {} pos / {} neg\".format(\n",
    "            len(data['train']['pos']), len(data['train']['neg']),\n",
    "            len(data['test']['pos']), len(data['test']['neg'])))"
   ]
  },
  {
   "cell_type": "markdown",
   "metadata": {},
   "source": [
    "Now that we've read the raw training and testing data from the downloaded dataset, we will combine the positive and negative reviews and shuffle the resulting records."
   ]
  },
  {
   "cell_type": "code",
   "execution_count": 4,
   "metadata": {},
   "outputs": [],
   "source": [
    "from sklearn.utils import shuffle\n",
    "\n",
    "def prepare_imdb_data(data, labels):\n",
    "    \"\"\"Prepare training and test sets from IMDb movie reviews.\"\"\"\n",
    "    \n",
    "    #Combine positive and negative reviews and labels\n",
    "    data_train = data['train']['pos'] + data['train']['neg']\n",
    "    data_test = data['test']['pos'] + data['test']['neg']\n",
    "    labels_train = labels['train']['pos'] + labels['train']['neg']\n",
    "    labels_test = labels['test']['pos'] + labels['test']['neg']\n",
    "    \n",
    "    #Shuffle reviews and corresponding labels within training and test sets\n",
    "    data_train, labels_train = shuffle(data_train, labels_train)\n",
    "    data_test, labels_test = shuffle(data_test, labels_test)\n",
    "    \n",
    "    # Return a unified training data, test data, training labels, test labets\n",
    "    return data_train, data_test, labels_train, labels_test"
   ]
  },
  {
   "cell_type": "code",
   "execution_count": 5,
   "metadata": {},
   "outputs": [
    {
     "name": "stdout",
     "output_type": "stream",
     "text": [
      "IMDb reviews (combined): train = 25000, test = 25000\n"
     ]
    }
   ],
   "source": [
    "train_X, test_X, train_y, test_y = prepare_imdb_data(data, labels)\n",
    "print(\"IMDb reviews (combined): train = {}, test = {}\".format(len(train_X), len(test_X)))"
   ]
  },
  {
   "cell_type": "markdown",
   "metadata": {},
   "source": [
    "Now that we have our training and testing sets unified and prepared, we should do a quick check and see an example of the data our model will be trained on. This is generally a good idea as it allows you to see how each of the further processing steps affects the reviews and it also ensures that the data has been loaded correctly."
   ]
  },
  {
   "cell_type": "code",
   "execution_count": 6,
   "metadata": {},
   "outputs": [
    {
     "name": "stdout",
     "output_type": "stream",
     "text": [
      "Whether it's three guys in their tighty-whiteys rapping to a dude bound in twine or a girl saying \"What up, dog?\" to a lump of roadkill, there's something please everyone in Knuckleface Jones. It is strange and surreal and not altogether a completely comprehensible yarn... yet it never loses you. The first time I saw it, I nearly laughed myself sick. And every night after I would come home and watch it again. Forget Coyote Ugly... this is the movie that cemented my crush on Piper Perabo. See it... before it's too late!\n",
      "1\n"
     ]
    }
   ],
   "source": [
    "print(train_X[100])\n",
    "print(train_y[100])"
   ]
  },
  {
   "cell_type": "markdown",
   "metadata": {},
   "source": [
    "The first step in processing the reviews is to make sure that any html tags that appear should be removed. In addition we wish to tokenize our input, that way words such as *entertained* and *entertaining* are considered the same with regard to sentiment analysis."
   ]
  },
  {
   "cell_type": "code",
   "execution_count": 7,
   "metadata": {},
   "outputs": [],
   "source": [
    "import nltk\n",
    "from nltk.corpus import stopwords\n",
    "from nltk.stem.porter import *\n",
    "\n",
    "import re\n",
    "from bs4 import BeautifulSoup\n",
    "\n",
    "def review_to_words(review):\n",
    "    nltk.download(\"stopwords\", quiet=True)\n",
    "    stemmer = PorterStemmer()\n",
    "    \n",
    "    text = BeautifulSoup(review, \"html.parser\").get_text() # Remove HTML tags\n",
    "    text = re.sub(r\"[^a-zA-Z0-9]\", \" \", text.lower()) # Convert to lower case\n",
    "    words = text.split() # Split string into words\n",
    "    words = [w for w in words if w not in stopwords.words(\"english\")] # Remove stopwords\n",
    "    words = [PorterStemmer().stem(w) for w in words] # stem\n",
    "    \n",
    "    return words"
   ]
  },
  {
   "cell_type": "markdown",
   "metadata": {},
   "source": [
    "The `review_to_words` method defined above uses `BeautifulSoup` to remove any html tags that appear and uses the `nltk` package to tokenize the reviews. As a check to ensure we know how everything is working, try applying `review_to_words` to one of the reviews in the training set."
   ]
  },
  {
   "cell_type": "code",
   "execution_count": 8,
   "metadata": {},
   "outputs": [
    {
     "data": {
      "text/plain": [
       "['whether',\n",
       " 'three',\n",
       " 'guy',\n",
       " 'tighti',\n",
       " 'whitey',\n",
       " 'rap',\n",
       " 'dude',\n",
       " 'bound',\n",
       " 'twine',\n",
       " 'girl',\n",
       " 'say',\n",
       " 'dog',\n",
       " 'lump',\n",
       " 'roadkil',\n",
       " 'someth',\n",
       " 'pleas',\n",
       " 'everyon',\n",
       " 'knucklefac',\n",
       " 'jone',\n",
       " 'strang',\n",
       " 'surreal',\n",
       " 'altogeth',\n",
       " 'complet',\n",
       " 'comprehens',\n",
       " 'yarn',\n",
       " 'yet',\n",
       " 'never',\n",
       " 'lose',\n",
       " 'first',\n",
       " 'time',\n",
       " 'saw',\n",
       " 'nearli',\n",
       " 'laugh',\n",
       " 'sick',\n",
       " 'everi',\n",
       " 'night',\n",
       " 'would',\n",
       " 'come',\n",
       " 'home',\n",
       " 'watch',\n",
       " 'forget',\n",
       " 'coyot',\n",
       " 'ugli',\n",
       " 'movi',\n",
       " 'cement',\n",
       " 'crush',\n",
       " 'piper',\n",
       " 'perabo',\n",
       " 'see',\n",
       " 'late']"
      ]
     },
     "execution_count": 8,
     "metadata": {},
     "output_type": "execute_result"
    }
   ],
   "source": [
    "# TODO: Apply review_to_words to a review (train_X[100] or any other review)\n",
    "review_to_words(train_X[100])"
   ]
  },
  {
   "cell_type": "markdown",
   "metadata": {},
   "source": [
    "**Question:** Above we mentioned that `review_to_words` method removes html formatting and allows us to tokenize the words found in a review, for example, converting *entertained* and *entertaining* into *entertain* so that they are treated as though they are the same word. What else, if anything, does this method do to the input?"
   ]
  },
  {
   "cell_type": "markdown",
   "metadata": {},
   "source": [
    "**Answer:** \n",
    "\n",
    "This function does the following things:\n",
    "\n",
    "    1. Convert all the words into lower case\n",
    "    2. Discard function words (stop words) and HTML tags."
   ]
  },
  {
   "cell_type": "markdown",
   "metadata": {},
   "source": [
    "The method below applies the `review_to_words` method to each of the reviews in the training and testing datasets. In addition it caches the results. This is because performing this processing step can take a long time. This way if you are unable to complete the notebook in the current session, you can come back without needing to process the data a second time."
   ]
  },
  {
   "cell_type": "code",
   "execution_count": 18,
   "metadata": {},
   "outputs": [],
   "source": [
    "import pickle\n",
    "\n",
    "cache_dir = os.path.join(\"../cache\", \"sentiment_analysis\")  # where to store cache files\n",
    "os.makedirs(cache_dir, exist_ok=True)  # ensure cache directory exists\n",
    "\n",
    "def preprocess_data(data_train, data_test, labels_train, labels_test,\n",
    "                    cache_dir=cache_dir, cache_file=\"preprocessed_data.pkl\"):\n",
    "    \"\"\"Convert each review to words; read from cache if available.\"\"\"\n",
    "\n",
    "    # If cache_file is not None, try to read from it first\n",
    "    cache_data = None\n",
    "    if cache_file is not None:\n",
    "        try:\n",
    "            with open(os.path.join(cache_dir, cache_file), \"rb\") as f:\n",
    "                cache_data = pickle.load(f)\n",
    "            print(\"Read preprocessed data from cache file:\", cache_file)\n",
    "        except:\n",
    "            pass  # unable to read from cache, but that's okay\n",
    "    \n",
    "    # If cache is missing, then do the heavy lifting\n",
    "    if cache_data is None:\n",
    "        # Preprocess training and test data to obtain words for each review\n",
    "        #words_train = list(map(review_to_words, data_train))\n",
    "        #words_test = list(map(review_to_words, data_test))\n",
    "        words_train = [review_to_words(review) for review in data_train]\n",
    "        words_test = [review_to_words(review) for review in data_test]\n",
    "        \n",
    "        # Write to cache file for future runs\n",
    "        if cache_file is not None:\n",
    "            cache_data = dict(words_train=words_train, words_test=words_test,\n",
    "                              labels_train=labels_train, labels_test=labels_test)\n",
    "            with open(os.path.join(cache_dir, cache_file), \"wb\") as f:\n",
    "                pickle.dump(cache_data, f)\n",
    "            print(\"Wrote preprocessed data to cache file:\", cache_file)\n",
    "    else:\n",
    "        # Unpack data loaded from cache file\n",
    "        words_train, words_test, labels_train, labels_test = (cache_data['words_train'],\n",
    "                cache_data['words_test'], cache_data['labels_train'], cache_data['labels_test'])\n",
    "    \n",
    "    return words_train, words_test, labels_train, labels_test"
   ]
  },
  {
   "cell_type": "code",
   "execution_count": 19,
   "metadata": {},
   "outputs": [
    {
     "name": "stdout",
     "output_type": "stream",
     "text": [
      "Read preprocessed data from cache file: preprocessed_data.pkl\n"
     ]
    }
   ],
   "source": [
    "# Preprocess data\n",
    "train_X, test_X, train_y, test_y = preprocess_data(train_X, test_X, train_y, test_y)"
   ]
  },
  {
   "cell_type": "markdown",
   "metadata": {},
   "source": [
    "## Transform the data\n",
    "\n",
    "In the XGBoost notebook we transformed the data from its word representation to a bag-of-words feature representation. For the model we are going to construct in this notebook we will construct a feature representation which is very similar. To start, we will represent each word as an integer. Of course, some of the words that appear in the reviews occur very infrequently and so likely don't contain much information for the purposes of sentiment analysis. The way we will deal with this problem is that we will fix the size of our working vocabulary and we will only include the words that appear most frequently. We will then combine all of the infrequent words into a single category and, in our case, we will label it as `1`.\n",
    "\n",
    "Since we will be using a recurrent neural network, it will be convenient if the length of each review is the same. To do this, we will fix a size for our reviews and then pad short reviews with the category 'no word' (which we will label `0`) and truncate long reviews."
   ]
  },
  {
   "cell_type": "markdown",
   "metadata": {},
   "source": [
    "### (TODO) Create a word dictionary\n",
    "\n",
    "To begin with, we need to construct a way to map words that appear in the reviews to integers. Here we fix the size of our vocabulary (including the 'no word' and 'infrequent' categories) to be `5000` but you may wish to change this to see how it affects the model.\n",
    "\n",
    "> **TODO:** Complete the implementation for the `build_dict()` method below. Note that even though the vocab_size is set to `5000`, we only want to construct a mapping for the most frequently appearing `4998` words. This is because we want to reserve the special labels `0` for 'no word' and `1` for 'infrequent word'."
   ]
  },
  {
   "cell_type": "code",
   "execution_count": 20,
   "metadata": {},
   "outputs": [],
   "source": [
    "import numpy as np\n",
    "from collections import Counter\n",
    "\n",
    "def build_dict(data, vocab_size = 5000):\n",
    "    \"\"\"Construct and return a dictionary mapping each of the most frequently appearing words to a unique integer.\"\"\"\n",
    "    \n",
    "    # TODO: Determine how often each word appears in `data`. Note that `data` is a list of sentences and that a\n",
    "    #       sentence is a list of words.\n",
    "    \n",
    "    data = [word for inner_list in data for word in inner_list]\n",
    "    \n",
    "    word_count = dict(Counter(data)) # A dict storing the words that appear in the reviews along with how often they occur\n",
    "    \n",
    "    # TODO: Sort the words found in `data` so that sorted_words[0] is the most frequently appearing word and\n",
    "\n",
    "    \n",
    "    sorted_words = dict(Counter(data).most_common()).keys()\n",
    "    sorted_words = list(sorted_words)\n",
    "    \n",
    "    word_dict = {} \n",
    "    for idx, word in enumerate(sorted_words[:vocab_size - 2]): \n",
    "        word_dict[word] = idx + 2                            \n",
    "        \n",
    "    return word_dict"
   ]
  },
  {
   "cell_type": "code",
   "execution_count": 21,
   "metadata": {},
   "outputs": [],
   "source": [
    "get_dictionary = build_dict(train_X)"
   ]
  },
  {
   "cell_type": "code",
   "execution_count": 22,
   "metadata": {},
   "outputs": [
    {
     "name": "stdout",
     "output_type": "stream",
     "text": [
      "{'movi': 2, 'film': 3, 'one': 4, 'like': 5, 'time': 6, 'good': 7, 'make': 8, 'charact': 9, 'get': 10, 'see': 11, 'watch': 12, 'stori': 13, 'even': 14, 'would': 15, 'realli': 16, 'well': 17, 'scene': 18, 'look': 19, 'show': 20, 'much': 21, 'end': 22, 'peopl': 23, 'bad': 24, 'go': 25, 'great': 26, 'also': 27, 'first': 28, 'love': 29, 'think': 30, 'way': 31, 'act': 32, 'play': 33, 'made': 34, 'thing': 35, 'could': 36, 'know': 37, 'say': 38, 'seem': 39, 'work': 40, 'plot': 41, 'two': 42, 'actor': 43, 'year': 44, 'come': 45, 'mani': 46, 'seen': 47, 'take': 48, 'life': 49, 'want': 50, 'never': 51, 'littl': 52, 'best': 53, 'tri': 54, 'man': 55, 'ever': 56, 'give': 57, 'better': 58, 'still': 59, 'perform': 60, 'find': 61, 'feel': 62, 'part': 63, 'back': 64, 'use': 65, 'someth': 66, 'director': 67, 'actual': 68, 'interest': 69, 'lot': 70, 'real': 71, 'old': 72, 'cast': 73, 'though': 74, 'live': 75, 'star': 76, 'enjoy': 77, 'guy': 78, 'anoth': 79, 'new': 80, 'role': 81, 'noth': 82, '10': 83, 'funni': 84, 'music': 85, 'point': 86, 'start': 87, 'set': 88, 'girl': 89, 'origin': 90, 'day': 91, 'world': 92, 'everi': 93, 'believ': 94, 'turn': 95, 'quit': 96, 'direct': 97, 'us': 98, 'thought': 99, 'fact': 100, 'minut': 101, 'horror': 102, 'kill': 103, 'action': 104, 'comedi': 105, 'pretti': 106, 'young': 107, 'wonder': 108, 'happen': 109, 'around': 110, 'got': 111, 'effect': 112, 'right': 113, 'long': 114, 'howev': 115, 'big': 116, 'line': 117, 'famili': 118, 'enough': 119, 'seri': 120, 'may': 121, 'need': 122, 'fan': 123, 'bit': 124, 'script': 125, 'beauti': 126, 'person': 127, 'becom': 128, 'without': 129, 'must': 130, 'alway': 131, 'friend': 132, 'tell': 133, 'reason': 134, 'saw': 135, 'last': 136, 'final': 137, 'kid': 138, 'almost': 139, 'put': 140, 'least': 141, 'sure': 142, 'done': 143, 'whole': 144, 'place': 145, 'complet': 146, 'kind': 147, 'expect': 148, 'differ': 149, 'shot': 150, 'far': 151, 'mean': 152, 'anyth': 153, 'book': 154, 'laugh': 155, 'might': 156, 'name': 157, 'sinc': 158, 'begin': 159, '2': 160, 'probabl': 161, 'woman': 162, 'help': 163, 'entertain': 164, 'let': 165, 'screen': 166, 'call': 167, 'tv': 168, 'moment': 169, 'away': 170, 'read': 171, 'yet': 172, 'rather': 173, 'worst': 174, 'run': 175, 'fun': 176, 'lead': 177, 'hard': 178, 'audienc': 179, 'idea': 180, 'anyon': 181, 'episod': 182, 'american': 183, 'found': 184, 'appear': 185, 'bore': 186, 'especi': 187, 'although': 188, 'hope': 189, 'cours': 190, 'keep': 191, 'anim': 192, 'job': 193, 'goe': 194, 'move': 195, 'sens': 196, 'version': 197, 'dvd': 198, 'war': 199, 'money': 200, 'someon': 201, 'mind': 202, 'mayb': 203, 'problem': 204, 'true': 205, 'hous': 206, 'everyth': 207, 'nice': 208, 'second': 209, 'rate': 210, 'three': 211, 'night': 212, 'follow': 213, 'face': 214, 'recommend': 215, 'product': 216, 'main': 217, 'worth': 218, 'leav': 219, 'human': 220, 'special': 221, 'excel': 222, 'togeth': 223, 'wast': 224, 'everyon': 225, 'sound': 226, 'john': 227, 'hand': 228, '1': 229, 'father': 230, 'later': 231, 'eye': 232, 'said': 233, 'view': 234, 'instead': 235, 'review': 236, 'boy': 237, 'high': 238, 'hour': 239, 'miss': 240, 'classic': 241, 'talk': 242, 'wife': 243, 'understand': 244, 'left': 245, 'care': 246, 'black': 247, 'death': 248, 'open': 249, 'murder': 250, 'write': 251, 'half': 252, 'head': 253, 'rememb': 254, 'chang': 255, 'viewer': 256, 'fight': 257, 'gener': 258, 'surpris': 259, 'short': 260, 'includ': 261, 'die': 262, 'fall': 263, 'less': 264, 'els': 265, 'entir': 266, 'piec': 267, 'involv': 268, 'pictur': 269, 'simpli': 270, 'top': 271, 'home': 272, 'power': 273, 'total': 274, 'usual': 275, 'budget': 276, 'attempt': 277, 'suppos': 278, 'releas': 279, 'hollywood': 280, 'terribl': 281, 'song': 282, 'men': 283, 'possibl': 284, 'featur': 285, 'portray': 286, 'disappoint': 287, 'poor': 288, '3': 289, 'coupl': 290, 'camera': 291, 'stupid': 292, 'dead': 293, 'wrong': 294, 'low': 295, 'produc': 296, 'either': 297, 'video': 298, 'aw': 299, 'definit': 300, 'except': 301, 'rest': 302, 'given': 303, 'absolut': 304, 'women': 305, 'lack': 306, 'word': 307, 'writer': 308, 'titl': 309, 'talent': 310, 'decid': 311, 'full': 312, 'perfect': 313, 'along': 314, 'style': 315, 'close': 316, 'truli': 317, 'school': 318, 'emot': 319, 'save': 320, 'age': 321, 'sex': 322, 'next': 323, 'bring': 324, 'mr': 325, 'case': 326, 'killer': 327, 'heart': 328, 'comment': 329, 'sort': 330, 'creat': 331, 'perhap': 332, 'came': 333, 'brother': 334, 'sever': 335, 'joke': 336, 'art': 337, 'dialogu': 338, 'game': 339, 'small': 340, 'base': 341, 'flick': 342, 'written': 343, 'sequenc': 344, 'meet': 345, 'earli': 346, 'often': 347, 'other': 348, 'mother': 349, 'develop': 350, 'humor': 351, 'actress': 352, 'consid': 353, 'dark': 354, 'guess': 355, 'amaz': 356, 'unfortun': 357, 'light': 358, 'lost': 359, 'exampl': 360, 'cinema': 361, 'drama': 362, 'ye': 363, 'white': 364, 'experi': 365, 'imagin': 366, 'mention': 367, 'stop': 368, 'natur': 369, 'forc': 370, 'manag': 371, 'felt': 372, 'cut': 373, 'present': 374, 'children': 375, 'fail': 376, 'son': 377, 'support': 378, 'car': 379, 'qualiti': 380, 'ask': 381, 'hit': 382, 'side': 383, 'voic': 384, 'extrem': 385, 'impress': 386, 'wors': 387, 'evil': 388, 'went': 389, 'stand': 390, 'certainli': 391, 'basic': 392, 'oh': 393, 'overal': 394, 'favorit': 395, 'horribl': 396, 'mysteri': 397, 'number': 398, 'type': 399, 'danc': 400, 'wait': 401, 'hero': 402, '5': 403, 'alreadi': 404, 'learn': 405, 'matter': 406, '4': 407, 'michael': 408, 'genr': 409, 'fine': 410, 'despit': 411, 'throughout': 412, 'walk': 413, 'success': 414, 'histori': 415, 'question': 416, 'zombi': 417, 'town': 418, 'relationship': 419, 'realiz': 420, 'child': 421, 'past': 422, 'daughter': 423, 'late': 424, 'b': 425, 'wish': 426, 'credit': 427, 'hate': 428, 'event': 429, 'theme': 430, 'touch': 431, 'citi': 432, 'today': 433, 'sometim': 434, 'behind': 435, 'god': 436, 'twist': 437, 'sit': 438, 'annoy': 439, 'stay': 440, 'deal': 441, 'abl': 442, 'rent': 443, 'pleas': 444, 'edit': 445, 'blood': 446, 'deserv': 447, 'anyway': 448, 'comic': 449, 'appar': 450, 'soon': 451, 'gave': 452, 'etc': 453, 'level': 454, 'slow': 455, 'chanc': 456, 'score': 457, 'bodi': 458, 'brilliant': 459, 'incred': 460, 'figur': 461, 'situat': 462, 'self': 463, 'major': 464, 'stuff': 465, 'decent': 466, 'element': 467, 'dream': 468, 'return': 469, 'obvious': 470, 'order': 471, 'continu': 472, 'pace': 473, 'ridicul': 474, 'happi': 475, 'highli': 476, 'add': 477, 'group': 478, 'thank': 479, 'ladi': 480, 'novel': 481, 'speak': 482, 'pain': 483, 'career': 484, 'shoot': 485, 'strang': 486, 'heard': 487, 'sad': 488, 'polic': 489, 'husband': 490, 'import': 491, 'break': 492, 'took': 493, 'strong': 494, 'cannot': 495, 'predict': 496, 'robert': 497, 'violenc': 498, 'hilari': 499, 'recent': 500, 'countri': 501, 'known': 502, 'particularli': 503, 'pick': 504, 'documentari': 505, 'season': 506, 'critic': 507, 'jame': 508, 'compar': 509, 'alon': 510, 'obviou': 511, 'told': 512, 'state': 513, 'rock': 514, 'visual': 515, 'theater': 516, 'offer': 517, 'exist': 518, 'opinion': 519, 'gore': 520, 'crap': 521, 'hold': 522, 'result': 523, 'realiti': 524, 'hear': 525, 'room': 526, 'clich': 527, 'effort': 528, 'thriller': 529, 'caus': 530, 'explain': 531, 'serious': 532, 'sequel': 533, 'king': 534, 'local': 535, 'ago': 536, 'none': 537, 'hell': 538, 'note': 539, 'allow': 540, 'sister': 541, 'david': 542, 'simpl': 543, 'femal': 544, 'deliv': 545, 'ok': 546, 'convinc': 547, 'class': 548, 'check': 549, 'suspens': 550, 'win': 551, 'buy': 552, 'oscar': 553, 'huge': 554, 'valu': 555, 'sexual': 556, 'cool': 557, 'scari': 558, 'similar': 559, 'excit': 560, 'exactli': 561, 'provid': 562, 'apart': 563, 'avoid': 564, 'shown': 565, 'seriou': 566, 'english': 567, 'whose': 568, 'taken': 569, 'cinematographi': 570, 'shock': 571, 'polit': 572, 'spoiler': 573, 'offic': 574, 'across': 575, 'middl': 576, 'street': 577, 'pass': 578, 'messag': 579, 'silli': 580, 'charm': 581, 'somewhat': 582, 'modern': 583, 'confus': 584, 'filmmak': 585, 'form': 586, 'tale': 587, 'singl': 588, 'jack': 589, 'mostli': 590, 'carri': 591, 'william': 592, 'attent': 593, 'sing': 594, 'subject': 595, 'five': 596, 'richard': 597, 'prove': 598, 'team': 599, 'stage': 600, 'unlik': 601, 'cop': 602, 'georg': 603, 'televis': 604, 'monster': 605, 'earth': 606, 'villain': 607, 'cover': 608, 'pay': 609, 'marri': 610, 'toward': 611, 'build': 612, 'parent': 613, 'pull': 614, 'due': 615, 'fill': 616, 'respect': 617, 'four': 618, 'dialog': 619, 'remind': 620, 'futur': 621, 'typic': 622, 'weak': 623, '7': 624, 'cheap': 625, 'intellig': 626, 'atmospher': 627, 'british': 628, '80': 629, 'clearli': 630, 'dog': 631, 'non': 632, 'paul': 633, 'knew': 634, 'fast': 635, '8': 636, 'artist': 637, 'crime': 638, 'easili': 639, 'escap': 640, 'doubt': 641, 'adult': 642, 'detail': 643, 'date': 644, 'romant': 645, 'member': 646, 'fire': 647, 'drive': 648, 'gun': 649, 'straight': 650, 'fit': 651, 'beyond': 652, 'attack': 653, 'imag': 654, 'upon': 655, 'posit': 656, 'whether': 657, 'fantast': 658, 'peter': 659, 'appreci': 660, 'aspect': 661, 'captur': 662, 'ten': 663, 'plan': 664, 'discov': 665, 'remain': 666, 'near': 667, 'period': 668, 'realist': 669, 'air': 670, 'mark': 671, 'red': 672, 'dull': 673, 'adapt': 674, 'within': 675, 'spend': 676, 'lose': 677, 'materi': 678, 'color': 679, 'chase': 680, 'mari': 681, 'storylin': 682, 'forget': 683, 'bunch': 684, 'clear': 685, 'lee': 686, 'victim': 687, 'nearli': 688, 'box': 689, 'york': 690, 'inspir': 691, 'match': 692, 'finish': 693, 'mess': 694, 'standard': 695, 'easi': 696, 'truth': 697, 'suffer': 698, 'busi': 699, 'dramat': 700, 'bill': 701, 'space': 702, 'western': 703, 'e': 704, 'list': 705, 'battl': 706, 'notic': 707, 'de': 708, 'french': 709, 'ad': 710, '9': 711, 'tom': 712, 'larg': 713, 'among': 714, 'eventu': 715, 'train': 716, 'accept': 717, 'agre': 718, 'spirit': 719, 'soundtrack': 720, 'third': 721, 'teenag': 722, 'adventur': 723, 'soldier': 724, 'drug': 725, 'famou': 726, 'suggest': 727, 'sorri': 728, 'cri': 729, 'normal': 730, 'babi': 731, 'ultim': 732, 'troubl': 733, 'contain': 734, 'certain': 735, 'cultur': 736, 'romanc': 737, 'rare': 738, 'lame': 739, 'somehow': 740, 'disney': 741, 'mix': 742, 'gone': 743, 'cartoon': 744, 'student': 745, 'reveal': 746, 'fear': 747, 'kept': 748, 'suck': 749, 'attract': 750, 'appeal': 751, 'premis': 752, 'greatest': 753, 'secret': 754, 'design': 755, 'shame': 756, 'throw': 757, 'scare': 758, 'copi': 759, 'wit': 760, 'admit': 761, 'america': 762, 'relat': 763, 'brought': 764, 'particular': 765, 'screenplay': 766, 'whatev': 767, 'pure': 768, '70': 769, 'harri': 770, 'averag': 771, 'master': 772, 'describ': 773, 'treat': 774, 'male': 775, '20': 776, 'fantasi': 777, 'issu': 778, 'warn': 779, 'inde': 780, 'background': 781, 'forward': 782, 'free': 783, 'project': 784, 'memor': 785, 'japanes': 786, 'poorli': 787, 'award': 788, 'locat': 789, 'amus': 790, 'potenti': 791, 'struggl': 792, 'weird': 793, 'magic': 794, 'societi': 795, 'okay': 796, 'imdb': 797, 'accent': 798, 'doctor': 799, 'hot': 800, 'water': 801, 'dr': 802, '30': 803, 'express': 804, 'alien': 805, 'odd': 806, 'choic': 807, 'crazi': 808, 'studio': 809, 'fiction': 810, 'becam': 811, 'control': 812, 'masterpiec': 813, 'difficult': 814, 'fli': 815, 'joe': 816, 'scream': 817, 'costum': 818, 'lover': 819, 'refer': 820, 'uniqu': 821, 'remak': 822, 'girlfriend': 823, 'vampir': 824, 'prison': 825, 'execut': 826, 'wear': 827, 'jump': 828, 'unless': 829, 'wood': 830, 'creepi': 831, 'cheesi': 832, 'superb': 833, 'otherwis': 834, 'parti': 835, 'roll': 836, 'ghost': 837, 'public': 838, 'mad': 839, 'depict': 840, 'badli': 841, 'jane': 842, 'moral': 843, 'earlier': 844, 'week': 845, 'dumb': 846, 'fi': 847, 'grow': 848, 'flaw': 849, 'sci': 850, 'deep': 851, 'cat': 852, 'maker': 853, 'older': 854, 'connect': 855, 'footag': 856, 'bother': 857, 'plenti': 858, 'outsid': 859, 'stick': 860, 'gay': 861, 'catch': 862, 'co': 863, 'plu': 864, 'popular': 865, 'equal': 866, 'social': 867, 'quickli': 868, 'disturb': 869, 'perfectli': 870, 'dress': 871, '90': 872, 'era': 873, 'mistak': 874, 'lie': 875, 'previou': 876, 'ride': 877, 'combin': 878, 'concept': 879, 'band': 880, 'rich': 881, 'surviv': 882, 'answer': 883, 'front': 884, 'sweet': 885, 'christma': 886, 'insid': 887, 'concern': 888, 'eat': 889, 'bare': 890, 'listen': 891, 'beat': 892, 'ben': 893, 'c': 894, 'serv': 895, 'term': 896, 'la': 897, 'german': 898, 'meant': 899, 'hardli': 900, 'stereotyp': 901, 'innoc': 902, 'law': 903, 'desper': 904, 'memori': 905, 'promis': 906, 'cute': 907, 'intent': 908, 'inform': 909, 'steal': 910, 'variou': 911, 'brain': 912, 'post': 913, 'tone': 914, 'island': 915, 'amount': 916, 'nuditi': 917, 'track': 918, 'compani': 919, 'claim': 920, 'store': 921, '50': 922, 'hair': 923, 'flat': 924, 'land': 925, 'univers': 926, 'fairli': 927, 'kick': 928, 'scott': 929, 'danger': 930, 'player': 931, 'crew': 932, 'step': 933, 'plain': 934, 'toni': 935, 'share': 936, 'centuri': 937, 'tast': 938, 'engag': 939, 'achiev': 940, 'travel': 941, 'cold': 942, 'suit': 943, 'record': 944, 'rip': 945, 'sadli': 946, 'manner': 947, 'tension': 948, 'wrote': 949, 'spot': 950, 'fascin': 951, 'intens': 952, 'familiar': 953, 'remark': 954, 'depth': 955, 'burn': 956, 'histor': 957, 'destroy': 958, 'sleep': 959, 'purpos': 960, 'languag': 961, 'ignor': 962, 'ruin': 963, 'delight': 964, 'unbeliev': 965, 'italian': 966, 'collect': 967, 'soul': 968, 'abil': 969, 'detect': 970, 'clever': 971, 'violent': 972, 'rape': 973, 'reach': 974, 'door': 975, 'liter': 976, 'trash': 977, 'scienc': 978, 'reveng': 979, 'caught': 980, 'commun': 981, 'creatur': 982, 'trip': 983, 'approach': 984, 'intrigu': 985, 'fashion': 986, 'paint': 987, 'skill': 988, 'introduc': 989, 'complex': 990, 'channel': 991, 'camp': 992, 'christian': 993, 'extra': 994, 'hole': 995, 'mental': 996, 'limit': 997, 'immedi': 998, 'ann': 999, 'slightli': 1000, 'million': 1001, 'comput': 1002, '6': 1003, 'mere': 1004, 'conclus': 1005, 'slasher': 1006, 'imposs': 1007, 'suddenli': 1008, 'neither': 1009, 'crimin': 1010, 'teen': 1011, 'spent': 1012, 'nation': 1013, 'physic': 1014, 'respons': 1015, 'planet': 1016, 'fake': 1017, 'receiv': 1018, 'blue': 1019, 'sick': 1020, 'bizarr': 1021, 'embarrass': 1022, 'indian': 1023, '15': 1024, 'ring': 1025, 'pop': 1026, 'drop': 1027, 'drag': 1028, 'haunt': 1029, 'suspect': 1030, 'pointless': 1031, 'edg': 1032, 'search': 1033, 'handl': 1034, 'biggest': 1035, 'common': 1036, 'hurt': 1037, 'arriv': 1038, 'faith': 1039, 'technic': 1040, 'angel': 1041, 'genuin': 1042, 'dad': 1043, 'awesom': 1044, 'f': 1045, 'solid': 1046, 'van': 1047, 'former': 1048, 'focu': 1049, 'colleg': 1050, 'count': 1051, 'heavi': 1052, 'tear': 1053, 'rais': 1054, 'wall': 1055, 'laughabl': 1056, 'younger': 1057, 'visit': 1058, 'sign': 1059, 'excus': 1060, 'fair': 1061, 'cult': 1062, 'motion': 1063, 'tough': 1064, 'key': 1065, 'desir': 1066, 'super': 1067, 'addit': 1068, 'stun': 1069, 'exploit': 1070, 'cloth': 1071, 'tortur': 1072, 'smith': 1073, 'race': 1074, 'davi': 1075, 'cross': 1076, 'author': 1077, 'jim': 1078, 'minor': 1079, 'consist': 1080, 'focus': 1081, 'compel': 1082, 'chemistri': 1083, 'commit': 1084, 'pathet': 1085, 'park': 1086, 'obsess': 1087, 'tradit': 1088, 'frank': 1089, 'grade': 1090, '60': 1091, 'asid': 1092, 'brutal': 1093, 'somewher': 1094, 'steve': 1095, 'depress': 1096, 'u': 1097, 'explor': 1098, 'grant': 1099, 'rule': 1100, 'opportun': 1101, 'besid': 1102, 'honest': 1103, 'dub': 1104, 'anti': 1105, 'intend': 1106, 'trailer': 1107, 'bar': 1108, 'west': 1109, 'regard': 1110, 'scientist': 1111, 'longer': 1112, 'judg': 1113, 'decad': 1114, 'silent': 1115, 'armi': 1116, 'creativ': 1117, 'wild': 1118, 'south': 1119, 'g': 1120, 'stewart': 1121, 'draw': 1122, 'road': 1123, 'govern': 1124, 'ex': 1125, 'boss': 1126, 'practic': 1127, 'gang': 1128, 'surprisingli': 1129, 'club': 1130, 'motiv': 1131, 'festiv': 1132, 'redeem': 1133, 'green': 1134, 'page': 1135, 'london': 1136, 'machin': 1137, 'militari': 1138, 'idiot': 1139, 'display': 1140, 'aliv': 1141, 'thrill': 1142, 'repeat': 1143, 'yeah': 1144, 'folk': 1145, 'nobodi': 1146, '100': 1147, '40': 1148, 'garbag': 1149, 'journey': 1150, 'tire': 1151, 'smile': 1152, 'ground': 1153, 'bought': 1154, 'mood': 1155, 'stone': 1156, 'sam': 1157, 'cost': 1158, 'noir': 1159, 'mouth': 1160, 'terrif': 1161, 'agent': 1162, 'requir': 1163, 'utterli': 1164, 'honestli': 1165, 'sexi': 1166, 'area': 1167, 'report': 1168, 'geniu': 1169, 'humour': 1170, 'enter': 1171, 'glad': 1172, 'investig': 1173, 'serial': 1174, 'narr': 1175, 'occasion': 1176, 'passion': 1177, 'climax': 1178, 'marriag': 1179, 'studi': 1180, 'industri': 1181, 'demon': 1182, 'ship': 1183, 'charli': 1184, 'center': 1185, 'nowher': 1186, 'bear': 1187, 'loos': 1188, 'hors': 1189, 'hang': 1190, 'wow': 1191, 'graphic': 1192, 'giant': 1193, 'admir': 1194, 'send': 1195, 'loud': 1196, 'damn': 1197, 'nake': 1198, 'rel': 1199, 'subtl': 1200, 'profession': 1201, 'blow': 1202, 'bottom': 1203, 'insult': 1204, 'batman': 1205, 'doubl': 1206, 'r': 1207, 'kelli': 1208, 'boyfriend': 1209, 'initi': 1210, 'frame': 1211, 'gem': 1212, 'opera': 1213, 'challeng': 1214, 'drawn': 1215, 'affect': 1216, 'church': 1217, 'cinemat': 1218, 'nightmar': 1219, 'evid': 1220, 'fulli': 1221, 'j': 1222, 'l': 1223, 'seek': 1224, 'arm': 1225, 'conflict': 1226, 'essenti': 1227, 'wind': 1228, 'christoph': 1229, 'grace': 1230, 'henri': 1231, 'narrat': 1232, 'witch': 1233, 'assum': 1234, 'push': 1235, 'hunt': 1236, 'chri': 1237, 'wise': 1238, 'nomin': 1239, 'month': 1240, 'repres': 1241, 'affair': 1242, 'avail': 1243, 'hide': 1244, 'sceneri': 1245, 'smart': 1246, 'thu': 1247, 'bond': 1248, 'justic': 1249, 'interview': 1250, 'flashback': 1251, 'outstand': 1252, 'satisfi': 1253, 'constantli': 1254, 'presenc': 1255, 'central': 1256, 'bed': 1257, 'content': 1258, 'sell': 1259, 'iron': 1260, 'everybodi': 1261, 'gag': 1262, 'hotel': 1263, 'slowli': 1264, 'hire': 1265, 'system': 1266, 'hey': 1267, 'adam': 1268, 'charl': 1269, 'individu': 1270, 'thrown': 1271, 'mediocr': 1272, 'allen': 1273, 'jone': 1274, 'lesson': 1275, 'ray': 1276, 'billi': 1277, 'cameo': 1278, 'photographi': 1279, 'fellow': 1280, 'pari': 1281, 'strike': 1282, 'independ': 1283, 'rise': 1284, 'absurd': 1285, 'brief': 1286, 'neg': 1287, 'phone': 1288, 'impact': 1289, 'born': 1290, 'model': 1291, 'ill': 1292, 'fresh': 1293, 'spoil': 1294, 'angl': 1295, 'likabl': 1296, 'abus': 1297, 'hill': 1298, 'discuss': 1299, 'ahead': 1300, 'sight': 1301, 'sent': 1302, 'photograph': 1303, 'logic': 1304, 'occur': 1305, 'shine': 1306, 'blame': 1307, 'bruce': 1308, 'mainli': 1309, 'commerci': 1310, 'skip': 1311, 'forev': 1312, 'surround': 1313, 'held': 1314, 'teacher': 1315, 'segment': 1316, 'blond': 1317, 'zero': 1318, 'resembl': 1319, 'trap': 1320, 'summer': 1321, 'satir': 1322, 'ball': 1323, 'fool': 1324, 'queen': 1325, 'six': 1326, 'twice': 1327, 'sub': 1328, 'tragedi': 1329, 'reaction': 1330, 'pack': 1331, 'bomb': 1332, 'will': 1333, 'hospit': 1334, 'protagonist': 1335, 'mile': 1336, 'sport': 1337, 'jerri': 1338, 'mom': 1339, 'drink': 1340, 'trust': 1341, 'vote': 1342, 'encount': 1343, 'plane': 1344, 'station': 1345, 'al': 1346, 'current': 1347, 'program': 1348, 'choos': 1349, 'martin': 1350, 'celebr': 1351, 'join': 1352, 'lord': 1353, 'tragic': 1354, 'favourit': 1355, 'round': 1356, 'field': 1357, 'jean': 1358, 'vision': 1359, 'robot': 1360, 'arthur': 1361, 'tie': 1362, 'random': 1363, 'roger': 1364, 'fortun': 1365, 'intern': 1366, 'dread': 1367, 'psycholog': 1368, 'epic': 1369, 'improv': 1370, 'prefer': 1371, 'nonsens': 1372, 'pleasur': 1373, 'formula': 1374, 'highlight': 1375, 'legend': 1376, '11': 1377, 'tape': 1378, 'dollar': 1379, 'gorgeou': 1380, 'object': 1381, 'thin': 1382, 'wide': 1383, 'fox': 1384, 'porn': 1385, 'buddi': 1386, 'ugli': 1387, 'influenc': 1388, 'prepar': 1389, 'nasti': 1390, 'ii': 1391, 'warm': 1392, 'progress': 1393, 'supposedli': 1394, 'reflect': 1395, 'worthi': 1396, 'youth': 1397, 'length': 1398, 'latter': 1399, 'unusu': 1400, 'crash': 1401, 'superior': 1402, 'seven': 1403, 'childhood': 1404, 'shop': 1405, 'remot': 1406, 'theatr': 1407, 'pilot': 1408, 'paid': 1409, 'disgust': 1410, 'funniest': 1411, 'castl': 1412, 'fell': 1413, 'convers': 1414, 'trick': 1415, 'disast': 1416, 'gangster': 1417, 'rob': 1418, 'establish': 1419, 'heaven': 1420, 'ident': 1421, 'suicid': 1422, 'disappear': 1423, 'mine': 1424, 'forgotten': 1425, 'tend': 1426, 'mask': 1427, 'singer': 1428, 'decis': 1429, 'heroin': 1430, 'brian': 1431, 'partner': 1432, 'desert': 1433, 'alan': 1434, 'recogn': 1435, 'thoroughli': 1436, 'sky': 1437, 'p': 1438, 'ms': 1439, 'stuck': 1440, 'accur': 1441, 'replac': 1442, 'market': 1443, 'clue': 1444, 'andi': 1445, 'uncl': 1446, 'seemingli': 1447, 'eddi': 1448, 'danni': 1449, 'commentari': 1450, 'devil': 1451, 'jackson': 1452, 'therefor': 1453, 'that': 1454, 'pair': 1455, 'refus': 1456, 'river': 1457, 'accid': 1458, 'fate': 1459, 'fault': 1460, 'unit': 1461, 'ed': 1462, 'afraid': 1463, 'tune': 1464, 'russian': 1465, 'clean': 1466, 'stephen': 1467, 'hidden': 1468, 'readi': 1469, 'irrit': 1470, 'captain': 1471, 'test': 1472, 'quick': 1473, 'convey': 1474, 'instanc': 1475, 'european': 1476, 'insan': 1477, 'daniel': 1478, 'frustrat': 1479, 'rescu': 1480, 'wed': 1481, '1950': 1482, 'chines': 1483, 'food': 1484, 'dirti': 1485, 'lock': 1486, 'angri': 1487, 'joy': 1488, 'steven': 1489, 'price': 1490, 'bland': 1491, 'cage': 1492, 'rang': 1493, 'anymor': 1494, 'wooden': 1495, 'news': 1496, 'jason': 1497, 'n': 1498, 'rush': 1499, 'board': 1500, 'twenti': 1501, 'martial': 1502, 'led': 1503, 'worri': 1504, '12': 1505, 'hunter': 1506, 'symbol': 1507, 'cgi': 1508, 'transform': 1509, 'piti': 1510, 'invent': 1511, 'johnni': 1512, 'onto': 1513, 'sentiment': 1514, 'x': 1515, 'attitud': 1516, 'process': 1517, 'explan': 1518, 'awar': 1519, 'owner': 1520, 'aim': 1521, 'target': 1522, 'necessari': 1523, 'favor': 1524, 'energi': 1525, 'floor': 1526, 'religi': 1527, 'opposit': 1528, 'blind': 1529, 'insight': 1530, 'window': 1531, 'chick': 1532, 'movement': 1533, 'deepli': 1534, 'mountain': 1535, 'possess': 1536, 'research': 1537, 'comparison': 1538, 'grand': 1539, 'whatsoev': 1540, 'rain': 1541, 'comed': 1542, 'began': 1543, 'bank': 1544, 'shadow': 1545, 'mid': 1546, 'parodi': 1547, 'princ': 1548, 'weapon': 1549, 'pre': 1550, 'friendship': 1551, 'taylor': 1552, 'credibl': 1553, 'teach': 1554, 'flesh': 1555, 'dougla': 1556, 'terror': 1557, 'hint': 1558, 'protect': 1559, 'bloodi': 1560, 'marvel': 1561, 'drunk': 1562, 'load': 1563, 'leader': 1564, 'superman': 1565, 'watchabl': 1566, 'accord': 1567, 'anybodi': 1568, 'brown': 1569, 'freddi': 1570, 'tim': 1571, 'appropri': 1572, 'seat': 1573, 'hitler': 1574, 'jeff': 1575, 'unknown': 1576, 'charg': 1577, 'knock': 1578, 'villag': 1579, 'keaton': 1580, 'empti': 1581, 'unnecessari': 1582, 'england': 1583, 'enemi': 1584, 'media': 1585, 'utter': 1586, 'perspect': 1587, 'dare': 1588, 'craft': 1589, 'buck': 1590, 'strength': 1591, 'wave': 1592, 'nativ': 1593, 'correct': 1594, 'kiss': 1595, 'ford': 1596, 'contrast': 1597, 'chill': 1598, 'nazi': 1599, 'anywher': 1600, 'magnific': 1601, 'knowledg': 1602, 'soap': 1603, 'speed': 1604, 'distract': 1605, '1980': 1606, 'mission': 1607, 'fred': 1608, 'breath': 1609, 'ice': 1610, 'moon': 1611, 'crowd': 1612, 'jr': 1613, 'joan': 1614, 'frighten': 1615, 'soft': 1616, 'kate': 1617, '000': 1618, 'dick': 1619, 'nick': 1620, 'hundr': 1621, 'dan': 1622, 'radio': 1623, 'somebodi': 1624, 'dozen': 1625, 'simon': 1626, 'shakespear': 1627, 'academi': 1628, 'andrew': 1629, 'thousand': 1630, 'loss': 1631, 'sum': 1632, 'vehicl': 1633, 'root': 1634, 'account': 1635, 'quot': 1636, 'convent': 1637, 'leg': 1638, 'behavior': 1639, '1970': 1640, 'regular': 1641, 'gold': 1642, 'demand': 1643, 'worker': 1644, 'compet': 1645, 'pretenti': 1646, 'notabl': 1647, 'candi': 1648, 'interpret': 1649, 'privat': 1650, 'stretch': 1651, 'explos': 1652, 'lynch': 1653, 'japan': 1654, 'constant': 1655, 'debut': 1656, 'tarzan': 1657, 'translat': 1658, 'prais': 1659, 'spi': 1660, 'sea': 1661, 'revolv': 1662, 'technolog': 1663, 'threaten': 1664, 'ass': 1665, 'failur': 1666, 'sat': 1667, 'jesu': 1668, 'quiet': 1669, 'franc': 1670, 'punch': 1671, 'met': 1672, 'toy': 1673, 'kevin': 1674, 'higher': 1675, 'aid': 1676, 'interact': 1677, 'mike': 1678, 'abandon': 1679, 'vh': 1680, 'separ': 1681, 'command': 1682, 'confront': 1683, 'bet': 1684, 'site': 1685, 'recal': 1686, 'techniqu': 1687, 'gotten': 1688, 'servic': 1689, 'belong': 1690, 'stunt': 1691, 'cabl': 1692, 'freak': 1693, 'foot': 1694, 'bug': 1695, 'jimmi': 1696, 'african': 1697, 'capabl': 1698, 'bright': 1699, 'fu': 1700, 'fat': 1701, 'stock': 1702, 'presid': 1703, 'succeed': 1704, 'clark': 1705, 'boat': 1706, 'structur': 1707, 'spanish': 1708, 'gene': 1709, 'paper': 1710, 'kidnap': 1711, 'whilst': 1712, 'belief': 1713, 'factor': 1714, 'tree': 1715, 'attend': 1716, 'realis': 1717, 'witti': 1718, 'educ': 1719, 'complic': 1720, 'realism': 1721, 'bob': 1722, 'broken': 1723, 'assist': 1724, 'finest': 1725, 'santa': 1726, 'smoke': 1727, 'observ': 1728, 'depart': 1729, 'determin': 1730, 'up': 1731, 'v': 1732, 'hat': 1733, 'routin': 1734, 'oper': 1735, 'lewi': 1736, 'rubbish': 1737, 'fame': 1738, 'domin': 1739, 'foreign': 1740, 'hook': 1741, 'safe': 1742, 'lone': 1743, 'kinda': 1744, 'morgan': 1745, 'advanc': 1746, 'rank': 1747, 'numer': 1748, 'vs': 1749, 'civil': 1750, 'washington': 1751, 'rose': 1752, 'shape': 1753, 'shallow': 1754, 'werewolf': 1755, 'gari': 1756, 'morn': 1757, 'winner': 1758, 'accomplish': 1759, 'kong': 1760, 'ordinari': 1761, 'peac': 1762, 'whenev': 1763, 'virtual': 1764, 'grab': 1765, 'luck': 1766, 'offens': 1767, 'h': 1768, 'activ': 1769, 'contriv': 1770, 'bigger': 1771, 'patient': 1772, 'complain': 1773, 'unfunni': 1774, 'welcom': 1775, 'con': 1776, 'pretend': 1777, 'trek': 1778, 'dimension': 1779, 'flash': 1780, 'lesbian': 1781, 'code': 1782, 'eric': 1783, 'wake': 1784, 'dri': 1785, 'cain': 1786, 'statu': 1787, 'guard': 1788, 'corrupt': 1789, 'dancer': 1790, 'manipul': 1791, 'albert': 1792, 'context': 1793, 'gain': 1794, 'signific': 1795, 'speech': 1796, 'sourc': 1797, 'awkward': 1798, 'psycho': 1799, 'sean': 1800, 'anthoni': 1801, 'clip': 1802, 'corni': 1803, '13': 1804, 'reli': 1805, 'advic': 1806, 'curiou': 1807, 'w': 1808, 'theatric': 1809, 'religion': 1810, 'priest': 1811, 'addict': 1812, 'flow': 1813, 'asian': 1814, 'howard': 1815, 'secur': 1816, 'specif': 1817, 'skin': 1818, 'jennif': 1819, 'golden': 1820, 'luke': 1821, 'core': 1822, 'comfort': 1823, 'organ': 1824, 'promot': 1825, 'cheat': 1826, 'lucki': 1827, 'cash': 1828, 'lower': 1829, 'dislik': 1830, 'associ': 1831, 'devic': 1832, 'contribut': 1833, 'frankli': 1834, 'regret': 1835, 'frequent': 1836, 'degre': 1837, 'spell': 1838, 'wing': 1839, 'balanc': 1840, 'lake': 1841, 'forgiv': 1842, 'sake': 1843, 'print': 1844, 'mass': 1845, 'thoma': 1846, 'betti': 1847, 'gordon': 1848, 'unexpect': 1849, 'crack': 1850, 'invit': 1851, 'construct': 1852, 'unfold': 1853, 'categori': 1854, 'depend': 1855, 'grown': 1856, 'amateur': 1857, 'condit': 1858, 'matur': 1859, 'intellectu': 1860, 'grew': 1861, 'honor': 1862, 'walter': 1863, 'anna': 1864, 'spectacular': 1865, 'veteran': 1866, 'mirror': 1867, 'sole': 1868, 'sudden': 1869, 'demonstr': 1870, 'meanwhil': 1871, 'overli': 1872, 'experienc': 1873, 'gift': 1874, 'freedom': 1875, 'robin': 1876, 'liner': 1877, 'card': 1878, 'grip': 1879, 'oliv': 1880, 'crappi': 1881, 'unabl': 1882, 'subtitl': 1883, 'sheriff': 1884, 'circumst': 1885, 'colour': 1886, 'section': 1887, 'theori': 1888, 'brilliantli': 1889, 'drew': 1890, 'cook': 1891, 'matt': 1892, 'pile': 1893, 'path': 1894, 'altern': 1895, 'sheer': 1896, 'parker': 1897, 'laughter': 1898, 'treatment': 1899, 'wander': 1900, 'relief': 1901, 'accident': 1902, 'hall': 1903, 'defin': 1904, 'sinatra': 1905, 'lawyer': 1906, 'captiv': 1907, 'dragon': 1908, 'hank': 1909, 'halloween': 1910, 'moor': 1911, 'gratuit': 1912, 'k': 1913, 'barbara': 1914, 'wound': 1915, 'unintent': 1916, 'cowboy': 1917, 'wayn': 1918, 'jacki': 1919, 'broadway': 1920, 'kung': 1921, 'winter': 1922, 'statement': 1923, 'surreal': 1924, 'canadian': 1925, 'spoof': 1926, 'gonna': 1927, 'cheer': 1928, 'treasur': 1929, 'compos': 1930, 'fish': 1931, 'fare': 1932, 'emerg': 1933, 'unrealist': 1934, 'woodi': 1935, 'sensit': 1936, 'victor': 1937, 'sympathet': 1938, 'driven': 1939, 'ran': 1940, 'neighbor': 1941, 'menac': 1942, 'glass': 1943, 'overlook': 1944, 'topic': 1945, 'authent': 1946, 'expos': 1947, 'chief': 1948, 'gross': 1949, 'michel': 1950, 'handsom': 1951, 'ancient': 1952, 'russel': 1953, 'nevertheless': 1954, 'built': 1955, 'cinderella': 1956, 'comedian': 1957, 'network': 1958, 'feet': 1959, 'pleasant': 1960, 'contemporari': 1961, 'stranger': 1962, 'underr': 1963, 'earn': 1964, 'miser': 1965, 'blockbust': 1966, 'letter': 1967, 'gori': 1968, 'endless': 1969, 'consider': 1970, 'switch': 1971, 'solv': 1972, 'brook': 1973, 'bullet': 1974, 'victoria': 1975, 'edward': 1976, 'virgin': 1977, 'joseph': 1978, 'convict': 1979, 'scale': 1980, 'scenario': 1981, '0': 1982, 'chosen': 1983, 'alex': 1984, 'cynic': 1985, 'gut': 1986, 'outrag': 1987, 'sword': 1988, 'curs': 1989, 'com': 1990, 'substanc': 1991, 'driver': 1992, 'uk': 1993, 'monkey': 1994, 'juli': 1995, 'proper': 1996, 'screenwrit': 1997, 'wrap': 1998, 'bird': 1999, 'court': 2000, 'par': 2001, 'indic': 2002, 'remov': 2003, 'rental': 2004, 'advertis': 2005, 'inevit': 2006, 'loser': 2007, 'roy': 2008, 'nanci': 2009, 'naiv': 2010, 'grave': 2011, 'consequ': 2012, 'brave': 2013, 'slap': 2014, 'germani': 2015, 'le': 2016, 'bridg': 2017, 'invis': 2018, 'fatal': 2019, 'loui': 2020, 'provok': 2021, 'anger': 2022, 'footbal': 2023, 'ador': 2024, 'alcohol': 2025, 'anderson': 2026, 'chan': 2027, 'stumbl': 2028, 'willi': 2029, 'professor': 2030, 'ryan': 2031, 'assassin': 2032, 'australian': 2033, 'bat': 2034, 'patrick': 2035, '1930': 2036, 'sharp': 2037, 'trilog': 2038, 'cell': 2039, 'refresh': 2040, 'liber': 2041, 'heck': 2042, 'strongli': 2043, 'deni': 2044, 'lousi': 2045, 'saturday': 2046, 'ape': 2047, 'amateurish': 2048, 'eight': 2049, 'sin': 2050, 'justifi': 2051, 'san': 2052, 'vagu': 2053, 'resid': 2054, 'terrifi': 2055, 'mini': 2056, 'reput': 2057, 'creator': 2058, 'sympathi': 2059, 'defeat': 2060, 'indi': 2061, 'tediou': 2062, 'endur': 2063, 'expert': 2064, 'prevent': 2065, 'task': 2066, 'tabl': 2067, 'employ': 2068, 'imit': 2069, 'offend': 2070, 'rival': 2071, 'basebal': 2072, 'trial': 2073, 'che': 2074, 'weekend': 2075, 'dig': 2076, 'beach': 2077, 'complaint': 2078, 'max': 2079, 'fairi': 2080, 'europ': 2081, 'pitch': 2082, 'risk': 2083, 'purchas': 2084, 'murphi': 2085, 'format': 2086, 'powel': 2087, 'harsh': 2088, 'glimps': 2089, 'titan': 2090, 'hype': 2091, 'reminisc': 2092, 'nois': 2093, 'tini': 2094, 'bite': 2095, 'north': 2096, 'asleep': 2097, '14': 2098, 'strip': 2099, 'till': 2100, 'prime': 2101, 'fals': 2102, 'revel': 2103, 'africa': 2104, 'descript': 2105, 'texa': 2106, 'destruct': 2107, 'uninterest': 2108, 'sitcom': 2109, 'spin': 2110, 'arrest': 2111, 'excess': 2112, 'semi': 2113, 'inner': 2114, 'surfac': 2115, 'massiv': 2116, 'twin': 2117, 'hitchcock': 2118, 'dinosaur': 2119, 'makeup': 2120, 'argu': 2121, 'maintain': 2122, 'controversi': 2123, 'insist': 2124, 'ludicr': 2125, 'stare': 2126, 'reject': 2127, 'ideal': 2128, 'expens': 2129, 'melodrama': 2130, 'kim': 2131, 'atroci': 2132, 'forest': 2133, 'press': 2134, 'columbo': 2135, 'erot': 2136, 'subplot': 2137, 'host': 2138, 'ala': 2139, 'nail': 2140, 'supernatur': 2141, 'ga': 2142, 'cant': 2143, 'notch': 2144, 'dude': 2145, 'presum': 2146, 'identifi': 2147, 'forgett': 2148, 'plagu': 2149, 'guest': 2150, 'character': 2151, 'closer': 2152, 'crude': 2153, 'method': 2154, 'border': 2155, 'beast': 2156, 'princess': 2157, 'foster': 2158, 'ear': 2159, 'lion': 2160, 'landscap': 2161, 'pacino': 2162, 'jungl': 2163, 'storytel': 2164, 'bound': 2165, 'urban': 2166, 'damag': 2167, 'accus': 2168, 'birth': 2169, 'aunt': 2170, 'previous': 2171, 'propaganda': 2172, 'doll': 2173, 'jess': 2174, 'thirti': 2175, 'chose': 2176, 'nude': 2177, 'guid': 2178, 'emma': 2179, 'mainstream': 2180, '25': 2181, 'whoever': 2182, 'mate': 2183, 'warrior': 2184, 'pet': 2185, 'gritti': 2186, 'friday': 2187, 'upset': 2188, 'deadli': 2189, 'cooper': 2190, 'latest': 2191, 'exact': 2192, 'poster': 2193, 'size': 2194, 'merit': 2195, 'wilson': 2196, 'rough': 2197, 'corps': 2198, 'contact': 2199, 'ton': 2200, '1990': 2201, 'citizen': 2202, 'popul': 2203, 'warner': 2204, 'sun': 2205, 'settl': 2206, 'blend': 2207, 'contest': 2208, 'buff': 2209, 'widow': 2210, 'environ': 2211, 'rat': 2212, 'select': 2213, 'overcom': 2214, 'metal': 2215, 'pitt': 2216, 'bu': 2217, 'alic': 2218, 'mgm': 2219, 'revolut': 2220, 'lift': 2221, 'guilti': 2222, 'link': 2223, 'ted': 2224, 'particip': 2225, '1960': 2226, 'prostitut': 2227, 'afternoon': 2228, 'johnson': 2229, 'moron': 2230, 'corpor': 2231, 'matrix': 2232, 'exagger': 2233, 'corner': 2234, 'accompani': 2235, 'instal': 2236, 'sincer': 2237, 'leagu': 2238, 'hood': 2239, 'doom': 2240, 'friendli': 2241, 'holm': 2242, 'clair': 2243, 'multipl': 2244, 'aka': 2245, 'sunday': 2246, 'string': 2247, 'advis': 2248, 'hip': 2249, 'junk': 2250, 'blah': 2251, 'campi': 2252, 'defend': 2253, 'lugosi': 2254, 'irish': 2255, 'examin': 2256, 'grim': 2257, 'confid': 2258, 'shake': 2259, 'rachel': 2260, 'shut': 2261, 'varieti': 2262, 'icon': 2263, 'pro': 2264, 'tight': 2265, 'medic': 2266, 'attach': 2267, 'directli': 2268, 'goal': 2269, 'denni': 2270, 'jaw': 2271, 'sullivan': 2272, 'mexican': 2273, 'bourn': 2274, 'terrorist': 2275, 'duke': 2276, 'sentenc': 2277, 'courag': 2278, 'breast': 2279, 'vietnam': 2280, 'truck': 2281, 'dean': 2282, 'prior': 2283, 'legendari': 2284, 'sarah': 2285, 'split': 2286, 'behav': 2287, 'donald': 2288, 'nose': 2289, 'entri': 2290, 'hong': 2291, 'yell': 2292, 'proceed': 2293, 'un': 2294, 'buri': 2295, 'everywher': 2296, 'gather': 2297, 'jerk': 2298, 'forth': 2299, 'stolen': 2300, 'crush': 2301, 'swim': 2302, 'concentr': 2303, 'borrow': 2304, 'lifetim': 2305, 'confess': 2306, 'unconvinc': 2307, 'pan': 2308, 'deliveri': 2309, 'lip': 2310, 'julia': 2311, 'california': 2312, 'turkey': 2313, 'spite': 2314, 'quest': 2315, 'offici': 2316, 'downright': 2317, 'china': 2318, 'proud': 2319, 'flight': 2320, 'reward': 2321, 'freeman': 2322, 'hoffman': 2323, 'fabul': 2324, 'sink': 2325, 'jail': 2326, 'sir': 2327, 'betray': 2328, 'worthwhil': 2329, 'notori': 2330, 'lazi': 2331, 'inept': 2332, 'fade': 2333, 'jon': 2334, 'encourag': 2335, 'survivor': 2336, 'retard': 2337, 'teeth': 2338, 'shower': 2339, 'cousin': 2340, 'bag': 2341, 'relev': 2342, 'lisa': 2343, 'branagh': 2344, 'imageri': 2345, 'storm': 2346, 'bell': 2347, 'susan': 2348, 'stab': 2349, 'quirki': 2350, 'alright': 2351, 'mexico': 2352, 'bride': 2353, 'toler': 2354, 'hugh': 2355, 'finger': 2356, 'facial': 2357, 'tremend': 2358, 'trade': 2359, 'shark': 2360, 'summari': 2361, 'pose': 2362, 'bitter': 2363, 'blown': 2364, 'von': 2365, 'hyster': 2366, 'ha': 2367, 'scheme': 2368, 'cruel': 2369, 'afterward': 2370, 'ron': 2371, 'larri': 2372, 'christ': 2373, 'address': 2374, 'ned': 2375, 'bone': 2376, 'feed': 2377, 'screw': 2378, 'beg': 2379, 'thumb': 2380, 'pursu': 2381, 'tour': 2382, 'swear': 2383, 'distinct': 2384, 'snake': 2385, 'traci': 2386, 'photo': 2387, 'obscur': 2388, 'occas': 2389, 'chair': 2390, 'mechan': 2391, 'stomach': 2392, 'raw': 2393, 'gruesom': 2394, 'southern': 2395, 'holiday': 2396, 'resist': 2397, 'chain': 2398, 'argument': 2399, 'render': 2400, 'heavili': 2401, 'hardi': 2402, 'sidney': 2403, 'necessarili': 2404, 'cabin': 2405, 'satan': 2406, 'racist': 2407, 'understood': 2408, 'india': 2409, 'indulg': 2410, 'philip': 2411, 'forgot': 2412, 'belov': 2413, 'stalk': 2414, 'obnoxi': 2415, 'fourth': 2416, 'outfit': 2417, 'integr': 2418, 'midnight': 2419, 'pregnant': 2420, 'tongu': 2421, 'lay': 2422, 'carol': 2423, 'inhabit': 2424, 'ticket': 2425, 'restor': 2426, '17': 2427, 'deeper': 2428, 'garden': 2429, 'magazin': 2430, 'slapstick': 2431, 'incid': 2432, 'devot': 2433, 'brad': 2434, 'lincoln': 2435, 'shoe': 2436, 'elizabeth': 2437, 'benefit': 2438, 'anticip': 2439, 'disbelief': 2440, 'sandler': 2441, 'guarante': 2442, 'maria': 2443, 'lili': 2444, 'underground': 2445, 'divorc': 2446, 'amazingli': 2447, 'mildli': 2448, 'bbc': 2449, 'cring': 2450, 'slave': 2451, 'greater': 2452, 'explod': 2453, 'capit': 2454, 'princip': 2455, 'creation': 2456, 'funnier': 2457, 'halfway': 2458, 'lesli': 2459, 'extraordinari': 2460, 'introduct': 2461, 'overwhelm': 2462, 'advantag': 2463, 'wreck': 2464, 'punish': 2465, 'enhanc': 2466, 'extent': 2467, 'transfer': 2468, 'text': 2469, 'tap': 2470, 'jessica': 2471, 'lo': 2472, 'error': 2473, 'preview': 2474, 'lane': 2475, 'east': 2476, 'dynam': 2477, 'horrif': 2478, 'deliber': 2479, 'plant': 2480, 'sophist': 2481, 'vacat': 2482, 'basi': 2483, '2000': 2484, 'miller': 2485, 'appli': 2486, 'homosexu': 2487, 'vincent': 2488, 'miscast': 2489, 'ensu': 2490, 'via': 2491, 'measur': 2492, 'uncomfort': 2493, 'extend': 2494, 'mansion': 2495, 'reed': 2496, 'spoken': 2497, 'elev': 2498, 'sleazi': 2499, 'steel': 2500, 'bollywood': 2501, 'breathtak': 2502, 'hippi': 2503, 'mous': 2504, 'fix': 2505, 'beer': 2506, 'dentist': 2507, 'savag': 2508, 'alter': 2509, 'overact': 2510, 'stanley': 2511, 'daili': 2512, 'blair': 2513, 'assign': 2514, 'conceiv': 2515, 'goofi': 2516, 'cathol': 2517, 'melt': 2518, 'subsequ': 2519, 'nowaday': 2520, 'oppos': 2521, 'succe': 2522, 'sacrific': 2523, 'everyday': 2524, 'inspector': 2525, 'carpent': 2526, 'properli': 2527, 'burt': 2528, 'neck': 2529, 'laura': 2530, 'block': 2531, 'massacr': 2532, 'circl': 2533, 'grey': 2534, 'pool': 2535, 'lesser': 2536, 'portrait': 2537, 'fallen': 2538, 'mob': 2539, 'concert': 2540, 'seagal': 2541, 'access': 2542, 'fay': 2543, 'christi': 2544, 'competit': 2545, 'jewish': 2546, 'react': 2547, 'chees': 2548, 'relax': 2549, 'sinist': 2550, 'isol': 2551, 'jake': 2552, 'usa': 2553, 'spiritu': 2554, 'ironi': 2555, 'immens': 2556, 'lyric': 2557, 'nonetheless': 2558, 'chop': 2559, 'stink': 2560, 'nine': 2561, 'suitabl': 2562, 'creep': 2563, 'appal': 2564, '2006': 2565, 'nut': 2566, 'spring': 2567, 'sold': 2568, 'needless': 2569, 'retir': 2570, 'rage': 2571, 'shirt': 2572, 'franchis': 2573, 'showcas': 2574, 'navi': 2575, 'adopt': 2576, 'reduc': 2577, 'user': 2578, 'luci': 2579, 'nurs': 2580, 'asham': 2581, 'bath': 2582, 'bulli': 2583, 'digit': 2584, 'uninspir': 2585, 'per': 2586, 'jay': 2587, 'zone': 2588, 'stanwyck': 2589, 'laid': 2590, 'oddli': 2591, '1940': 2592, 'broadcast': 2593, 'sutherland': 2594, 'amongst': 2595, 'illustr': 2596, '2001': 2597, 'upper': 2598, 'disguis': 2599, 'stylish': 2600, 'brando': 2601, 'fulfil': 2602, 'throat': 2603, 'baker': 2604, 'aspir': 2605, 'pride': 2606, 'pound': 2607, 'endear': 2608, '18': 2609, 'nobl': 2610, 'thief': 2611, 'impli': 2612, 'wwii': 2613, 'neighborhood': 2614, 'em': 2615, 'wanna': 2616, 'cinematograph': 2617, 'coher': 2618, 'bo': 2619, 'dawn': 2620, '16': 2621, 'tens': 2622, 'diseas': 2623, 'distribut': 2624, 'dinner': 2625, 'shift': 2626, 'shoulder': 2627, 'albeit': 2628, 'bett': 2629, 'rochest': 2630, 'prop': 2631, 'silenc': 2632, 'contract': 2633, 'shout': 2634, 'knife': 2635, 'rebel': 2636, 'snow': 2637, 'poignant': 2638, 'matthau': 2639, 'wash': 2640, 'forti': 2641, 'function': 2642, 'surf': 2643, 'horrend': 2644, 'reunion': 2645, 'mindless': 2646, 'eeri': 2647, 'widmark': 2648, 'cannib': 2649, 'internet': 2650, 'instinct': 2651, 'chuck': 2652, 'silver': 2653, 'heat': 2654, 'cancel': 2655, 'duti': 2656, 'height': 2657, 'derek': 2658, 'henc': 2659, 'proof': 2660, 'elvira': 2661, 'etern': 2662, 'incoher': 2663, 'repetit': 2664, 'pie': 2665, 'musician': 2666, 'spielberg': 2667, 'neat': 2668, 'greatli': 2669, 'glori': 2670, 'mill': 2671, 'alik': 2672, 'torn': 2673, 'absorb': 2674, 'premier': 2675, 'innov': 2676, 'elvi': 2677, 'horrifi': 2678, 'itali': 2679, 'blank': 2680, 'lovabl': 2681, 'infam': 2682, 'bang': 2683, 'redempt': 2684, 'nelson': 2685, 'racism': 2686, 'announc': 2687, 'precis': 2688, 'diamond': 2689, 'homag': 2690, 'burton': 2691, 'wealthi': 2692, 'fbi': 2693, 'britain': 2694, 'trite': 2695, 'crisi': 2696, 'chaplin': 2697, 'resolut': 2698, 'ensembl': 2699, 'parallel': 2700, 'pat': 2701, 'hammer': 2702, 'happili': 2703, 'helen': 2704, 'wilder': 2705, 'flop': 2706, 'dedic': 2707, 'streisand': 2708, 'broke': 2709, 'st': 2710, 'factori': 2711, 'conclud': 2712, 'plastic': 2713, 'carter': 2714, 'disagre': 2715, 'triumph': 2716, 'mar': 2717, 'cube': 2718, 'oil': 2719, 'bush': 2720, 'march': 2721, 'own': 2722, 'rocket': 2723, 'vega': 2724, 'fighter': 2725, 'climb': 2726, 'weight': 2727, 'chuckl': 2728, 'row': 2729, 'wherea': 2730, 'lust': 2731, 'meaning': 2732, 'enorm': 2733, 'kurt': 2734, 'mst3k': 2735, 'boot': 2736, 'dane': 2737, 'thug': 2738, 'unforgett': 2739, 'dump': 2740, 'spare': 2741, 'luca': 2742, 'sensibl': 2743, 'stress': 2744, 'dear': 2745, 'threat': 2746, 'difficulti': 2747, 'butt': 2748, 'bobbi': 2749, 'rap': 2750, 'brand': 2751, 'adequ': 2752, 'fifti': 2753, 'caricatur': 2754, 'karloff': 2755, 'engin': 2756, 'arnold': 2757, 'ego': 2758, 'polish': 2759, 'barri': 2760, 'flynn': 2761, 'journalist': 2762, 'arrog': 2763, 'swing': 2764, 'ralph': 2765, 'homeless': 2766, 'secretari': 2767, 'elabor': 2768, 'fest': 2769, 'hamlet': 2770, 'spike': 2771, 'float': 2772, 'simpson': 2773, 'arrang': 2774, 'induc': 2775, 'grate': 2776, 'fanci': 2777, 'conspiraci': 2778, 'puppet': 2779, 'resort': 2780, 'unbear': 2781, 'tool': 2782, 'phillip': 2783, 'tribut': 2784, 'boll': 2785, 'choreograph': 2786, 'cruis': 2787, 'pig': 2788, 'exercis': 2789, 'basement': 2790, 'guilt': 2791, 'muppet': 2792, 'slip': 2793, 'file': 2794, 'tower': 2795, 'document': 2796, 'korean': 2797, 'item': 2798, 'toilet': 2799, 'ward': 2800, 'puzzl': 2801, 'fianc': 2802, 'medium': 2803, 'ham': 2804, 'scarecrow': 2805, '24': 2806, 'layer': 2807, 'babe': 2808, 'editor': 2809, 'stan': 2810, 'inexplic': 2811, 'spark': 2812, 'slaughter': 2813, 'catherin': 2814, 'librari': 2815, 'denzel': 2816, 'territori': 2817, 'transit': 2818, 'assur': 2819, 'glover': 2820, 'minim': 2821, 'persona': 2822, 'portion': 2823, 'superfici': 2824, 'orient': 2825, 'doc': 2826, 'larger': 2827, 'philosoph': 2828, 'pg': 2829, 'jet': 2830, 'ban': 2831, 'dorothi': 2832, 'curti': 2833, 'owe': 2834, 'jeremi': 2835, 'sneak': 2836, 'shi': 2837, 'boredom': 2838, 'walken': 2839, 'wolf': 2840, 'financi': 2841, 'backdrop': 2842, 'multi': 2843, 'profound': 2844, 'hudson': 2845, 'metaphor': 2846, 'ambigu': 2847, 'cusack': 2848, 'eleph': 2849, 'whale': 2850, 'notion': 2851, 'gadget': 2852, '2005': 2853, 'union': 2854, 'implaus': 2855, 'stiff': 2856, 'elsewher': 2857, 'birthday': 2858, 'viru': 2859, 'ultra': 2860, 'hack': 2861, 'rave': 2862, 'bibl': 2863, 'disc': 2864, 'eastwood': 2865, 'slight': 2866, 'eva': 2867, 'newspap': 2868, 'superhero': 2869, 'afford': 2870, 'lloyd': 2871, 'poison': 2872, 'pad': 2873, 'hawk': 2874, 'distanc': 2875, 'urg': 2876, 'reader': 2877, '1st': 2878, 'squar': 2879, 'deriv': 2880, 'canada': 2881, 'restaur': 2882, 'drown': 2883, 'charisma': 2884, 'health': 2885, 'spread': 2886, 'huh': 2887, 'skit': 2888, 'cure': 2889, 'sadist': 2890, 'heston': 2891, 'button': 2892, 'montag': 2893, 'essenc': 2894, 'companion': 2895, 'estat': 2896, 'scoobi': 2897, 'invest': 2898, 'dealt': 2899, 'godfath': 2900, 'gradual': 2901, 'lab': 2902, 'maniac': 2903, 'peak': 2904, 'fetch': 2905, 'muslim': 2906, 'countless': 2907, 'alli': 2908, 'ritter': 2909, 'cup': 2910, 'tea': 2911, 'subtleti': 2912, 'miik': 2913, 'servant': 2914, 'gothic': 2915, 'kane': 2916, 'charismat': 2917, 'electr': 2918, 'briefli': 2919, 'iii': 2920, 'heroic': 2921, 'elect': 2922, 'salli': 2923, 'tender': 2924, 'resourc': 2925, 'ingredi': 2926, 'bud': 2927, 'nuanc': 2928, 'reel': 2929, 'toss': 2930, 'grandmoth': 2931, 'admittedli': 2932, 'neil': 2933, 'cole': 2934, 'wannab': 2935, 'dawson': 2936, 'stood': 2937, 'label': 2938, 'poverti': 2939, 'reev': 2940, 'punk': 2941, 'mafia': 2942, 'gate': 2943, 'kubrick': 2944, 'shall': 2945, 'mild': 2946, 'stronger': 2947, 'carrey': 2948, 'pit': 2949, 'pauli': 2950, 'outcom': 2951, 'tag': 2952, 'assault': 2953, 'useless': 2954, 'smooth': 2955, 'smash': 2956, 'burst': 2957, 'fond': 2958, 'ian': 2959, 'bakshi': 2960, 'cardboard': 2961, 'easier': 2962, 'terri': 2963, 'astair': 2964, 'cox': 2965, 'updat': 2966, 'rex': 2967, 'qualifi': 2968, 'increasingli': 2969, 'divers': 2970, 'vari': 2971, 'samurai': 2972, '2002': 2973, 'sketch': 2974, 'resolv': 2975, 'coincid': 2976, 'fist': 2977, 'exchang': 2978, 'vulner': 2979, 'melodramat': 2980, 'tame': 2981, 'be': 2982, 'blast': 2983, 'insert': 2984, 'conveni': 2985, 'luckili': 2986, 'suspend': 2987, 'reynold': 2988, 'brillianc': 2989, 'templ': 2990, 'scratch': 2991, 'strictli': 2992, 'gotta': 2993, 'matthew': 2994, 'farm': 2995, 'coach': 2996, 'meat': 2997, 'fisher': 2998, 'seventi': 2999, 'jami': 3000, 'nuclear': 3001, 'walker': 3002, 'ambiti': 3003, 'hamilton': 3004, 'pin': 3005, 'soprano': 3006, 'convolut': 3007, 'instantli': 3008, 'discoveri': 3009, 'recreat': 3010, 'clock': 3011, 'cave': 3012, 'kudo': 3013, 'grasp': 3014, 'joey': 3015, 'worthless': 3016, 'butcher': 3017, 'timeless': 3018, 'spooki': 3019, 'closet': 3020, 'ninja': 3021, 'empir': 3022, 'struck': 3023, 'eccentr': 3024, 'monk': 3025, 'revers': 3026, 'brosnan': 3027, 'gray': 3028, 'partli': 3029, 'sidekick': 3030, 'miracl': 3031, 'bleak': 3032, 'wipe': 3033, 'clown': 3034, 'communist': 3035, 'pal': 3036, 'selfish': 3037, 'sloppi': 3038, 'evok': 3039, 'importantli': 3040, 'eighti': 3041, 'seller': 3042, 'inconsist': 3043, 'declar': 3044, 'fifteen': 3045, 'cliff': 3046, 'mitchel': 3047, 'norman': 3048, 'chew': 3049, 'seed': 3050, 'stoog': 3051, 'enthusiast': 3052, 'australia': 3053, '45': 3054, 'ho': 3055, 'lifestyl': 3056, 'piano': 3057, 'websit': 3058, 'farc': 3059, 'superbl': 3060, 'psychiatrist': 3061, 'aforement': 3062, 'flawless': 3063, 'cheek': 3064, 'debat': 3065, 'destin': 3066, 'incompet': 3067, 'regardless': 3068, 'dire': 3069, 'soviet': 3070, 'wrestl': 3071, 'pressur': 3072, 'bash': 3073, 'directori': 3074, 'slice': 3075, 'splatter': 3076, 'abc': 3077, 'wick': 3078, 'akshay': 3079, 'dash': 3080, 'kitchen': 3081, 'drivel': 3082, 'emili': 3083, 'anni': 3084, 'cia': 3085, 'recov': 3086, 'seduc': 3087, 'ken': 3088, 'helicopt': 3089, 'judi': 3090, 'mann': 3091, 'doo': 3092, 'beaten': 3093, 'pleasantli': 3094, 'artifici': 3095, 'jar': 3096, 'lou': 3097, 'glow': 3098, 'blob': 3099, 'curios': 3100, 'cameron': 3101, 'increas': 3102, 'flower': 3103, 'boil': 3104, 'duo': 3105, 'chapter': 3106, 'prize': 3107, 'distant': 3108, 'cagney': 3109, 'suppli': 3110, 'dave': 3111, 'panic': 3112, 'favour': 3113, 'francisco': 3114, 'eleg': 3115, 'goldberg': 3116, 'ranger': 3117, 'psychot': 3118, 'craven': 3119, 'drunken': 3120, 'combat': 3121, 'craig': 3122, 'web': 3123, 'perri': 3124, 'hop': 3125, 'splendid': 3126, 'glenn': 3127, 'laurel': 3128, 'ellen': 3129, 'turner': 3130, 'flip': 3131, 'hatr': 3132, 'shortli': 3133, 'falk': 3134, 'greek': 3135, 'plausibl': 3136, 'wizard': 3137, 'gandhi': 3138, 'rid': 3139, 'graduat': 3140, 'fx': 3141, 'philosophi': 3142, 'modesti': 3143, 'slightest': 3144, 'gentl': 3145, 'alexand': 3146, '20th': 3147, 'min': 3148, 'ruth': 3149, 'unpleas': 3150, 'preciou': 3151, 'harm': 3152, 'fund': 3153, 'dracula': 3154, 'knight': 3155, 'legal': 3156, 'felix': 3157, 'jealou': 3158, 'holi': 3159, 'we': 3160, 'manhattan': 3161, 'tall': 3162, 'futurist': 3163, 'lend': 3164, 'ocean': 3165, 'forbidden': 3166, 'tank': 3167, 'overdon': 3168, 'thread': 3169, 'giallo': 3170, 'childish': 3171, 'reviv': 3172, 'mock': 3173, 'explicit': 3174, 'ami': 3175, 'digniti': 3176, 'bless': 3177, 'scientif': 3178, 'nod': 3179, 'torment': 3180, '99': 3181, '2004': 3182, 'awe': 3183, 'pirat': 3184, 'nerv': 3185, 'repeatedli': 3186, 'elderli': 3187, 'unwatch': 3188, 'fever': 3189, 'yesterday': 3190, 'thick': 3191, 'awaken': 3192, 'broad': 3193, 'eve': 3194, 'mel': 3195, 'verhoeven': 3196, 'margaret': 3197, 'lean': 3198, 'absenc': 3199, 'publish': 3200, 'launch': 3201, 'kay': 3202, 'acclaim': 3203, 'automat': 3204, 'rivet': 3205, 'royal': 3206, 'custom': 3207, 'timothi': 3208, 'eas': 3209, 'ambit': 3210, 'uniform': 3211, 'ah': 3212, 'politician': 3213, 'roman': 3214, 'bin': 3215, 'romero': 3216, 'stiller': 3217, 'griffith': 3218, 'termin': 3219, 'gabriel': 3220, 'homicid': 3221, 'stinker': 3222, 'crook': 3223, 'bathroom': 3224, 'phrase': 3225, 'pulp': 3226, 'warren': 3227, 'wallac': 3228, 'pierc': 3229, 'transport': 3230, 'darker': 3231, 'sunshin': 3232, 'tomato': 3233, 'antic': 3234, 'foul': 3235, 'purpl': 3236, 'packag': 3237, 'li': 3238, 'horrid': 3239, 'evolv': 3240, 'juvenil': 3241, '2003': 3242, 'awak': 3243, 'pray': 3244, 'donna': 3245, 'rambo': 3246, 'hollow': 3247, 'choreographi': 3248, 'revolutionari': 3249, 'ought': 3250, 'album': 3251, 'viciou': 3252, 'q': 3253, 'saint': 3254, 'marin': 3255, 'contrari': 3256, 'brazil': 3257, 'sixti': 3258, 'eyr': 3259, 'karen': 3260, 'coloni': 3261, 'prom': 3262, 'kenneth': 3263, 'overr': 3264, 'stole': 3265, 'boast': 3266, 'ireland': 3267, 'kapoor': 3268, 'defi': 3269, 'twelv': 3270, 'option': 3271, 'candid': 3272, 'dose': 3273, 'conserv': 3274, 'mummi': 3275, 'nerd': 3276, 'mildr': 3277, 'beatti': 3278, 'blade': 3279, 'ramon': 3280, 'astonish': 3281, 'altman': 3282, 'protest': 3283, 'confirm': 3284, 'trio': 3285, 'collabor': 3286, 'jazz': 3287, 'kirk': 3288, 'funer': 3289, 'fulci': 3290, 'flame': 3291, 'global': 3292, 'natali': 3293, 'detract': 3294, 'mystic': 3295, 'yellow': 3296, 'delici': 3297, 'leap': 3298, 'nicholson': 3299, 'racial': 3300, 'bull': 3301, 'blake': 3302, 'audio': 3303, 'tommi': 3304, 'bottl': 3305, 'spit': 3306, 'whip': 3307, 'shade': 3308, 'enterpris': 3309, 'destini': 3310, 'merci': 3311, 'enchant': 3312, 'inherit': 3313, 'bedroom': 3314, 'vivid': 3315, 'todd': 3316, 'threw': 3317, 'staff': 3318, 'harder': 3319, 'pseudo': 3320, 'reunit': 3321, 'meaningless': 3322, 'adolesc': 3323, 'altogeth': 3324, 'visibl': 3325, 'popcorn': 3326, 'swedish': 3327, 'neo': 3328, 'fonda': 3329, 'kennedi': 3330, 'wire': 3331, 'moodi': 3332, 'ruthless': 3333, 'lawrenc': 3334, 'madonna': 3335, 'respond': 3336, 'exhibit': 3337, 'befriend': 3338, 'crocodil': 3339, 'roommat': 3340, 'reserv': 3341, 'bust': 3342, 'synopsi': 3343, 'voight': 3344, 'tip': 3345, 'leonard': 3346, 'suspici': 3347, 'fanat': 3348, 'uneven': 3349, 'lemmon': 3350, 'atlanti': 3351, 'await': 3352, 'decor': 3353, 'jew': 3354, 'edi': 3355, 'dimens': 3356, 'palma': 3357, 'voyag': 3358, 'clint': 3359, 'incident': 3360, '2007': 3361, 'chao': 3362, 'carl': 3363, 'bargain': 3364, 'ventur': 3365, 'clumsi': 3366, 'centr': 3367, 'rural': 3368, 'unsettl': 3369, 'audit': 3370, 'bradi': 3371, 'holli': 3372, 'bold': 3373, 'garner': 3374, 'abysm': 3375, '2nd': 3376, 'humili': 3377, 'elimin': 3378, 'lit': 3379, 'acknowledg': 3380, 'poetic': 3381, 'echo': 3382, 'wealth': 3383, 'immigr': 3384, 'cuba': 3385, 'tiger': 3386, 'troop': 3387, 'neglect': 3388, 'imperson': 3389, 'cd': 3390, 'nearbi': 3391, 'versu': 3392, 'daddi': 3393, 'trail': 3394, 'mall': 3395, 'hart': 3396, 'cari': 3397, 'timon': 3398, 'characterist': 3399, 'ant': 3400, 'mistaken': 3401, 'repuls': 3402, 'collaps': 3403, 'solo': 3404, 'homer': 3405, 'domest': 3406, 'infect': 3407, 'prejudic': 3408, 'celluloid': 3409, 'mickey': 3410, 'paus': 3411, 'pun': 3412, 'jeffrey': 3413, 'saga': 3414, 'marshal': 3415, 'leon': 3416, 'hbo': 3417, 'coffe': 3418, 'tribe': 3419, 'equip': 3420, 'chest': 3421, 'interrupt': 3422, 'undoubtedli': 3423, 'coat': 3424, 'promin': 3425, 'milk': 3426, 'inan': 3427, 'apolog': 3428, 'gear': 3429, 'pant': 3430, 'harvey': 3431, '1996': 3432, 'ginger': 3433, 'olivi': 3434, 'inappropri': 3435, 'sore': 3436, 'cake': 3437, 'assembl': 3438, 'florida': 3439, 'colonel': 3440, 'solut': 3441, 'jenni': 3442, 'exot': 3443, 'consum': 3444, 'devast': 3445, 'maggi': 3446, 'vulgar': 3447, 'instant': 3448, 'embrac': 3449, 'airplan': 3450, 'colleagu': 3451, 'institut': 3452, 'retain': 3453, 'primari': 3454, 'humbl': 3455, 'trace': 3456, 'furthermor': 3457, 'pen': 3458, 'pot': 3459, 'highest': 3460, 'aveng': 3461, 'brooklyn': 3462, 'polanski': 3463, 'smaller': 3464, 'rick': 3465, 'disabl': 3466, 'seduct': 3467, 'outer': 3468, '3rd': 3469, 'illog': 3470, 'dian': 3471, 'gender': 3472, 'strain': 3473, 'principl': 3474, '1999': 3475, 'linda': 3476, 'wive': 3477, 'dutch': 3478, 'sale': 3479, 'cope': 3480, 'godzilla': 3481, 'poke': 3482, 'bowl': 3483, 'ya': 3484, 'descend': 3485, 'blatant': 3486, 'glamor': 3487, 'scope': 3488, 'secondli': 3489, 'cue': 3490, 'dive': 3491, 'hal': 3492, 'inferior': 3493, 'beneath': 3494, 'primarili': 3495, 'gloriou': 3496, 'predecessor': 3497, 'mixtur': 3498, 'dud': 3499, 'bubbl': 3500, 'vast': 3501, 'devoid': 3502, 'lol': 3503, 'yard': 3504, 'rabbit': 3505, 'gundam': 3506, 'alert': 3507, 'z': 3508, 'casual': 3509, 'myer': 3510, 'april': 3511, 'streep': 3512, 'disjoint': 3513, 'shelf': 3514, 'breed': 3515, 'talki': 3516, 'trademark': 3517, 'pearl': 3518, 'invas': 3519, 'museum': 3520, 'countrysid': 3521, 'alfr': 3522, 'senseless': 3523, 'hideou': 3524, 'simplist': 3525, 'shirley': 3526, 'garbo': 3527, 'et': 3528, 'aggress': 3529, 'domino': 3530, 'grinch': 3531, 'arab': 3532, 'obtain': 3533, 'applaud': 3534, 'slide': 3535, 'stir': 3536, 'uwe': 3537, 'disgrac': 3538, 'boom': 3539, 'rendit': 3540, 'unhappi': 3541, 'stack': 3542, 'illeg': 3543, 'mayor': 3544, 'oz': 3545, 'robinson': 3546, 'stellar': 3547, 'mail': 3548, 'maci': 3549, 'hopeless': 3550, 'loyal': 3551, 'experiment': 3552, 'hardcor': 3553, 'vanish': 3554, 'sh': 3555, 'acid': 3556, 'defens': 3557, 'khan': 3558, 'robberi': 3559, 'fri': 3560, 'craze': 3561, 'amanda': 3562, 'emphasi': 3563, 'recruit': 3564, 'rifl': 3565, 'blew': 3566, 'dismiss': 3567, 'grandfath': 3568, 'wont': 3569, 'counter': 3570, 'declin': 3571, 'span': 3572, 'topless': 3573, 'soccer': 3574, 'spider': 3575, 'scroog': 3576, 'dicken': 3577, 'incomprehens': 3578, 'berlin': 3579, 'hartley': 3580, 'psychic': 3581, 'tempt': 3582, 'diana': 3583, 'tenant': 3584, 'trashi': 3585, 'resurrect': 3586, 'sibl': 3587, 'bitch': 3588, 'parad': 3589, 'goer': 3590, 'porno': 3591, 'intim': 3592, 'woo': 3593, 'revolt': 3594, 'faster': 3595, 'riot': 3596, 'wet': 3597, 'justin': 3598, 'niro': 3599, 'ration': 3600, 'shaw': 3601, 'sympath': 3602, 'shed': 3603, 'ethnic': 3604, 'lumet': 3605, 'enlighten': 3606, 'hesit': 3607, 'feminist': 3608, 'commend': 3609, 'ensur': 3610, 'steam': 3611, 'dealer': 3612, 'jonathan': 3613, 'slick': 3614, 'patriot': 3615, 'partial': 3616, '00': 3617, 'honesti': 3618, 'wheel': 3619, 'gap': 3620, 'mario': 3621, 'unreal': 3622, 'lena': 3623, 'ballet': 3624, 'rider': 3625, 'choru': 3626, 'farmer': 3627, 'nephew': 3628, 'region': 3629, 'andr': 3630, 'hopper': 3631, 'eager': 3632, 'biographi': 3633, 'immort': 3634, 'worm': 3635, 'wendi': 3636, 'weakest': 3637, 'prequel': 3638, 'kingdom': 3639, 'confin': 3640, 'franco': 3641, 'hung': 3642, 'sappi': 3643, 'vice': 3644, 'leo': 3645, 'skull': 3646, 'mutant': 3647, 'psychopath': 3648, 'safeti': 3649, 'similarli': 3650, 'wore': 3651, 'nostalg': 3652, 'properti': 3653, 'victori': 3654, 'charlott': 3655, 'blunt': 3656, 'composit': 3657, 'snap': 3658, 'repress': 3659, 'owen': 3660, 'sandra': 3661, 'morri': 3662, 'util': 3663, 'macarthur': 3664, 'rope': 3665, 'miseri': 3666, 'montana': 3667, 'acquir': 3668, 'speci': 3669, 'tad': 3670, 'bonu': 3671, 'heartbreak': 3672, 'tail': 3673, '1972': 3674, 'deed': 3675, 'whoopi': 3676, 'bow': 3677, 'strand': 3678, 'compass': 3679, 'campbel': 3680, 'farrel': 3681, 'nervou': 3682, 'hyde': 3683, 'bumbl': 3684, 'dust': 3685, 'drum': 3686, 'emperor': 3687, 'exit': 3688, 'pattern': 3689, 'repli': 3690, 'snl': 3691, 'thru': 3692, 'kyle': 3693, 'latin': 3694, 'recycl': 3695, 'valuabl': 3696, 'cg': 3697, 'rocki': 3698, 'drain': 3699, 'despair': 3700, 'dalton': 3701, 'bergman': 3702, 'compens': 3703, 'del': 3704, 'rambl': 3705, 'romp': 3706, 'roth': 3707, 'downhil': 3708, '35': 3709, 'percept': 3710, 'oppress': 3711, 'gimmick': 3712, 'rotten': 3713, 'radic': 3714, 'rapist': 3715, 'gal': 3716, 'carradin': 3717, 'bleed': 3718, 'orson': 3719, 'airport': 3720, 'slug': 3721, 'tonight': 3722, 'wacki': 3723, 'da': 3724, 'contempl': 3725, 'chess': 3726, 'olli': 3727, 'pour': 3728, 'martian': 3729, 'mistress': 3730, 'edgar': 3731, 'pervert': 3732, 'unpredict': 3733, '1983': 3734, 'pursuit': 3735, 'pervers': 3736, 'belt': 3737, 'stilt': 3738, 'preach': 3739, 'attorney': 3740, 'mislead': 3741, 'tackl': 3742, 'slash': 3743, 'banal': 3744, 'paltrow': 3745, 'champion': 3746, 'heal': 3747, 'arguabl': 3748, 'arc': 3749, 'shelley': 3750, 'programm': 3751, 'dazzl': 3752, 'melodi': 3753, 'tooth': 3754, 'taught': 3755, 'graham': 3756, 'raymond': 3757, 'dixon': 3758, 'maid': 3759, 'virginia': 3760, 'poem': 3761, 'vengeanc': 3762, 'sensat': 3763, 'tiresom': 3764, 'marti': 3765, 'duval': 3766, 'employe': 3767, 'rubi': 3768, 'cleverli': 3769, 'plight': 3770, 'vocal': 3771, 'orang': 3772, 'uplift': 3773, 'chicken': 3774, 'gambl': 3775, 'mesmer': 3776, 'conneri': 3777, 'bela': 3778, 'franki': 3779, 'passeng': 3780, 'closest': 3781, 'outing': 3782, 'gerard': 3783, 'secretli': 3784, 'giggl': 3785, 'abraham': 3786, 'quarter': 3787, 'suffic': 3788, 'engross': 3789, 'crystal': 3790, 'whine': 3791, 'calm': 3792, 'inject': 3793, 'bay': 3794, 'sirk': 3795, 'convincingli': 3796, 'profan': 3797, 'habit': 3798, 'mute': 3799, 'swallow': 3800, 'extens': 3801, 'iran': 3802, 'pokemon': 3803, 'clone': 3804, 'climact': 3805, 'yawn': 3806, 'numb': 3807, 'paranoia': 3808, 'volum': 3809, '1968': 3810, 'scottish': 3811, 'monologu': 3812, 'tube': 3813, 'lundgren': 3814, 'amitabh': 3815, 'im': 3816, 'spock': 3817, 'underst': 3818, 'abort': 3819, 'backward': 3820, 'lowest': 3821, 'meander': 3822, 'expand': 3823, 'surpass': 3824, 'linger': 3825, 'profess': 3826, 'fed': 3827, 'richardson': 3828, 'franci': 3829, 'bend': 3830, 'austen': 3831, 'poetri': 3832, 'septemb': 3833, 'ethan': 3834, 'chicago': 3835, 'taxi': 3836, 'trend': 3837, 'grotesqu': 3838, 'dispos': 3839, 'nichola': 3840, 'earl': 3841, 'junior': 3842, 'frankenstein': 3843, 'plod': 3844, 'greedi': 3845, 'nostalgia': 3846, 'catchi': 3847, 'dysfunct': 3848, 'econom': 3849, 'spoke': 3850, 'rubber': 3851, 'myth': 3852, 'der': 3853, 'hum': 3854, 'household': 3855, 'stallon': 3856, 'muddl': 3857, 'eugen': 3858, 'instrument': 3859, 'cannon': 3860, 'rant': 3861, 'literatur': 3862, 'simplic': 3863, 'compliment': 3864, 'mundan': 3865, 'waitress': 3866, 'descent': 3867, 'sue': 3868, 'lure': 3869, 'tourist': 3870, 'eaten': 3871, 'sissi': 3872, 'molli': 3873, 'damon': 3874, 'equival': 3875, 'map': 3876, 'occupi': 3877, 'crucial': 3878, 'insur': 3879, 'flee': 3880, 'stale': 3881, 'randi': 3882, 'mortal': 3883, 'mankind': 3884, 'june': 3885, 'bacal': 3886, 'duck': 3887, 'irrelev': 3888, 'phantom': 3889, 'cent': 3890, 'dictat': 3891, 'lang': 3892, 'coast': 3893, 'recognis': 3894, 'deaf': 3895, 'carel': 3896, 'dement': 3897, 'alongsid': 3898, 'omen': 3899, 'recognit': 3900, 'phoni': 3901, 'hello': 3902, 'firstli': 3903, 'louis': 3904, 'furi': 3905, 'distinguish': 3906, 'heel': 3907, 'newli': 3908, 'dreari': 3909, 'daisi': 3910, 'buffalo': 3911, 'blackmail': 3912, 'biko': 3913, 'reign': 3914, 'freez': 3915, 'lengthi': 3916, 'wisdom': 3917, 'rude': 3918, 'labor': 3919, 'bike': 3920, 'rooney': 3921, 'ashley': 3922, 'loyalti': 3923, 'onlin': 3924, 'cyborg': 3925, '1973': 3926, 'bump': 3927, 'drake': 3928, 'twilight': 3929, 'likewis': 3930, 'grayson': 3931, 'damm': 3932, 'antwon': 3933, 'approv': 3934, 'boxer': 3935, 'butler': 3936, 'baddi': 3937, 'unorigin': 3938, 'proce': 3939, 'basketbal': 3940, 'keith': 3941, 'chronicl': 3942, 'emphas': 3943, 'ridden': 3944, 'vein': 3945, 'provoc': 3946, 'worn': 3947, 'exposur': 3948, 'startl': 3949, 'interior': 3950, 'pink': 3951, 'prey': 3952, 'sailor': 3953, 'analysi': 3954, 'nineti': 3955, 'barrymor': 3956, 'incorpor': 3957, 'tunnel': 3958, 'attribut': 3959, 'inher': 3960, 'condemn': 3961, 'walsh': 3962, 'unrel': 3963, 'mighti': 3964, 'simmon': 3965, 'degrad': 3966, 'drift': 3967, 'othello': 3968, 'barrel': 3969, 'nicol': 3970, 'belushi': 3971, 'meg': 3972, 'robbin': 3973, 'meyer': 3974, 'elm': 3975, 'fleet': 3976, 'stalker': 3977, 'indiffer': 3978, 'substitut': 3979, 'er': 3980, 'underli': 3981, 'carla': 3982, 'predat': 3983, 'undeni': 3984, 'mormon': 3985, 'bunni': 3986, 'hypnot': 3987, 'improvis': 3988, 'millionair': 3989, 'julian': 3990, 'greed': 3991, 'unawar': 3992, 'roof': 3993, 'errol': 3994, 'hay': 3995, 'disord': 3996, 'agenda': 3997, 'warmth': 3998, 'mtv': 3999, 'edgi': 4000, 'watson': 4001, '3d': 4002, 'vital': 4003, 'enthusiasm': 4004, 'novak': 4005, 'exquisit': 4006, 'priceless': 4007, 'nyc': 4008, 'alarm': 4009, 'shove': 4010, 'firm': 4011, 'palac': 4012, 'lampoon': 4013, 'alison': 4014, 'rukh': 4015, 'dolph': 4016, 'marion': 4017, 'reid': 4018, 'glanc': 4019, 'cassidi': 4020, '13th': 4021, 'randomli': 4022, 'drip': 4023, 'what': 4024, 'distort': 4025, 'ponder': 4026, 'beatl': 4027, 'valentin': 4028, 'petti': 4029, 'gestur': 4030, 'iraq': 4031, 'unleash': 4032, 'showdown': 4033, 'testament': 4034, 'preserv': 4035, 'eastern': 4036, 'orlean': 4037, 'spain': 4038, 'angela': 4039, 'championship': 4040, 'profit': 4041, 'pamela': 4042, 'coup': 4043, 'thompson': 4044, 'peril': 4045, 'sergeant': 4046, 'campaign': 4047, 'simultan': 4048, 'minimum': 4049, 'nun': 4050, '1933': 4051, 'israel': 4052, 'crown': 4053, 'session': 4054, 'zizek': 4055, 'peck': 4056, 'jan': 4057, 'travesti': 4058, 'stroke': 4059, 'rout': 4060, 'exposit': 4061, 'mon': 4062, 'regist': 4063, 'miyazaki': 4064, 'quinn': 4065, 'gentleman': 4066, 'represent': 4067, 'valley': 4068, 'calib': 4069, 'climat': 4070, 'scotland': 4071, 'unimagin': 4072, 'realm': 4073, 'perpetu': 4074, 'cooki': 4075, 'restrain': 4076, 'empathi': 4077, 'crow': 4078, 'wig': 4079, 'reson': 4080, 'stake': 4081, '1984': 4082, 'cream': 4083, 'shootout': 4084, 'contradict': 4085, 'sabrina': 4086, 'crawl': 4087, 'brenda': 4088, 'bro': 4089, 'buster': 4090, 'han': 4091, 'kurosawa': 4092, 'din': 4093, 'fido': 4094, 'traumat': 4095, 'demis': 4096, 'unsatisfi': 4097, 'tacki': 4098, 'meryl': 4099, '1987': 4100, 'delic': 4101, 'derang': 4102, 'geek': 4103, 'businessman': 4104, 'ross': 4105, 'monoton': 4106, 'compromis': 4107, 'fuller': 4108, 'distress': 4109, 'sucker': 4110, 'abomin': 4111, 'pretens': 4112, 'censor': 4113, '1997': 4114, 'shaki': 4115, 'spacey': 4116, 'painter': 4117, 'absent': 4118, 'perceiv': 4119, 'cloud': 4120, 'wax': 4121, 'pole': 4122, 'greg': 4123, 'femm': 4124, 'shoddi': 4125, 'dana': 4126, 'passabl': 4127, 'crawford': 4128, 'josh': 4129, 'sammi': 4130, 'warrant': 4131, 'unseen': 4132, 'stargat': 4133, 'soderbergh': 4134, 'darren': 4135, 'baldwin': 4136, 'mclaglen': 4137, 'ustinov': 4138, 'correctli': 4139, '1993': 4140, 'jewel': 4141, 'dee': 4142, 'primit': 4143, 'anchor': 4144, 'judgment': 4145, 'polici': 4146, 'tech': 4147, 'reluct': 4148, 'nathan': 4149, 'deniro': 4150, 'accuraci': 4151, 'fog': 4152, 'verbal': 4153, 'unravel': 4154, 'tarantino': 4155, 'sid': 4156, 'austin': 4157, 'click': 4158, 'expedit': 4159, 'deceas': 4160, 'kumar': 4161, 'uncov': 4162, 'valid': 4163, 'wholli': 4164, 'exclus': 4165, 'furiou': 4166, 'seal': 4167, 'norm': 4168, 'fenc': 4169, 'clash': 4170, 'antonioni': 4171, 'trait': 4172, 'sand': 4173, 'murray': 4174, 'sunni': 4175, '1971': 4176, 'alec': 4177, 'unfair': 4178, 'fought': 4179, '3000': 4180, 'tax': 4181, 'mode': 4182, 'malon': 4183, 'logan': 4184, 'wretch': 4185, 'fart': 4186, 'pocket': 4187, 'debt': 4188, 'conduct': 4189, 'temper': 4190, 'slam': 4191, 'fabric': 4192, 'crippl': 4193, 'wang': 4194, 'patienc': 4195, 'seldom': 4196, 'vanc': 4197, 'ritual': 4198, 'nicola': 4199, 'joel': 4200, 'dreck': 4201, 'behold': 4202, '2008': 4203, 'bake': 4204, 'sheet': 4205, 'clerk': 4206, 'shanghai': 4207, 'hallucin': 4208, 'enforc': 4209, '1995': 4210, 'sustain': 4211, 'darn': 4212, 'roller': 4213, 'squad': 4214, 'scriptwrit': 4215, 'despis': 4216, 'legaci': 4217, 'phil': 4218, 'preposter': 4219, 'exhaust': 4220, 'divid': 4221, 'fundament': 4222, 'rita': 4223, 'preston': 4224, 'critiqu': 4225, 'penni': 4226, 'outlin': 4227, 'tactic': 4228, 'guitar': 4229, 'technicolor': 4230, 'helpless': 4231, 'stark': 4232, 'pete': 4233, 'bridget': 4234, 'conscious': 4235, 'sweep': 4236, 'stuart': 4237, 'runner': 4238, 'soup': 4239, 'bias': 4240, 'canyon': 4241, 'schedul': 4242, 'clau': 4243, 'shell': 4244, 'isabel': 4245, 'grief': 4246, 'robber': 4247, 'inabl': 4248, 'culmin': 4249, 'palanc': 4250, 'unexpectedli': 4251, 'drove': 4252, 'cigarett': 4253, 'passag': 4254, 'alicia': 4255, 'agenc': 4256, 'flair': 4257, 'jodi': 4258, 'restrict': 4259, 'invad': 4260, 'kansa': 4261, 'alley': 4262, 'propos': 4263, 'lacklust': 4264, 'implic': 4265, 'connor': 4266, 'vomit': 4267, 'delv': 4268, 'liberti': 4269, 'downey': 4270, 'russia': 4271, 'rear': 4272, 'sniper': 4273, 'marc': 4274, 'gregori': 4275, 'boyl': 4276, 'newman': 4277, 'sugar': 4278, 'sentinel': 4279, 'consciou': 4280, 'bloom': 4281, 'rehash': 4282, 'jacket': 4283, 'lush': 4284, 'asylum': 4285, 'tripe': 4286, 'vet': 4287, 'rehears': 4288, 'horn': 4289, 'cap': 4290, 'arrow': 4291, 'improb': 4292, 'mccoy': 4293, 'chainsaw': 4294, 'ladder': 4295, '22': 4296, 'pale': 4297, '1936': 4298, 'rod': 4299, 'behaviour': 4300, 'awhil': 4301, 'wrench': 4302, 'delet': 4303, 'aesthet': 4304, 'foxx': 4305, 'feat': 4306, 'karl': 4307, 'bacon': 4308, 'kolchak': 4309, 'rampag': 4310, 'yeti': 4311, 'tendenc': 4312, 'sharon': 4313, 'weav': 4314, 'rhythm': 4315, '1920': 4316, 'wildli': 4317, 'minu': 4318, '19th': 4319, 'amazon': 4320, 'sung': 4321, 'rumor': 4322, 'globe': 4323, 'elit': 4324, 'hulk': 4325, 'prank': 4326, 'suspicion': 4327, '1988': 4328, 'conscienc': 4329, 'basing': 4330, 'underneath': 4331, 'tomorrow': 4332, 'stream': 4333, 'shortcom': 4334, 'hackney': 4335, 'lurk': 4336, 'visitor': 4337, '1978': 4338, 'fright': 4339, 'paramount': 4340, 'el': 4341, 'hungri': 4342, 'spice': 4343, 'tasteless': 4344, 'aristocrat': 4345, 'paradis': 4346, 'loneli': 4347, 'suffici': 4348, 'scoop': 4349, 'financ': 4350, 'newcom': 4351, 'coaster': 4352, 'wagner': 4353, 'filler': 4354, 'thunderbird': 4355, 'penn': 4356, 'recogniz': 4357, 'en': 4358, 'inmat': 4359, '75': 4360, 'hopkin': 4361, 'secondari': 4362, 'couch': 4363, 'quietli': 4364, 'beverli': 4365, 'literari': 4366, 'minist': 4367, 'ram': 4368, 'paxton': 4369, 'iv': 4370, 'curli': 4371, 'lectur': 4372, '1989': 4373, 'cancer': 4374, 'standout': 4375, 'choppi': 4376, 'abrupt': 4377, 'ingeni': 4378, 'atroc': 4379, 'wwe': 4380, 'rub': 4381, 'chavez': 4382, 'naughti': 4383, '1939': 4384, 'teas': 4385, 'tierney': 4386, 'immers': 4387, 'bread': 4388, 'springer': 4389, 'heist': 4390, 'dirt': 4391, 'counterpart': 4392, 'grudg': 4393, 'chamberlain': 4394, 'straightforward': 4395, 'impos': 4396, 'brit': 4397, 'leigh': 4398, 'entranc': 4399, 'worship': 4400, 'smell': 4401, 'posey': 4402, '1986': 4403, 'bernard': 4404, 'variat': 4405, 'quaid': 4406, 'sublim': 4407, 'policeman': 4408, 'yearn': 4409, 'misguid': 4410, 'net': 4411, 'ace': 4412, 'transcend': 4413, 'enthral': 4414, 'nemesi': 4415, 'entitl': 4416, 'morbid': 4417, 'laurenc': 4418, 'cattl': 4419, 'nolan': 4420, 'skeptic': 4421, 'injuri': 4422, 'sassi': 4423, 'moreov': 4424, 'attenborough': 4425, 'lindsay': 4426, 'geni': 4427, 'convert': 4428, 'esther': 4429, 'clan': 4430, 'heartfelt': 4431, 'watcher': 4432, 'ratso': 4433, 'missil': 4434, 'duel': 4435, 'poe': 4436, 'tyler': 4437, 'setup': 4438, 'hk': 4439, 'mytholog': 4440, 'rosemari': 4441, 'steadi': 4442, '1979': 4443, 'cruelti': 4444, 'enabl': 4445, 'grin': 4446, 'kidman': 4447, 'uncut': 4448, 'buzz': 4449, 'reliabl': 4450, 'spiral': 4451, 'vader': 4452, 'unexplain': 4453, 'egg': 4454, 'out': 4455, 'graini': 4456, 'obstacl': 4457, 'facil': 4458, 'kitti': 4459, 'artsi': 4460, 'moder': 4461, 'characteris': 4462, 'bean': 4463, 'puppi': 4464, 'bye': 4465, 'hopelessli': 4466, 'dont': 4467, 'youngest': 4468, 'brood': 4469, 'diari': 4470, 'carlito': 4471, 'patricia': 4472, 'underworld': 4473, 'gina': 4474, 'baffl': 4475, 'niec': 4476, 'clueless': 4477, 'decept': 4478, 'sweat': 4479, 'kline': 4480, 'heap': 4481, 'fuel': 4482, 'athlet': 4483, 'bronson': 4484, 'spontan': 4485, 'effici': 4486, 'christin': 4487, 'bewar': 4488, 'martha': 4489, 'exterior': 4490, 'hammi': 4491, 'acquaint': 4492, 'gillian': 4493, 'bounc': 4494, 'disastr': 4495, 'oblig': 4496, 'despic': 4497, '1969': 4498, 'brendan': 4499, 'narrow': 4500, 'preming': 4501, 'weather': 4502, 'hain': 4503, 'virtu': 4504, 'hepburn': 4505, 'scar': 4506, 'dandi': 4507, 'headach': 4508, 'loath': 4509, 'enlist': 4510, 'housewif': 4511, 'uh': 4512, 'loi': 4513, 'sleepwalk': 4514, 'renaiss': 4515, 'trigger': 4516, 'candl': 4517, 'insipid': 4518, 'shatter': 4519, 'viewpoint': 4520, 'circu': 4521, 'harmless': 4522, 'dilemma': 4523, '73': 4524, 'suprem': 4525, 'astound': 4526, '19': 4527, 'lester': 4528, 'goof': 4529, 'mermaid': 4530, 'biker': 4531, 'preachi': 4532, 'outlaw': 4533, 'taboo': 4534, 'mayhem': 4535, 'angst': 4536, 'rome': 4537, 'tick': 4538, 'sooner': 4539, 'injur': 4540, 'analyz': 4541, 'fontain': 4542, 'macho': 4543, 'intric': 4544, 'immatur': 4545, 'hooker': 4546, 'dismal': 4547, 'tripl': 4548, 'corbett': 4549, 'filth': 4550, 'idol': 4551, 'hokey': 4552, 'steer': 4553, 'camcord': 4554, 'contempt': 4555, 'slimi': 4556, 'surgeri': 4557, 'spade': 4558, 'stair': 4559, 'scorses': 4560, 'phenomenon': 4561, 'dish': 4562, 'bent': 4563, 'redund': 4564, 'salt': 4565, 'stimul': 4566, 'foolish': 4567, 'glorifi': 4568, 'boston': 4569, 'zoom': 4570, 'whore': 4571, 'guin': 4572, 'oldest': 4573, 'fluff': 4574, 'overlong': 4575, 'ariel': 4576, 'ebert': 4577, 'hostag': 4578, 'amor': 4579, 'cassavet': 4580, 'claustrophob': 4581, 'gere': 4582, 'sox': 4583, 'naschi': 4584, 'mutual': 4585, 'frantic': 4586, 'remad': 4587, 'corman': 4588, 'rhyme': 4589, 'dwarf': 4590, 'perman': 4591, 'schlock': 4592, 'cohen': 4593, 'assert': 4594, 'muscl': 4595, 'beard': 4596, 'spree': 4597, 'messi': 4598, 'strongest': 4599, 'trivia': 4600, 'widescreen': 4601, 'flag': 4602, 'proport': 4603, 'transplant': 4604, '1981': 4605, 'nolt': 4606, 'antagonist': 4607, 'cow': 4608, 'flashi': 4609, 'zane': 4610, 'spinal': 4611, 'fascist': 4612, 'cush': 4613, 'obligatori': 4614, 'conquer': 4615, 'shield': 4616, 'faint': 4617, '1976': 4618, 'harold': 4619, 'radiat': 4620, 'down': 4621, 'shred': 4622, 'gasp': 4623, 'preced': 4624, 'joker': 4625, 'margin': 4626, 'flirt': 4627, 'alvin': 4628, 'keen': 4629, 'gabl': 4630, 'mount': 4631, 'astronaut': 4632, 'divin': 4633, 'resum': 4634, 'mobil': 4635, 'aborigin': 4636, 'archiv': 4637, 'ritchi': 4638, 'sensual': 4639, 'danish': 4640, 'someday': 4641, 'vaniti': 4642, 'barn': 4643, 'boob': 4644, 'neurot': 4645, 'off': 4646, 'bachelor': 4647, 'interestingli': 4648, 'scandal': 4649, '28': 4650, 'brush': 4651, 'bitten': 4652, 'info': 4653, '95': 4654, 'inflict': 4655, 'wield': 4656, 'flock': 4657, 'discern': 4658, '1945': 4659, 'persuad': 4660, 'raj': 4661, 'claud': 4662, 'hara': 4663, 'www': 4664, 'carey': 4665, 'departur': 4666, 'fishburn': 4667, 'deer': 4668, 'strive': 4669, 'repris': 4670, 'instruct': 4671, 'triangl': 4672, 'mol': 4673, 'hapless': 4674, 'miracul': 4675, 'recit': 4676, 'axe': 4677, 'jade': 4678, 'colin': 4679, 'frontier': 4680, 'vibrant': 4681, 'dim': 4682, 'harrison': 4683, 'hilar': 4684, 'dame': 4685, 'traffic': 4686, 'cher': 4687, 'banter': 4688, 'prophet': 4689, 'helm': 4690, 'senior': 4691, 'parson': 4692, 'undermin': 4693, 'cb': 4694, 'neill': 4695, 'submit': 4696, 'pixar': 4697, 'biblic': 4698, 'rot': 4699, 'earnest': 4700, 'ish': 4701, 'cycl': 4702, 'pacif': 4703, 'kathryn': 4704, 'fragil': 4705, 'dylan': 4706, 'europa': 4707, 'proclaim': 4708, 'artwork': 4709, 'mobster': 4710, 'casino': 4711, 'melissa': 4712, 'timberlak': 4713, 'clad': 4714, 'wendigo': 4715, 'carlo': 4716, 'hug': 4717, 'cliffhang': 4718, 'bate': 4719, 'anton': 4720, 'luka': 4721, 'pickford': 4722, 'heartwarm': 4723, 'loretta': 4724, 'articl': 4725, 'electron': 4726, 'estrang': 4727, 'blatantli': 4728, 'sicken': 4729, 'pc': 4730, 'holocaust': 4731, 'breakfast': 4732, 'vile': 4733, 'lucil': 4734, 'eli': 4735, 'token': 4736, 'marlon': 4737, 'vanessa': 4738, 'seedi': 4739, 'flavor': 4740, 'venom': 4741, 'misfortun': 4742, 'northern': 4743, 'alexandr': 4744, 'isra': 4745, 'orphan': 4746, 'foil': 4747, 'static': 4748, 'mason': 4749, 'cerebr': 4750, 'aris': 4751, 'antholog': 4752, 'milo': 4753, 'shepherd': 4754, 'toronto': 4755, 'uma': 4756, 'trier': 4757, 'razor': 4758, 'winchest': 4759, 'rooki': 4760, 'bikini': 4761, 'akin': 4762, 'bondag': 4763, 'choke': 4764, 'redneck': 4765, 'illus': 4766, 'jo': 4767, 'jordan': 4768, 'wardrob': 4769, 'http': 4770, 'feast': 4771, 'lui': 4772, 'legitim': 4773, 'nope': 4774, 'mathieu': 4775, 'disregard': 4776, 'retriev': 4777, 'peer': 4778, 'swept': 4779, 'abund': 4780, 'magician': 4781, 'feminin': 4782, 'cartoonish': 4783, 'gilbert': 4784, 'shorter': 4785, 'charlton': 4786, 'linear': 4787, 'boyer': 4788, 'outdat': 4789, 'huston': 4790, 'glare': 4791, 'nightclub': 4792, 'ideolog': 4793, 'highway': 4794, 'affleck': 4795, 'comprehend': 4796, 'styliz': 4797, 'audrey': 4798, 'deem': 4799, 'psych': 4800, 'dudley': 4801, 'oppon': 4802, 'smack': 4803, 'knightley': 4804, 'ceremoni': 4805, 'wrestler': 4806, 'clinic': 4807, 'tack': 4808, 'howl': 4809, 'turd': 4810, 'fifth': 4811, 'frog': 4812, 'gunga': 4813, 'leather': 4814, 'spine': 4815, 'evolut': 4816, 'cuban': 4817, 'toe': 4818, 'monument': 4819, 'summar': 4820, 'corn': 4821, 'tara': 4822, 'compris': 4823, 'moe': 4824, 'breakdown': 4825, 'conrad': 4826, 'mitch': 4827, 'plate': 4828, 'spawn': 4829, 'senat': 4830, 'goldsworthi': 4831, 'einstein': 4832, 'energet': 4833, 'greet': 4834, 'sleaz': 4835, 'lifeless': 4836, '1994': 4837, '4th': 4838, 'lavish': 4839, 'lighter': 4840, 'bogu': 4841, 'uniformli': 4842, 'newer': 4843, 'potter': 4844, 'chip': 4845, 'collector': 4846, 'salman': 4847, 'boo': 4848, '1991': 4849, 'cemeteri': 4850, 'snatch': 4851, 'phenomen': 4852, 'bastard': 4853, 'durat': 4854, 'whack': 4855, 'deliver': 4856, 'client': 4857, 'btw': 4858, 'braveheart': 4859, '1974': 4860, 'evelyn': 4861, 'constitut': 4862, 'wtf': 4863, 'sorrow': 4864, 'cecil': 4865, 'pronounc': 4866, 'spectacl': 4867, 'jam': 4868, 'creek': 4869, 'inaccuraci': 4870, 'belli': 4871, 'bulk': 4872, 'kent': 4873, 'luxuri': 4874, 'mcqueen': 4875, 'fluid': 4876, 'ol': 4877, 'liu': 4878, 'neatli': 4879, 'jedi': 4880, 'replay': 4881, 'undertak': 4882, 'bori': 4883, 'gilliam': 4884, 'randolph': 4885, 'outright': 4886, 'eleven': 4887, 'lex': 4888, 'healthi': 4889, 'signal': 4890, 'firmli': 4891, 'trauma': 4892, 'capot': 4893, 'judd': 4894, 'embark': 4895, 'appl': 4896, 'ie': 4897, '1977': 4898, 'jare': 4899, 'jule': 4900, 'nina': 4901, 'undead': 4902, 'occup': 4903, 'alleg': 4904, 'historian': 4905, 'clara': 4906, 'kazan': 4907, 'armstrong': 4908, 'rosario': 4909, 'inclus': 4910, 'miniseri': 4911, 'pepper': 4912, 'fruit': 4913, 'blur': 4914, 'mum': 4915, 'walt': 4916, 'porter': 4917, 'roar': 4918, 'curtain': 4919, 'paula': 4920, 'sacrif': 4921, 'relentless': 4922, 'abound': 4923, 'meal': 4924, 'cape': 4925, 'truman': 4926, 'poker': 4927, 'genet': 4928, 'subtli': 4929, 'vain': 4930, 'miami': 4931, 'conan': 4932, 'vignett': 4933, 'unsuspect': 4934, 'knee': 4935, 'lanc': 4936, 'antonio': 4937, 'congratul': 4938, 'forgiven': 4939, 'ash': 4940, 'sidewalk': 4941, 'pioneer': 4942, 'palm': 4943, 'decapit': 4944, 'bsg': 4945, 'bait': 4946, 'spray': 4947, 'aussi': 4948, 'goldblum': 4949, 'comb': 4950, 'unattract': 4951, 'galaxi': 4952, '1985': 4953, 'id': 4954, 'groan': 4955, 'comprehens': 4956, 'tokyo': 4957, 'lauren': 4958, 'carmen': 4959, 'kiddi': 4960, 'inaccur': 4961, 'propheci': 4962, 'basket': 4963, 'scariest': 4964, 'scarfac': 4965, 'bach': 4966, 'assort': 4967, 'hostil': 4968, 'incorrect': 4969, 'masterson': 4970, 'ghetto': 4971, 'spill': 4972, 'bravo': 4973, 'verg': 4974, 'modest': 4975, 'drone': 4976, 'macabr': 4977, '21st': 4978, 'asset': 4979, 'optimist': 4980, 'casper': 4981, 'substanti': 4982, 'profil': 4983, 'mice': 4984, 'dubiou': 4985, 'ingrid': 4986, 'growth': 4987, 'monti': 4988, 'omin': 4989, 'vastli': 4990, 'sophi': 4991, 'rapidli': 4992, 'handicap': 4993, 'reincarn': 4994, 'weari': 4995, 'orchestr': 4996, 'playboy': 4997, 'sparkl': 4998, 'turtl': 4999}\n"
     ]
    }
   ],
   "source": [
    "print(get_dictionary)"
   ]
  },
  {
   "cell_type": "markdown",
   "metadata": {},
   "source": [
    "**Question:** What are the five most frequently appearing (tokenized) words in the training set? Does it makes sense that these words appear frequently in the training set?"
   ]
  },
  {
   "cell_type": "markdown",
   "metadata": {},
   "source": [
    "**Answer:** \n",
    "\n",
    "To find out the five most frequently appearing (tokenized) words in the training set, lets run the cell below. "
   ]
  },
  {
   "cell_type": "code",
   "execution_count": 23,
   "metadata": {},
   "outputs": [
    {
     "data": {
      "text/plain": [
       "['movi', 'film', 'one', 'like', 'time']"
      ]
     },
     "execution_count": 23,
     "metadata": {},
     "output_type": "execute_result"
    }
   ],
   "source": [
    "# TODO: Use this space to determine the five most frequently appearing words in the training set.\n",
    "keys = list(get_dictionary.keys())\n",
    "keys[:5]"
   ]
  },
  {
   "cell_type": "markdown",
   "metadata": {},
   "source": [
    "So, here we can easily see the top 5 words in the training set."
   ]
  },
  {
   "cell_type": "markdown",
   "metadata": {},
   "source": [
    "### Save `word_dict`\n",
    "\n",
    "Later on when we construct an endpoint which processes a submitted review we will need to make use of the `word_dict` which we have created. As such, we will save it to a file now for future use."
   ]
  },
  {
   "cell_type": "code",
   "execution_count": 24,
   "metadata": {},
   "outputs": [],
   "source": [
    "data_dir = '../data/pytorch' # The folder we will use for storing data\n",
    "if not os.path.exists(data_dir): # Make sure that the folder exists\n",
    "    os.makedirs(data_dir)"
   ]
  },
  {
   "cell_type": "code",
   "execution_count": 26,
   "metadata": {},
   "outputs": [],
   "source": [
    "with open(os.path.join(data_dir, 'word_dict.pkl'), \"wb\") as f:\n",
    "    pickle.dump(get_dictionary, f)"
   ]
  },
  {
   "cell_type": "markdown",
   "metadata": {},
   "source": [
    "### Transform the reviews\n",
    "\n",
    "Now that we have our word dictionary which allows us to transform the words appearing in the reviews into integers, it is time to make use of it and convert our reviews to their integer sequence representation, making sure to pad or truncate to a fixed length, which in our case is `500`."
   ]
  },
  {
   "cell_type": "code",
   "execution_count": 27,
   "metadata": {},
   "outputs": [],
   "source": [
    "def convert_and_pad(word_dict, sentence, pad=500):\n",
    "    NOWORD = 0 # We will use 0 to represent the 'no word' category\n",
    "    INFREQ = 1 # and we use 1 to represent the infrequent words, i.e., words not appearing in word_dict\n",
    "    \n",
    "    working_sentence = [NOWORD] * pad\n",
    "    \n",
    "    for word_index, word in enumerate(sentence[:pad]):\n",
    "        if word in word_dict:\n",
    "            working_sentence[word_index] = word_dict[word]\n",
    "        else:\n",
    "            working_sentence[word_index] = INFREQ\n",
    "            \n",
    "    return working_sentence, min(len(sentence), pad)\n",
    "\n",
    "def convert_and_pad_data(word_dict, data, pad=500):\n",
    "    result = []\n",
    "    lengths = []\n",
    "    \n",
    "    for sentence in data:\n",
    "        converted, leng = convert_and_pad(word_dict, sentence, pad)\n",
    "        result.append(converted)\n",
    "        lengths.append(leng)\n",
    "        \n",
    "    return np.array(result), np.array(lengths)"
   ]
  },
  {
   "cell_type": "code",
   "execution_count": 29,
   "metadata": {},
   "outputs": [],
   "source": [
    "train_X, train_X_len = convert_and_pad_data(get_dictionary, train_X)\n",
    "test_X, test_X_len = convert_and_pad_data(get_dictionary, test_X)"
   ]
  },
  {
   "cell_type": "markdown",
   "metadata": {},
   "source": [
    "As a quick check to make sure that things are working as intended, check to see what one of the reviews in the training set looks like after having been processeed. Does this look reasonable? What is the length of a review in the training set?"
   ]
  },
  {
   "cell_type": "code",
   "execution_count": 30,
   "metadata": {},
   "outputs": [
    {
     "data": {
      "text/plain": [
       "array([  12,   96,  942,  326,  182,   44,  159,  506,  229,  182,   64,\n",
       "       3242, 3182,    7,  765,  182,   53,   53, 2071,    1, 1854,   74,\n",
       "        121,  718,   13, 1258,  704,  775,  775,  645,  419,  641,  181,\n",
       "         36,   12,  129, 1534,  195,  675,  719,   13, 1227,  326,    1,\n",
       "        341,    1,  262,  725, 3612,   42, 1256,   43,   42,  489,  574,\n",
       "       2226,  157, 1800,    1, 2245,  942,  326,  687,  194,  136,  157,\n",
       "          1, 1432, 1696,    1,   13,    1,  588, 2280,  199, 4287, 1534,\n",
       "        733,  422, 1696,  115,  610,  375,  264, 1432,  489,  370,  586,\n",
       "       1551,  754,  645,  419,  130, 1244, 1534,  470,    1,  736,    1,\n",
       "          6, 1251,   18,   75,  590,  247,  364,  124,  679,    1,  412,\n",
       "        360,  261,  672, 4214,  379, 3296, 4919,    1, 1202, 1531, 1696,\n",
       "       3314, 1696,  243,   12,    1, 1696, 1340,  257, 1595, 2025, 2775,\n",
       "        513,  184,   69, 2213, 2798,  679, 1251,   18,  207,  265,  247,\n",
       "        364,   59,  461,  679, 2368,    1,  630,    1,  948, 1280,    1,\n",
       "        574,   42, 1256,   43,    1,  952,  182,    4, 1065,  319,   18,\n",
       "          1, 1683,  230,    1, 1696,  731,   18,    1,  230,    1,  617,\n",
       "       1280,  574,  370, 1683,    1, 4322, 1313,    1,  419, 1696,    4,\n",
       "         62,  728,    1,   86,  756, 3538,    1,  230, 4481,  655,    1,\n",
       "         25, 3538,  118,  377,  297,  630, 2002, 4968,  234,  322,  419,\n",
       "        873, 1068,  948,   27,   47,  489,    1,  526,    1,   79,  574,\n",
       "         25,    1, 1696, 2938, 1205, 1876,    1,  419,    1, 1696,  511,\n",
       "          1,   50, 1696,   49,   11,  948, 1696,  214,  130, 1349, 1084,\n",
       "        243,  138, 1217,  172,    1, 2433,    1,   22, 1696,  413,  170,\n",
       "          1,  420,  495,    1,  118,    6,  946,    1,  103,  332,  419,\n",
       "       1696,    1,  121,   27,  103, 1602,  725,  200,  489, 1789,  974,\n",
       "       1675,  370,  195,   18,  144,  182,    1, 1667,  262,    1, 1915,\n",
       "       4214,  379, 4364, 3850,  136,  307,  489, 1623, 1432, 1696, 1827,\n",
       "          4,  683,  720, 2213, 1252,  412,  182,   77,  137,   18,   43,\n",
       "          1,    1,   33,   59,    1, 1696,   21,  854,  630,   59,  240,\n",
       "       1048, 1432,    1,  476,  215,  182,  353,   53,  129,  641,   17,\n",
       "        343,   17,   32,   17,  143,  942,  326,  182,   56,   47,    0,\n",
       "          0,    0,    0,    0,    0,    0,    0,    0,    0,    0,    0,\n",
       "          0,    0,    0,    0,    0,    0,    0,    0,    0,    0,    0,\n",
       "          0,    0,    0,    0,    0,    0,    0,    0,    0,    0,    0,\n",
       "          0,    0,    0,    0,    0,    0,    0,    0,    0,    0,    0,\n",
       "          0,    0,    0,    0,    0,    0,    0,    0,    0,    0,    0,\n",
       "          0,    0,    0,    0,    0,    0,    0,    0,    0,    0,    0,\n",
       "          0,    0,    0,    0,    0,    0,    0,    0,    0,    0,    0,\n",
       "          0,    0,    0,    0,    0,    0,    0,    0,    0,    0,    0,\n",
       "          0,    0,    0,    0,    0,    0,    0,    0,    0,    0,    0,\n",
       "          0,    0,    0,    0,    0,    0,    0,    0,    0,    0,    0,\n",
       "          0,    0,    0,    0,    0,    0,    0,    0,    0,    0,    0,\n",
       "          0,    0,    0,    0,    0,    0,    0,    0,    0,    0,    0,\n",
       "          0,    0,    0,    0,    0,    0,    0,    0,    0,    0,    0,\n",
       "          0,    0,    0,    0,    0,    0,    0,    0,    0,    0,    0,\n",
       "          0,    0,    0,    0,    0])"
      ]
     },
     "execution_count": 30,
     "metadata": {},
     "output_type": "execute_result"
    }
   ],
   "source": [
    "# Use this cell to examine one of the processed reviews to make sure everything is working as intended.\n",
    "train_X[100]"
   ]
  },
  {
   "cell_type": "markdown",
   "metadata": {},
   "source": [
    "**Question:** In the cells above we use the `preprocess_data` and `convert_and_pad_data` methods to process both the training and testing set. Why or why not might this be a problem?"
   ]
  },
  {
   "cell_type": "markdown",
   "metadata": {},
   "source": [
    "**Answer:** \n",
    "\n",
    "The key point here is that, for the input vector, the vector size should be the same for all the same examples. So, I fixed that size to 500, that is all the short review articles were padded with zero;s and reviews with more than 500 words were trancated, and therefore, only the first 500 words were taken into accunt. \n"
   ]
  },
  {
   "cell_type": "markdown",
   "metadata": {},
   "source": [
    "## Step 3: Upload the data to S3\n",
    "\n",
    "As in the XGBoost notebook, we will need to upload the training dataset to S3 in order for our training code to access it. For now we will save it locally and we will upload to S3 later on.\n",
    "\n",
    "### Save the processed training dataset locally\n",
    "\n",
    "It is important to note the format of the data that we are saving as we will need to know it when we write the training code. In our case, each row of the dataset has the form `label`, `length`, `review[500]` where `review[500]` is a sequence of `500` integers representing the words in the review."
   ]
  },
  {
   "cell_type": "code",
   "execution_count": 31,
   "metadata": {},
   "outputs": [],
   "source": [
    "import pandas as pd\n",
    "    \n",
    "pd.concat([pd.DataFrame(train_y), pd.DataFrame(train_X_len), pd.DataFrame(train_X)], axis=1) \\\n",
    "        .to_csv(os.path.join(data_dir, 'train.csv'), header=False, index=False)"
   ]
  },
  {
   "cell_type": "markdown",
   "metadata": {},
   "source": [
    "### Uploading the training data\n",
    "\n",
    "\n",
    "Next, we need to upload the training data to the SageMaker default S3 bucket so that we can provide access to it while training our model."
   ]
  },
  {
   "cell_type": "code",
   "execution_count": 32,
   "metadata": {},
   "outputs": [],
   "source": [
    "import sagemaker\n",
    "\n",
    "sagemaker_session = sagemaker.Session()\n",
    "\n",
    "bucket = sagemaker_session.default_bucket()\n",
    "prefix = 'sagemaker/sentiment_rnn'\n",
    "\n",
    "role = sagemaker.get_execution_role()"
   ]
  },
  {
   "cell_type": "code",
   "execution_count": 33,
   "metadata": {},
   "outputs": [],
   "source": [
    "input_data = sagemaker_session.upload_data(path=data_dir, bucket=bucket, key_prefix=prefix)"
   ]
  },
  {
   "cell_type": "markdown",
   "metadata": {},
   "source": [
    "**NOTE:** The cell above uploads the entire contents of our data directory. This includes the `word_dict.pkl` file. This is fortunate as we will need this later on when we create an endpoint that accepts an arbitrary review. For now, we will just take note of the fact that it resides in the data directory (and so also in the S3 training bucket) and that we will need to make sure it gets saved in the model directory."
   ]
  },
  {
   "cell_type": "markdown",
   "metadata": {},
   "source": [
    "## Step 4: Build and Train the PyTorch Model\n",
    "\n",
    "In the XGBoost notebook we discussed what a model is in the SageMaker framework. In particular, a model comprises three objects\n",
    "\n",
    " - Model Artifacts,\n",
    " - Training Code, and\n",
    " - Inference Code,\n",
    " \n",
    "each of which interact with one another. In the XGBoost example we used training and inference code that was provided by Amazon. Here we will still be using containers provided by Amazon with the added benefit of being able to include our own custom code.\n",
    "\n",
    "We will start by implementing our own neural network in PyTorch along with a training script. For the purposes of this project we have provided the necessary model object in the `model.py` file, inside of the `train` folder. You can see the provided implementation by running the cell below."
   ]
  },
  {
   "cell_type": "code",
   "execution_count": 34,
   "metadata": {},
   "outputs": [
    {
     "name": "stdout",
     "output_type": "stream",
     "text": [
      "\u001b[34mimport\u001b[39;49;00m \u001b[04m\u001b[36mtorch\u001b[39;49;00m\u001b[04m\u001b[36m.\u001b[39;49;00m\u001b[04m\u001b[36mnn\u001b[39;49;00m \u001b[34mas\u001b[39;49;00m \u001b[04m\u001b[36mnn\u001b[39;49;00m\r\n",
      "\r\n",
      "\u001b[34mclass\u001b[39;49;00m \u001b[04m\u001b[32mLSTMClassifier\u001b[39;49;00m(nn.Module):\r\n",
      "    \u001b[33m\"\"\"\u001b[39;49;00m\r\n",
      "\u001b[33m    This is the simple RNN model we will be using to perform Sentiment Analysis.\u001b[39;49;00m\r\n",
      "\u001b[33m    \"\"\"\u001b[39;49;00m\r\n",
      "\r\n",
      "    \u001b[34mdef\u001b[39;49;00m \u001b[32m__init__\u001b[39;49;00m(\u001b[36mself\u001b[39;49;00m, embedding_dim, hidden_dim, vocab_size):\r\n",
      "        \u001b[33m\"\"\"\u001b[39;49;00m\r\n",
      "\u001b[33m        Initialize the model by settingg up the various layers.\u001b[39;49;00m\r\n",
      "\u001b[33m        \"\"\"\u001b[39;49;00m\r\n",
      "        \u001b[36msuper\u001b[39;49;00m(LSTMClassifier, \u001b[36mself\u001b[39;49;00m).\u001b[32m__init__\u001b[39;49;00m()\r\n",
      "\r\n",
      "        \u001b[36mself\u001b[39;49;00m.embedding = nn.Embedding(vocab_size, embedding_dim, padding_idx=\u001b[34m0\u001b[39;49;00m)\r\n",
      "        \u001b[36mself\u001b[39;49;00m.lstm = nn.LSTM(embedding_dim, hidden_dim)\r\n",
      "        \u001b[36mself\u001b[39;49;00m.dense = nn.Linear(in_features=hidden_dim, out_features=\u001b[34m1\u001b[39;49;00m)\r\n",
      "        \u001b[36mself\u001b[39;49;00m.sig = nn.Sigmoid()\r\n",
      "        \r\n",
      "        \u001b[36mself\u001b[39;49;00m.word_dict = \u001b[34mNone\u001b[39;49;00m\r\n",
      "\r\n",
      "    \u001b[34mdef\u001b[39;49;00m \u001b[32mforward\u001b[39;49;00m(\u001b[36mself\u001b[39;49;00m, x):\r\n",
      "        \u001b[33m\"\"\"\u001b[39;49;00m\r\n",
      "\u001b[33m        Perform a forward pass of our model on some input.\u001b[39;49;00m\r\n",
      "\u001b[33m        \"\"\"\u001b[39;49;00m\r\n",
      "        x = x.t()\r\n",
      "        lengths = x[\u001b[34m0\u001b[39;49;00m,:]\r\n",
      "        reviews = x[\u001b[34m1\u001b[39;49;00m:,:]\r\n",
      "        embeds = \u001b[36mself\u001b[39;49;00m.embedding(reviews)\r\n",
      "        lstm_out, _ = \u001b[36mself\u001b[39;49;00m.lstm(embeds)\r\n",
      "        out = \u001b[36mself\u001b[39;49;00m.dense(lstm_out)\r\n",
      "        out = out[lengths - \u001b[34m1\u001b[39;49;00m, \u001b[36mrange\u001b[39;49;00m(\u001b[36mlen\u001b[39;49;00m(lengths))]\r\n",
      "        \u001b[34mreturn\u001b[39;49;00m \u001b[36mself\u001b[39;49;00m.sig(out.squeeze())\r\n"
     ]
    }
   ],
   "source": [
    "!pygmentize train/model.py"
   ]
  },
  {
   "cell_type": "markdown",
   "metadata": {},
   "source": [
    "The important takeaway from the implementation provided is that there are three parameters that we may wish to tweak to improve the performance of our model. These are the embedding dimension, the hidden dimension and the size of the vocabulary. We will likely want to make these parameters configurable in the training script so that if we wish to modify them we do not need to modify the script itself. We will see how to do this later on. To start we will write some of the training code in the notebook so that we can more easily diagnose any issues that arise.\n",
    "\n",
    "First we will load a small portion of the training data set to use as a sample. It would be very time consuming to try and train the model completely in the notebook as we do not have access to a gpu and the compute instance that we are using is not particularly powerful. However, we can work on a small bit of the data to get a feel for how our training script is behaving."
   ]
  },
  {
   "cell_type": "code",
   "execution_count": 35,
   "metadata": {},
   "outputs": [],
   "source": [
    "import torch\n",
    "import torch.utils.data\n",
    "\n",
    "# Read in only the first 250 rows\n",
    "train_sample = pd.read_csv(os.path.join(data_dir, 'train.csv'), header=None, names=None, nrows=250)\n",
    "\n",
    "# Turn the input pandas dataframe into tensors\n",
    "train_sample_y = torch.from_numpy(train_sample[[0]].values).float().squeeze()\n",
    "train_sample_X = torch.from_numpy(train_sample.drop([0], axis=1).values).long()\n",
    "\n",
    "# Build the dataset\n",
    "train_sample_ds = torch.utils.data.TensorDataset(train_sample_X, train_sample_y)\n",
    "# Build the dataloader\n",
    "train_sample_dl = torch.utils.data.DataLoader(train_sample_ds, batch_size=50)"
   ]
  },
  {
   "cell_type": "markdown",
   "metadata": {},
   "source": [
    "### (TODO) Writing the training method\n",
    "\n",
    "Next we need to write the training code itself. This should be very similar to training methods that you have written before to train PyTorch models. We will leave any difficult aspects such as model saving / loading and parameter loading until a little later."
   ]
  },
  {
   "cell_type": "code",
   "execution_count": 36,
   "metadata": {},
   "outputs": [],
   "source": [
    "def train(model, train_loader, epochs, optimizer, loss_fn, device):\n",
    "    for epoch in range(1, epochs + 1):\n",
    "        model.train()\n",
    "        total_loss = 0\n",
    "        for batch in train_loader:         \n",
    "            batch_X, batch_y = batch\n",
    "            \n",
    "            batch_X = batch_X.to(device)\n",
    "            batch_y = batch_y.to(device)\n",
    "            \n",
    "            # TODO: Complete this train method to train the model provided.\n",
    "            optimizer.zero_grad()\n",
    "            output = model.forward(batch_X)\n",
    "            loss = loss_fn(output, batch_y)\n",
    "            loss.backward()\n",
    "            \n",
    "            optimizer.step()\n",
    "            \n",
    "            total_loss += loss.data.item()\n",
    "        print(\"Epoch: {}, BCELoss: {}\".format(epoch, total_loss / len(train_loader)))"
   ]
  },
  {
   "cell_type": "markdown",
   "metadata": {},
   "source": [
    "Supposing we have the training method above, we will test that it is working by writing a bit of code in the notebook that executes our training method on the small sample training set that we loaded earlier. The reason for doing this in the notebook is so that we have an opportunity to fix any errors that arise early when they are easier to diagnose."
   ]
  },
  {
   "cell_type": "code",
   "execution_count": 37,
   "metadata": {},
   "outputs": [
    {
     "name": "stdout",
     "output_type": "stream",
     "text": [
      "Epoch: 1, BCELoss: 0.6920749306678772\n",
      "Epoch: 2, BCELoss: 0.6830049514770508\n",
      "Epoch: 3, BCELoss: 0.6746137857437133\n",
      "Epoch: 4, BCELoss: 0.6645858287811279\n",
      "Epoch: 5, BCELoss: 0.651431930065155\n"
     ]
    }
   ],
   "source": [
    "import torch.optim as optim\n",
    "from train.model import LSTMClassifier\n",
    "\n",
    "device = torch.device(\"cuda\" if torch.cuda.is_available() else \"cpu\")\n",
    "model = LSTMClassifier(32, 100, 5000).to(device)\n",
    "optimizer = optim.Adam(model.parameters())\n",
    "loss_fn = torch.nn.BCELoss()\n",
    "\n",
    "train(model, train_sample_dl, 5, optimizer, loss_fn, device)"
   ]
  },
  {
   "cell_type": "markdown",
   "metadata": {},
   "source": [
    "In order to construct a PyTorch model using SageMaker we must provide SageMaker with a training script. We may optionally include a directory which will be copied to the container and from which our training code will be run. When the training container is executed it will check the uploaded directory (if there is one) for a `requirements.txt` file and install any required Python libraries, after which the training script will be run."
   ]
  },
  {
   "cell_type": "markdown",
   "metadata": {},
   "source": [
    "### (TODO) Training the model\n",
    "\n",
    "When a PyTorch model is constructed in SageMaker, an entry point must be specified. This is the Python file which will be executed when the model is trained. Inside of the `train` directory is a file called `train.py` which has been provided and which contains most of the necessary code to train our model. The only thing that is missing is the implementation of the `train()` method which you wrote earlier in this notebook.\n",
    "\n",
    "**TODO**: Copy the `train()` method written above and paste it into the `train/train.py` file where required.\n",
    "\n",
    "The way that SageMaker passes hyperparameters to the training script is by way of arguments. These arguments can then be parsed and used in the training script. To see how this is done take a look at the provided `train/train.py` file."
   ]
  },
  {
   "cell_type": "code",
   "execution_count": 38,
   "metadata": {},
   "outputs": [],
   "source": [
    "from sagemaker.pytorch import PyTorch\n",
    "\n",
    "estimator = PyTorch(entry_point=\"train.py\",\n",
    "                    source_dir=\"train\",\n",
    "                    role=role,\n",
    "                    framework_version='0.4.0',\n",
    "                    train_instance_count=1,\n",
    "                    train_instance_type='ml.p2.xlarge',\n",
    "                    hyperparameters={\n",
    "                        'epochs': 10,\n",
    "                        'hidden_dim': 200,\n",
    "                    })"
   ]
  },
  {
   "cell_type": "code",
   "execution_count": 39,
   "metadata": {},
   "outputs": [
    {
     "name": "stderr",
     "output_type": "stream",
     "text": [
      "'create_image_uri' will be deprecated in favor of 'ImageURIProvider' class in SageMaker Python SDK v2.\n",
      "'s3_input' class will be renamed to 'TrainingInput' in SageMaker Python SDK v2.\n",
      "'create_image_uri' will be deprecated in favor of 'ImageURIProvider' class in SageMaker Python SDK v2.\n"
     ]
    },
    {
     "name": "stdout",
     "output_type": "stream",
     "text": [
      "2020-07-27 22:34:18 Starting - Starting the training job...\n",
      "2020-07-27 22:34:21 Starting - Launching requested ML instances......\n",
      "2020-07-27 22:35:39 Starting - Preparing the instances for training.........\n",
      "2020-07-27 22:36:59 Downloading - Downloading input data...\n",
      "2020-07-27 22:37:36 Training - Downloading the training image...\n",
      "2020-07-27 22:38:07 Training - Training image download completed. Training in progress.\u001b[34mbash: cannot set terminal process group (-1): Inappropriate ioctl for device\u001b[0m\n",
      "\u001b[34mbash: no job control in this shell\u001b[0m\n",
      "\u001b[34m2020-07-27 22:38:08,794 sagemaker-containers INFO     Imported framework sagemaker_pytorch_container.training\u001b[0m\n",
      "\u001b[34m2020-07-27 22:38:08,819 sagemaker_pytorch_container.training INFO     Block until all host DNS lookups succeed.\u001b[0m\n",
      "\u001b[34m2020-07-27 22:38:11,864 sagemaker_pytorch_container.training INFO     Invoking user training script.\u001b[0m\n",
      "\u001b[34m2020-07-27 22:38:43,572 sagemaker-containers INFO     Module train does not provide a setup.py. \u001b[0m\n",
      "\u001b[34mGenerating setup.py\u001b[0m\n",
      "\u001b[34m2020-07-27 22:38:43,573 sagemaker-containers INFO     Generating setup.cfg\u001b[0m\n",
      "\u001b[34m2020-07-27 22:38:43,573 sagemaker-containers INFO     Generating MANIFEST.in\u001b[0m\n",
      "\u001b[34m2020-07-27 22:38:43,573 sagemaker-containers INFO     Installing module with the following command:\u001b[0m\n",
      "\u001b[34m/usr/bin/python -m pip install -U . -r requirements.txt\u001b[0m\n",
      "\u001b[34mProcessing /opt/ml/code\u001b[0m\n",
      "\u001b[34mCollecting pandas (from -r requirements.txt (line 1))\u001b[0m\n",
      "\u001b[34m  Downloading https://files.pythonhosted.org/packages/74/24/0cdbf8907e1e3bc5a8da03345c23cbed7044330bb8f73bb12e711a640a00/pandas-0.24.2-cp35-cp35m-manylinux1_x86_64.whl (10.0MB)\u001b[0m\n",
      "\u001b[34mCollecting numpy (from -r requirements.txt (line 2))\u001b[0m\n",
      "\u001b[34m  Downloading https://files.pythonhosted.org/packages/b5/36/88723426b4ff576809fec7d73594fe17a35c27f8d01f93637637a29ae25b/numpy-1.18.5-cp35-cp35m-manylinux1_x86_64.whl (19.9MB)\u001b[0m\n",
      "\u001b[34mCollecting nltk (from -r requirements.txt (line 3))\n",
      "  Downloading https://files.pythonhosted.org/packages/92/75/ce35194d8e3022203cca0d2f896dbb88689f9b3fce8e9f9cff942913519d/nltk-3.5.zip (1.4MB)\u001b[0m\n",
      "\u001b[34mCollecting beautifulsoup4 (from -r requirements.txt (line 4))\n",
      "  Downloading https://files.pythonhosted.org/packages/66/25/ff030e2437265616a1e9b25ccc864e0371a0bc3adb7c5a404fd661c6f4f6/beautifulsoup4-4.9.1-py3-none-any.whl (115kB)\u001b[0m\n",
      "\u001b[34mCollecting html5lib (from -r requirements.txt (line 5))\n",
      "  Downloading https://files.pythonhosted.org/packages/6c/dd/a834df6482147d48e225a49515aabc28974ad5a4ca3215c18a882565b028/html5lib-1.1-py2.py3-none-any.whl (112kB)\u001b[0m\n",
      "\u001b[34mCollecting pytz>=2011k (from pandas->-r requirements.txt (line 1))\n",
      "  Downloading https://files.pythonhosted.org/packages/4f/a4/879454d49688e2fad93e59d7d4efda580b783c745fd2ec2a3adf87b0808d/pytz-2020.1-py2.py3-none-any.whl (510kB)\u001b[0m\n",
      "\u001b[34mRequirement already satisfied, skipping upgrade: python-dateutil>=2.5.0 in /usr/local/lib/python3.5/dist-packages (from pandas->-r requirements.txt (line 1)) (2.7.5)\u001b[0m\n",
      "\u001b[34mRequirement already satisfied, skipping upgrade: click in /usr/local/lib/python3.5/dist-packages (from nltk->-r requirements.txt (line 3)) (7.0)\u001b[0m\n",
      "\u001b[34mCollecting joblib (from nltk->-r requirements.txt (line 3))\n",
      "  Downloading https://files.pythonhosted.org/packages/28/5c/cf6a2b65a321c4a209efcdf64c2689efae2cb62661f8f6f4bb28547cf1bf/joblib-0.14.1-py2.py3-none-any.whl (294kB)\u001b[0m\n",
      "\u001b[34mCollecting regex (from nltk->-r requirements.txt (line 3))\n",
      "  Downloading https://files.pythonhosted.org/packages/09/c3/ddaa87500f31ed86290e3d014c0302a51fde28d7139eda0b5f33733726db/regex-2020.7.14.tar.gz (690kB)\u001b[0m\n",
      "\u001b[34mCollecting tqdm (from nltk->-r requirements.txt (line 3))\n",
      "  Downloading https://files.pythonhosted.org/packages/af/88/7b0ea5fa8192d1733dea459a9e3059afc87819cb4072c43263f2ec7ab768/tqdm-4.48.0-py2.py3-none-any.whl (67kB)\u001b[0m\n",
      "\u001b[34mCollecting soupsieve>1.2 (from beautifulsoup4->-r requirements.txt (line 4))\n",
      "  Downloading https://files.pythonhosted.org/packages/6f/8f/457f4a5390eeae1cc3aeab89deb7724c965be841ffca6cfca9197482e470/soupsieve-2.0.1-py3-none-any.whl\u001b[0m\n",
      "\u001b[34mRequirement already satisfied, skipping upgrade: six>=1.9 in /usr/local/lib/python3.5/dist-packages (from html5lib->-r requirements.txt (line 5)) (1.11.0)\u001b[0m\n",
      "\u001b[34mCollecting webencodings (from html5lib->-r requirements.txt (line 5))\n",
      "  Downloading https://files.pythonhosted.org/packages/f4/24/2a3e3df732393fed8b3ebf2ec078f05546de641fe1b667ee316ec1dcf3b7/webencodings-0.5.1-py2.py3-none-any.whl\u001b[0m\n",
      "\u001b[34mBuilding wheels for collected packages: nltk, train, regex\n",
      "  Running setup.py bdist_wheel for nltk: started\u001b[0m\n",
      "\u001b[34m  Running setup.py bdist_wheel for nltk: finished with status 'done'\n",
      "  Stored in directory: /root/.cache/pip/wheels/ae/8c/3f/b1fe0ba04555b08b57ab52ab7f86023639a526d8bc8d384306\n",
      "  Running setup.py bdist_wheel for train: started\n",
      "  Running setup.py bdist_wheel for train: finished with status 'done'\n",
      "  Stored in directory: /tmp/pip-ephem-wheel-cache-a8i4i00i/wheels/35/24/16/37574d11bf9bde50616c67372a334f94fa8356bc7164af8ca3\n",
      "  Running setup.py bdist_wheel for regex: started\u001b[0m\n",
      "\u001b[34m  Running setup.py bdist_wheel for regex: finished with status 'done'\n",
      "  Stored in directory: /root/.cache/pip/wheels/53/55/dc/e17fa4568958f4c53be34b65e474a1327b64641f65df379ec3\u001b[0m\n",
      "\u001b[34mSuccessfully built nltk train regex\u001b[0m\n",
      "\u001b[34mInstalling collected packages: pytz, numpy, pandas, joblib, regex, tqdm, nltk, soupsieve, beautifulsoup4, webencodings, html5lib, train\n",
      "  Found existing installation: numpy 1.15.4\n",
      "    Uninstalling numpy-1.15.4:\u001b[0m\n",
      "\u001b[34m      Successfully uninstalled numpy-1.15.4\u001b[0m\n",
      "\u001b[34mSuccessfully installed beautifulsoup4-4.9.1 html5lib-1.1 joblib-0.14.1 nltk-3.5 numpy-1.18.5 pandas-0.24.2 pytz-2020.1 regex-2020.7.14 soupsieve-2.0.1 tqdm-4.48.0 train-1.0.0 webencodings-0.5.1\u001b[0m\n",
      "\u001b[34mYou are using pip version 18.1, however version 20.2b1 is available.\u001b[0m\n",
      "\u001b[34mYou should consider upgrading via the 'pip install --upgrade pip' command.\u001b[0m\n",
      "\u001b[34m2020-07-27 22:39:05,599 sagemaker-containers INFO     Invoking user script\n",
      "\u001b[0m\n",
      "\u001b[34mTraining Env:\n",
      "\u001b[0m\n",
      "\u001b[34m{\n",
      "    \"num_gpus\": 1,\n",
      "    \"input_dir\": \"/opt/ml/input\",\n",
      "    \"network_interface_name\": \"eth0\",\n",
      "    \"user_entry_point\": \"train.py\",\n",
      "    \"framework_module\": \"sagemaker_pytorch_container.training:main\",\n",
      "    \"job_name\": \"sagemaker-pytorch-2020-07-27-22-34-18-212\",\n",
      "    \"model_dir\": \"/opt/ml/model\",\n",
      "    \"output_dir\": \"/opt/ml/output\",\n",
      "    \"channel_input_dirs\": {\n",
      "        \"training\": \"/opt/ml/input/data/training\"\n",
      "    },\n",
      "    \"hosts\": [\n",
      "        \"algo-1\"\n",
      "    ],\n",
      "    \"current_host\": \"algo-1\",\n",
      "    \"additional_framework_parameters\": {},\n",
      "    \"output_data_dir\": \"/opt/ml/output/data\",\n",
      "    \"input_config_dir\": \"/opt/ml/input/config\",\n",
      "    \"hyperparameters\": {\n",
      "        \"hidden_dim\": 200,\n",
      "        \"epochs\": 10\n",
      "    },\n",
      "    \"resource_config\": {\n",
      "        \"hosts\": [\n",
      "            \"algo-1\"\n",
      "        ],\n",
      "        \"current_host\": \"algo-1\",\n",
      "        \"network_interface_name\": \"eth0\"\n",
      "    },\n",
      "    \"module_dir\": \"s3://sagemaker-us-east-1-633251384742/sagemaker-pytorch-2020-07-27-22-34-18-212/source/sourcedir.tar.gz\",\n",
      "    \"log_level\": 20,\n",
      "    \"output_intermediate_dir\": \"/opt/ml/output/intermediate\",\n",
      "    \"input_data_config\": {\n",
      "        \"training\": {\n",
      "            \"S3DistributionType\": \"FullyReplicated\",\n",
      "            \"RecordWrapperType\": \"None\",\n",
      "            \"TrainingInputMode\": \"File\"\n",
      "        }\n",
      "    },\n",
      "    \"module_name\": \"train\",\n",
      "    \"num_cpus\": 4\u001b[0m\n",
      "\u001b[34m}\n",
      "\u001b[0m\n",
      "\u001b[34mEnvironment variables:\n",
      "\u001b[0m\n",
      "\u001b[34mPYTHONPATH=/usr/local/bin:/usr/lib/python35.zip:/usr/lib/python3.5:/usr/lib/python3.5/plat-x86_64-linux-gnu:/usr/lib/python3.5/lib-dynload:/usr/local/lib/python3.5/dist-packages:/usr/lib/python3/dist-packages\u001b[0m\n",
      "\u001b[34mSM_NUM_GPUS=1\u001b[0m\n",
      "\u001b[34mSM_OUTPUT_DIR=/opt/ml/output\u001b[0m\n",
      "\u001b[34mSM_NUM_CPUS=4\u001b[0m\n",
      "\u001b[34mSM_USER_ARGS=[\"--epochs\",\"10\",\"--hidden_dim\",\"200\"]\u001b[0m\n",
      "\u001b[34mSM_FRAMEWORK_MODULE=sagemaker_pytorch_container.training:main\u001b[0m\n",
      "\u001b[34mSM_LOG_LEVEL=20\u001b[0m\n",
      "\u001b[34mSM_MODULE_NAME=train\u001b[0m\n",
      "\u001b[34mSM_CHANNEL_TRAINING=/opt/ml/input/data/training\u001b[0m\n",
      "\u001b[34mSM_HOSTS=[\"algo-1\"]\u001b[0m\n",
      "\u001b[34mSM_NETWORK_INTERFACE_NAME=eth0\u001b[0m\n",
      "\u001b[34mSM_INPUT_CONFIG_DIR=/opt/ml/input/config\u001b[0m\n",
      "\u001b[34mSM_RESOURCE_CONFIG={\"current_host\":\"algo-1\",\"hosts\":[\"algo-1\"],\"network_interface_name\":\"eth0\"}\u001b[0m\n",
      "\u001b[34mSM_HPS={\"epochs\":10,\"hidden_dim\":200}\u001b[0m\n",
      "\u001b[34mSM_OUTPUT_INTERMEDIATE_DIR=/opt/ml/output/intermediate\u001b[0m\n",
      "\u001b[34mSM_MODULE_DIR=s3://sagemaker-us-east-1-633251384742/sagemaker-pytorch-2020-07-27-22-34-18-212/source/sourcedir.tar.gz\u001b[0m\n",
      "\u001b[34mSM_MODEL_DIR=/opt/ml/model\u001b[0m\n",
      "\u001b[34mSM_CURRENT_HOST=algo-1\u001b[0m\n",
      "\u001b[34mSM_HP_EPOCHS=10\u001b[0m\n",
      "\u001b[34mSM_HP_HIDDEN_DIM=200\u001b[0m\n",
      "\u001b[34mSM_INPUT_DATA_CONFIG={\"training\":{\"RecordWrapperType\":\"None\",\"S3DistributionType\":\"FullyReplicated\",\"TrainingInputMode\":\"File\"}}\u001b[0m\n",
      "\u001b[34mSM_INPUT_DIR=/opt/ml/input\u001b[0m\n",
      "\u001b[34mSM_FRAMEWORK_PARAMS={}\u001b[0m\n",
      "\u001b[34mSM_USER_ENTRY_POINT=train.py\u001b[0m\n",
      "\u001b[34mSM_CHANNELS=[\"training\"]\u001b[0m\n",
      "\u001b[34mSM_TRAINING_ENV={\"additional_framework_parameters\":{},\"channel_input_dirs\":{\"training\":\"/opt/ml/input/data/training\"},\"current_host\":\"algo-1\",\"framework_module\":\"sagemaker_pytorch_container.training:main\",\"hosts\":[\"algo-1\"],\"hyperparameters\":{\"epochs\":10,\"hidden_dim\":200},\"input_config_dir\":\"/opt/ml/input/config\",\"input_data_config\":{\"training\":{\"RecordWrapperType\":\"None\",\"S3DistributionType\":\"FullyReplicated\",\"TrainingInputMode\":\"File\"}},\"input_dir\":\"/opt/ml/input\",\"job_name\":\"sagemaker-pytorch-2020-07-27-22-34-18-212\",\"log_level\":20,\"model_dir\":\"/opt/ml/model\",\"module_dir\":\"s3://sagemaker-us-east-1-633251384742/sagemaker-pytorch-2020-07-27-22-34-18-212/source/sourcedir.tar.gz\",\"module_name\":\"train\",\"network_interface_name\":\"eth0\",\"num_cpus\":4,\"num_gpus\":1,\"output_data_dir\":\"/opt/ml/output/data\",\"output_dir\":\"/opt/ml/output\",\"output_intermediate_dir\":\"/opt/ml/output/intermediate\",\"resource_config\":{\"current_host\":\"algo-1\",\"hosts\":[\"algo-1\"],\"network_interface_name\":\"eth0\"},\"user_entry_point\":\"train.py\"}\u001b[0m\n",
      "\u001b[34mSM_OUTPUT_DATA_DIR=/opt/ml/output/data\n",
      "\u001b[0m\n",
      "\u001b[34mInvoking script with the following command:\n",
      "\u001b[0m\n",
      "\u001b[34m/usr/bin/python -m train --epochs 10 --hidden_dim 200\n",
      "\n",
      "\u001b[0m\n",
      "\u001b[34mUsing device cuda.\u001b[0m\n",
      "\u001b[34mGet train data loader.\u001b[0m\n"
     ]
    },
    {
     "name": "stdout",
     "output_type": "stream",
     "text": [
      "\u001b[34mModel loaded with embedding_dim 32, hidden_dim 200, vocab_size 5000.\u001b[0m\n",
      "\u001b[34mEpoch: 1, BCELoss: 0.67529375090891\u001b[0m\n",
      "\u001b[34mEpoch: 2, BCELoss: 0.628780182527036\u001b[0m\n",
      "\u001b[34mEpoch: 3, BCELoss: 0.539820312237253\u001b[0m\n",
      "\u001b[34mEpoch: 4, BCELoss: 0.44713251201473936\u001b[0m\n",
      "\u001b[34mEpoch: 5, BCELoss: 0.39940908368752925\u001b[0m\n",
      "\u001b[34mEpoch: 6, BCELoss: 0.5147866953392418\u001b[0m\n",
      "\u001b[34mEpoch: 7, BCELoss: 0.43340866237270587\u001b[0m\n",
      "\u001b[34mEpoch: 8, BCELoss: 0.3446441505636488\u001b[0m\n",
      "\u001b[34mEpoch: 9, BCELoss: 0.3136650421181504\u001b[0m\n",
      "\u001b[34mEpoch: 10, BCELoss: 0.29296547752253865\u001b[0m\n",
      "\u001b[34m2020-07-27 22:42:04,784 sagemaker-containers INFO     Reporting training SUCCESS\u001b[0m\n",
      "\n",
      "2020-07-27 22:42:12 Uploading - Uploading generated training model\n",
      "2020-07-27 22:42:12 Completed - Training job completed\n",
      "Training seconds: 313\n",
      "Billable seconds: 313\n"
     ]
    }
   ],
   "source": [
    "estimator.fit({'training': input_data})"
   ]
  },
  {
   "cell_type": "markdown",
   "metadata": {},
   "source": [
    "## Step 5: Testing the model\n",
    "\n",
    "As mentioned at the top of this notebook, we will be testing this model by first deploying it and then sending the testing data to the deployed endpoint. We will do this so that we can make sure that the deployed model is working correctly.\n",
    "\n",
    "## Step 6: Deploy the model for testing\n",
    "\n",
    "Now that we have trained our model, we would like to test it to see how it performs. Currently our model takes input of the form `review_length, review[500]` where `review[500]` is a sequence of `500` integers which describe the words present in the review, encoded using `word_dict`. Fortunately for us, SageMaker provides built-in inference code for models with simple inputs such as this.\n",
    "\n",
    "There is one thing that we need to provide, however, and that is a function which loads the saved model. This function must be called `model_fn()` and takes as its only parameter a path to the directory where the model artifacts are stored. This function must also be present in the python file which we specified as the entry point. In our case the model loading function has been provided and so no changes need to be made.\n",
    "\n",
    "**NOTE**: When the built-in inference code is run it must import the `model_fn()` method from the `train.py` file. This is why the training code is wrapped in a main guard ( ie, `if __name__ == '__main__':` )\n",
    "\n",
    "Since we don't need to change anything in the code that was uploaded during training, we can simply deploy the current model as-is.\n",
    "\n",
    "**NOTE:** When deploying a model you are asking SageMaker to launch an compute instance that will wait for data to be sent to it. As a result, this compute instance will continue to run until *you* shut it down. This is important to know since the cost of a deployed endpoint depends on how long it has been running for.\n",
    "\n",
    "In other words **If you are no longer using a deployed endpoint, shut it down!**\n",
    "\n",
    "**TODO:** Deploy the trained model."
   ]
  },
  {
   "cell_type": "code",
   "execution_count": 40,
   "metadata": {},
   "outputs": [
    {
     "name": "stderr",
     "output_type": "stream",
     "text": [
      "Parameter image will be renamed to image_uri in SageMaker Python SDK v2.\n",
      "'create_image_uri' will be deprecated in favor of 'ImageURIProvider' class in SageMaker Python SDK v2.\n"
     ]
    },
    {
     "name": "stdout",
     "output_type": "stream",
     "text": [
      "---------------!"
     ]
    }
   ],
   "source": [
    "# TODO: Deploy the trained model\n",
    "predictor = estimator.deploy(initial_instance_count = 1, instance_type = 'ml.m4.xlarge')"
   ]
  },
  {
   "cell_type": "markdown",
   "metadata": {},
   "source": [
    "## Step 7 - Use the model for testing\n",
    "\n",
    "Once deployed, we can read in the test data and send it off to our deployed model to get some results. Once we collect all of the results we can determine how accurate our model is."
   ]
  },
  {
   "cell_type": "code",
   "execution_count": 41,
   "metadata": {},
   "outputs": [],
   "source": [
    "test_X = pd.concat([pd.DataFrame(test_X_len), pd.DataFrame(test_X)], axis=1)"
   ]
  },
  {
   "cell_type": "code",
   "execution_count": 42,
   "metadata": {},
   "outputs": [],
   "source": [
    "# We split the data into chunks and send each chunk seperately, accumulating the results.\n",
    "\n",
    "def predict(data, rows=512):\n",
    "    split_array = np.array_split(data, int(data.shape[0] / float(rows) + 1))\n",
    "    predictions = np.array([])\n",
    "    for array in split_array:\n",
    "        predictions = np.append(predictions, predictor.predict(array))\n",
    "    \n",
    "    return predictions"
   ]
  },
  {
   "cell_type": "code",
   "execution_count": 43,
   "metadata": {},
   "outputs": [],
   "source": [
    "predictions = predict(test_X.values)\n",
    "predictions = [round(num) for num in predictions]"
   ]
  },
  {
   "cell_type": "code",
   "execution_count": 44,
   "metadata": {},
   "outputs": [
    {
     "data": {
      "text/plain": [
       "0.84608"
      ]
     },
     "execution_count": 44,
     "metadata": {},
     "output_type": "execute_result"
    }
   ],
   "source": [
    "from sklearn.metrics import accuracy_score\n",
    "accuracy_score(test_y, predictions)"
   ]
  },
  {
   "cell_type": "markdown",
   "metadata": {},
   "source": [
    "**Question:** How does this model compare to the XGBoost model you created earlier? Why might these two models perform differently on this dataset? Which do *you* think is better for sentiment analysis?"
   ]
  },
  {
   "cell_type": "markdown",
   "metadata": {},
   "source": [
    "**Answer:** \n",
    "\n",
    "Interesting question, well the revious model (The XGBoost model) did notperform really well, it obtained only 9.7 accuracy, however, the current really performed well. "
   ]
  },
  {
   "cell_type": "markdown",
   "metadata": {},
   "source": [
    "### (TODO) More testing\n",
    "\n",
    "We now have a trained model which has been deployed and which we can send processed reviews to and which returns the predicted sentiment. However, ultimately we would like to be able to send our model an unprocessed review. That is, we would like to send the review itself as a string. For example, suppose we wish to send the following review to our model."
   ]
  },
  {
   "cell_type": "code",
   "execution_count": 45,
   "metadata": {},
   "outputs": [],
   "source": [
    "test_review = 'The simplest pleasures in life are the best, and this film is one of them. Combining a rather basic storyline of love and adventure this movie transcends the usual weekend fair with wit and unmitigated charm.'"
   ]
  },
  {
   "cell_type": "markdown",
   "metadata": {},
   "source": [
    "The question we now need to answer is, how do we send this review to our model?\n",
    "\n",
    "Recall in the first section of this notebook we did a bunch of data processing to the IMDb dataset. In particular, we did two specific things to the provided reviews.\n",
    " - Removed any html tags and stemmed the input\n",
    " - Encoded the review as a sequence of integers using `word_dict`\n",
    " \n",
    "In order process the review we will need to repeat these two steps.\n",
    "\n",
    "**TODO**: Using the `review_to_words` and `convert_and_pad` methods from section one, convert `test_review` into a numpy array `test_data` suitable to send to our model. Remember that our model expects input of the form `review_length, review[500]`."
   ]
  },
  {
   "cell_type": "code",
   "execution_count": 49,
   "metadata": {},
   "outputs": [],
   "source": [
    "# TODO: Convert test_review into a form usable by the model and save the results in test_data\n",
    "test_data = review_to_words(test_review)\n",
    "test_data = [np.array(convert_and_pad(get_dictionary, test_data)[0])]"
   ]
  },
  {
   "cell_type": "markdown",
   "metadata": {},
   "source": [
    "Now that we have processed the review, we can send the resulting array to our model to predict the sentiment of the review."
   ]
  },
  {
   "cell_type": "code",
   "execution_count": 50,
   "metadata": {},
   "outputs": [
    {
     "data": {
      "text/plain": [
       "array(0.5405937, dtype=float32)"
      ]
     },
     "execution_count": 50,
     "metadata": {},
     "output_type": "execute_result"
    }
   ],
   "source": [
    "predictor.predict(test_data)"
   ]
  },
  {
   "cell_type": "markdown",
   "metadata": {},
   "source": [
    "Since the return value of our model is close to `1`, we can be certain that the review we submitted is positive."
   ]
  },
  {
   "cell_type": "markdown",
   "metadata": {},
   "source": [
    "### Delete the endpoint\n",
    "\n",
    "Of course, just like in the XGBoost notebook, once we've deployed an endpoint it continues to run until we tell it to shut down. Since we are done using our endpoint for now, we can delete it."
   ]
  },
  {
   "cell_type": "code",
   "execution_count": 51,
   "metadata": {},
   "outputs": [
    {
     "name": "stderr",
     "output_type": "stream",
     "text": [
      "WARNING:root:estimator.delete_endpoint() will be deprecated in SageMaker Python SDK v2. Please use the delete_endpoint() function on your predictor instead.\n"
     ]
    }
   ],
   "source": [
    "estimator.delete_endpoint()"
   ]
  },
  {
   "cell_type": "markdown",
   "metadata": {},
   "source": [
    "## Step 6 (again) - Deploy the model for the web app\n",
    "\n",
    "Now that we know that our model is working, it's time to create some custom inference code so that we can send the model a review which has not been processed and have it determine the sentiment of the review.\n",
    "\n",
    "As we saw above, by default the estimator which we created, when deployed, will use the entry script and directory which we provided when creating the model. However, since we now wish to accept a string as input and our model expects a processed review, we need to write some custom inference code.\n",
    "\n",
    "We will store the code that we write in the `serve` directory. Provided in this directory is the `model.py` file that we used to construct our model, a `utils.py` file which contains the `review_to_words` and `convert_and_pad` pre-processing functions which we used during the initial data processing, and `predict.py`, the file which will contain our custom inference code. Note also that `requirements.txt` is present which will tell SageMaker what Python libraries are required by our custom inference code.\n",
    "\n",
    "When deploying a PyTorch model in SageMaker, you are expected to provide four functions which the SageMaker inference container will use.\n",
    " - `model_fn`: This function is the same function that we used in the training script and it tells SageMaker how to load our model.\n",
    " - `input_fn`: This function receives the raw serialized input that has been sent to the model's endpoint and its job is to de-serialize and make the input available for the inference code.\n",
    " - `output_fn`: This function takes the output of the inference code and its job is to serialize this output and return it to the caller of the model's endpoint.\n",
    " - `predict_fn`: The heart of the inference script, this is where the actual prediction is done and is the function which you will need to complete.\n",
    "\n",
    "For the simple website that we are constructing during this project, the `input_fn` and `output_fn` methods are relatively straightforward. We only require being able to accept a string as input and we expect to return a single value as output. You might imagine though that in a more complex application the input or output may be image data or some other binary data which would require some effort to serialize.\n",
    "\n",
    "### (TODO) Writing inference code\n",
    "\n",
    "Before writing our custom inference code, we will begin by taking a look at the code which has been provided."
   ]
  },
  {
   "cell_type": "code",
   "execution_count": 52,
   "metadata": {},
   "outputs": [
    {
     "name": "stdout",
     "output_type": "stream",
     "text": [
      "\u001b[34mimport\u001b[39;49;00m \u001b[04m\u001b[36margparse\u001b[39;49;00m\r\n",
      "\u001b[34mimport\u001b[39;49;00m \u001b[04m\u001b[36mjson\u001b[39;49;00m\r\n",
      "\u001b[34mimport\u001b[39;49;00m \u001b[04m\u001b[36mos\u001b[39;49;00m\r\n",
      "\u001b[34mimport\u001b[39;49;00m \u001b[04m\u001b[36mpickle\u001b[39;49;00m\r\n",
      "\u001b[34mimport\u001b[39;49;00m \u001b[04m\u001b[36msys\u001b[39;49;00m\r\n",
      "\u001b[34mimport\u001b[39;49;00m \u001b[04m\u001b[36msagemaker_containers\u001b[39;49;00m\r\n",
      "\u001b[34mimport\u001b[39;49;00m \u001b[04m\u001b[36mpandas\u001b[39;49;00m \u001b[34mas\u001b[39;49;00m \u001b[04m\u001b[36mpd\u001b[39;49;00m\r\n",
      "\u001b[34mimport\u001b[39;49;00m \u001b[04m\u001b[36mnumpy\u001b[39;49;00m \u001b[34mas\u001b[39;49;00m \u001b[04m\u001b[36mnp\u001b[39;49;00m\r\n",
      "\u001b[34mimport\u001b[39;49;00m \u001b[04m\u001b[36mtorch\u001b[39;49;00m\r\n",
      "\u001b[34mimport\u001b[39;49;00m \u001b[04m\u001b[36mtorch\u001b[39;49;00m\u001b[04m\u001b[36m.\u001b[39;49;00m\u001b[04m\u001b[36mnn\u001b[39;49;00m \u001b[34mas\u001b[39;49;00m \u001b[04m\u001b[36mnn\u001b[39;49;00m\r\n",
      "\u001b[34mimport\u001b[39;49;00m \u001b[04m\u001b[36mtorch\u001b[39;49;00m\u001b[04m\u001b[36m.\u001b[39;49;00m\u001b[04m\u001b[36moptim\u001b[39;49;00m \u001b[34mas\u001b[39;49;00m \u001b[04m\u001b[36moptim\u001b[39;49;00m\r\n",
      "\u001b[34mimport\u001b[39;49;00m \u001b[04m\u001b[36mtorch\u001b[39;49;00m\u001b[04m\u001b[36m.\u001b[39;49;00m\u001b[04m\u001b[36mutils\u001b[39;49;00m\u001b[04m\u001b[36m.\u001b[39;49;00m\u001b[04m\u001b[36mdata\u001b[39;49;00m\r\n",
      "\r\n",
      "\u001b[34mfrom\u001b[39;49;00m \u001b[04m\u001b[36mmodel\u001b[39;49;00m \u001b[34mimport\u001b[39;49;00m LSTMClassifier\r\n",
      "\r\n",
      "\u001b[34mfrom\u001b[39;49;00m \u001b[04m\u001b[36mutils\u001b[39;49;00m \u001b[34mimport\u001b[39;49;00m review_to_words, convert_and_pad\r\n",
      "\r\n",
      "\u001b[34mdef\u001b[39;49;00m \u001b[32mmodel_fn\u001b[39;49;00m(model_dir):\r\n",
      "    \u001b[33m\"\"\"Load the PyTorch model from the `model_dir` directory.\"\"\"\u001b[39;49;00m\r\n",
      "    \u001b[36mprint\u001b[39;49;00m(\u001b[33m\"\u001b[39;49;00m\u001b[33mLoading model.\u001b[39;49;00m\u001b[33m\"\u001b[39;49;00m)\r\n",
      "\r\n",
      "    \u001b[37m# First, load the parameters used to create the model.\u001b[39;49;00m\r\n",
      "    model_info = {}\r\n",
      "    model_info_path = os.path.join(model_dir, \u001b[33m'\u001b[39;49;00m\u001b[33mmodel_info.pth\u001b[39;49;00m\u001b[33m'\u001b[39;49;00m)\r\n",
      "    \u001b[34mwith\u001b[39;49;00m \u001b[36mopen\u001b[39;49;00m(model_info_path, \u001b[33m'\u001b[39;49;00m\u001b[33mrb\u001b[39;49;00m\u001b[33m'\u001b[39;49;00m) \u001b[34mas\u001b[39;49;00m f:\r\n",
      "        model_info = torch.load(f)\r\n",
      "\r\n",
      "    \u001b[36mprint\u001b[39;49;00m(\u001b[33m\"\u001b[39;49;00m\u001b[33mmodel_info: \u001b[39;49;00m\u001b[33m{}\u001b[39;49;00m\u001b[33m\"\u001b[39;49;00m.format(model_info))\r\n",
      "\r\n",
      "    \u001b[37m# Determine the device and construct the model.\u001b[39;49;00m\r\n",
      "    device = torch.device(\u001b[33m\"\u001b[39;49;00m\u001b[33mcuda\u001b[39;49;00m\u001b[33m\"\u001b[39;49;00m \u001b[34mif\u001b[39;49;00m torch.cuda.is_available() \u001b[34melse\u001b[39;49;00m \u001b[33m\"\u001b[39;49;00m\u001b[33mcpu\u001b[39;49;00m\u001b[33m\"\u001b[39;49;00m)\r\n",
      "    model = LSTMClassifier(model_info[\u001b[33m'\u001b[39;49;00m\u001b[33membedding_dim\u001b[39;49;00m\u001b[33m'\u001b[39;49;00m], model_info[\u001b[33m'\u001b[39;49;00m\u001b[33mhidden_dim\u001b[39;49;00m\u001b[33m'\u001b[39;49;00m], model_info[\u001b[33m'\u001b[39;49;00m\u001b[33mvocab_size\u001b[39;49;00m\u001b[33m'\u001b[39;49;00m])\r\n",
      "\r\n",
      "    \u001b[37m# Load the store model parameters.\u001b[39;49;00m\r\n",
      "    model_path = os.path.join(model_dir, \u001b[33m'\u001b[39;49;00m\u001b[33mmodel.pth\u001b[39;49;00m\u001b[33m'\u001b[39;49;00m)\r\n",
      "    \u001b[34mwith\u001b[39;49;00m \u001b[36mopen\u001b[39;49;00m(model_path, \u001b[33m'\u001b[39;49;00m\u001b[33mrb\u001b[39;49;00m\u001b[33m'\u001b[39;49;00m) \u001b[34mas\u001b[39;49;00m f:\r\n",
      "        model.load_state_dict(torch.load(f))\r\n",
      "\r\n",
      "    \u001b[37m# Load the saved word_dict.\u001b[39;49;00m\r\n",
      "    word_dict_path = os.path.join(model_dir, \u001b[33m'\u001b[39;49;00m\u001b[33mword_dict.pkl\u001b[39;49;00m\u001b[33m'\u001b[39;49;00m)\r\n",
      "    \u001b[34mwith\u001b[39;49;00m \u001b[36mopen\u001b[39;49;00m(word_dict_path, \u001b[33m'\u001b[39;49;00m\u001b[33mrb\u001b[39;49;00m\u001b[33m'\u001b[39;49;00m) \u001b[34mas\u001b[39;49;00m f:\r\n",
      "        model.word_dict = pickle.load(f)\r\n",
      "\r\n",
      "    model.to(device).eval()\r\n",
      "\r\n",
      "    \u001b[36mprint\u001b[39;49;00m(\u001b[33m\"\u001b[39;49;00m\u001b[33mDone loading model.\u001b[39;49;00m\u001b[33m\"\u001b[39;49;00m)\r\n",
      "    \u001b[34mreturn\u001b[39;49;00m model\r\n",
      "\r\n",
      "\u001b[34mdef\u001b[39;49;00m \u001b[32minput_fn\u001b[39;49;00m(serialized_input_data, content_type):\r\n",
      "    \u001b[36mprint\u001b[39;49;00m(\u001b[33m'\u001b[39;49;00m\u001b[33mDeserializing the input data.\u001b[39;49;00m\u001b[33m'\u001b[39;49;00m)\r\n",
      "    \u001b[34mif\u001b[39;49;00m content_type == \u001b[33m'\u001b[39;49;00m\u001b[33mtext/plain\u001b[39;49;00m\u001b[33m'\u001b[39;49;00m:\r\n",
      "        data = serialized_input_data.decode(\u001b[33m'\u001b[39;49;00m\u001b[33mutf-8\u001b[39;49;00m\u001b[33m'\u001b[39;49;00m)\r\n",
      "        \u001b[34mreturn\u001b[39;49;00m data\r\n",
      "    \u001b[34mraise\u001b[39;49;00m \u001b[36mException\u001b[39;49;00m(\u001b[33m'\u001b[39;49;00m\u001b[33mRequested unsupported ContentType in content_type: \u001b[39;49;00m\u001b[33m'\u001b[39;49;00m + content_type)\r\n",
      "\r\n",
      "\u001b[34mdef\u001b[39;49;00m \u001b[32moutput_fn\u001b[39;49;00m(prediction_output, accept):\r\n",
      "    \u001b[36mprint\u001b[39;49;00m(\u001b[33m'\u001b[39;49;00m\u001b[33mSerializing the generated output.\u001b[39;49;00m\u001b[33m'\u001b[39;49;00m)\r\n",
      "    \u001b[34mreturn\u001b[39;49;00m \u001b[36mstr\u001b[39;49;00m(prediction_output)\r\n",
      "\r\n",
      "\u001b[34mdef\u001b[39;49;00m \u001b[32mpredict_fn\u001b[39;49;00m(input_data, model):\r\n",
      "    \u001b[36mprint\u001b[39;49;00m(\u001b[33m'\u001b[39;49;00m\u001b[33mInferring sentiment of input data.\u001b[39;49;00m\u001b[33m'\u001b[39;49;00m)\r\n",
      "\r\n",
      "    device = torch.device(\u001b[33m\"\u001b[39;49;00m\u001b[33mcuda\u001b[39;49;00m\u001b[33m\"\u001b[39;49;00m \u001b[34mif\u001b[39;49;00m torch.cuda.is_available() \u001b[34melse\u001b[39;49;00m \u001b[33m\"\u001b[39;49;00m\u001b[33mcpu\u001b[39;49;00m\u001b[33m\"\u001b[39;49;00m)\r\n",
      "    \r\n",
      "    \u001b[34mif\u001b[39;49;00m model.word_dict \u001b[35mis\u001b[39;49;00m \u001b[34mNone\u001b[39;49;00m:\r\n",
      "        \u001b[34mraise\u001b[39;49;00m \u001b[36mException\u001b[39;49;00m(\u001b[33m'\u001b[39;49;00m\u001b[33mModel has not been loaded properly, no word_dict.\u001b[39;49;00m\u001b[33m'\u001b[39;49;00m)\r\n",
      "    \r\n",
      "    \u001b[37m# TODO: Process input_data so that it is ready to be sent to our model.\u001b[39;49;00m\r\n",
      "    \u001b[37m#       You should produce two variables:\u001b[39;49;00m\r\n",
      "    \u001b[37m#         data_X   - A sequence of length 500 which represents the converted review\u001b[39;49;00m\r\n",
      "    \u001b[37m#         data_len - The length of the review\u001b[39;49;00m\r\n",
      "    to_words = review_to_words(input_data)\r\n",
      "    data_X, data_len = convert_and_pad(model.word_dict, to_words)\r\n",
      "\r\n",
      "    \u001b[37m# Using data_X and data_len we construct an appropriate input tensor. Remember\u001b[39;49;00m\r\n",
      "    \u001b[37m# that our model expects input data of the form 'len, review[500]'.\u001b[39;49;00m\r\n",
      "    data_pack = np.hstack((data_len, data_X))\r\n",
      "    data_pack = data_pack.reshape(\u001b[34m1\u001b[39;49;00m, -\u001b[34m1\u001b[39;49;00m)\r\n",
      "    \r\n",
      "    data = torch.from_numpy(data_pack)\r\n",
      "    data = data.to(device)\r\n",
      "\r\n",
      "    \u001b[37m# Make sure to put the model into evaluation mode\u001b[39;49;00m\r\n",
      "    model.eval()\r\n",
      "    \u001b[34mwith\u001b[39;49;00m torch.no_grad():\r\n",
      "        output = model.forward(data)\r\n",
      "    \r\n",
      "    \u001b[37m# TODO: Compute the result of applying the model to the input data. The variable `result` should\u001b[39;49;00m\r\n",
      "    \u001b[37m#       be a numpy array which contains a single integer which is either 1 or 0\u001b[39;49;00m\r\n",
      "    \r\n",
      "    result = np.round(output.numpy())\r\n",
      "\r\n",
      "    \u001b[34mreturn\u001b[39;49;00m result\r\n"
     ]
    }
   ],
   "source": [
    "!pygmentize serve/predict.py"
   ]
  },
  {
   "cell_type": "markdown",
   "metadata": {},
   "source": [
    "As mentioned earlier, the `model_fn` method is the same as the one provided in the training code and the `input_fn` and `output_fn` methods are very simple and your task will be to complete the `predict_fn` method. Make sure that you save the completed file as `predict.py` in the `serve` directory.\n",
    "\n",
    "**TODO**: Complete the `predict_fn()` method in the `serve/predict.py` file."
   ]
  },
  {
   "cell_type": "markdown",
   "metadata": {},
   "source": [
    "### Deploying the model\n",
    "\n",
    "Now that the custom inference code has been written, we will create and deploy our model. To begin with, we need to construct a new PyTorchModel object which points to the model artifacts created during training and also points to the inference code that we wish to use. Then we can call the deploy method to launch the deployment container.\n",
    "\n",
    "**NOTE**: The default behaviour for a deployed PyTorch model is to assume that any input passed to the predictor is a `numpy` array. In our case we want to send a string so we need to construct a simple wrapper around the `RealTimePredictor` class to accomodate simple strings. In a more complicated situation you may want to provide a serialization object, for example if you wanted to sent image data."
   ]
  },
  {
   "cell_type": "code",
   "execution_count": 53,
   "metadata": {},
   "outputs": [
    {
     "name": "stderr",
     "output_type": "stream",
     "text": [
      "WARNING:sagemaker:Parameter image will be renamed to image_uri in SageMaker Python SDK v2.\n",
      "WARNING:sagemaker:'create_image_uri' will be deprecated in favor of 'ImageURIProvider' class in SageMaker Python SDK v2.\n"
     ]
    },
    {
     "name": "stdout",
     "output_type": "stream",
     "text": [
      "---------------!"
     ]
    }
   ],
   "source": [
    "from sagemaker.predictor import RealTimePredictor\n",
    "from sagemaker.pytorch import PyTorchModel\n",
    "\n",
    "class StringPredictor(RealTimePredictor):\n",
    "    def __init__(self, endpoint_name, sagemaker_session):\n",
    "        super(StringPredictor, self).__init__(endpoint_name, sagemaker_session, content_type='text/plain')\n",
    "\n",
    "model = PyTorchModel(model_data=estimator.model_data,\n",
    "                     role = role,\n",
    "                     framework_version='0.4.0',\n",
    "                     entry_point='predict.py',\n",
    "                     source_dir='serve',\n",
    "                     predictor_cls=StringPredictor)\n",
    "predictor = model.deploy(initial_instance_count=1, instance_type='ml.m4.xlarge')"
   ]
  },
  {
   "cell_type": "markdown",
   "metadata": {},
   "source": [
    "### Testing the model\n",
    "\n",
    "Now that we have deployed our model with the custom inference code, we should test to see if everything is working. Here we test our model by loading the first `250` positive and negative reviews and send them to the endpoint, then collect the results. The reason for only sending some of the data is that the amount of time it takes for our model to process the input and then perform inference is quite long and so testing the entire data set would be prohibitive."
   ]
  },
  {
   "cell_type": "code",
   "execution_count": 54,
   "metadata": {},
   "outputs": [],
   "source": [
    "import glob\n",
    "\n",
    "def test_reviews(data_dir='../data/aclImdb', stop=250):\n",
    "    \n",
    "    results = []\n",
    "    ground = []\n",
    "    \n",
    "    # We make sure to test both positive and negative reviews    \n",
    "    for sentiment in ['pos', 'neg']:\n",
    "        \n",
    "        path = os.path.join(data_dir, 'test', sentiment, '*.txt')\n",
    "        files = glob.glob(path)\n",
    "        \n",
    "        files_read = 0\n",
    "        \n",
    "        print('Starting ', sentiment, ' files')\n",
    "        \n",
    "        # Iterate through the files and send them to the predictor\n",
    "        for f in files:\n",
    "            with open(f) as review:\n",
    "                # First, we store the ground truth (was the review positive or negative)\n",
    "                if sentiment == 'pos':\n",
    "                    ground.append(1)\n",
    "                else:\n",
    "                    ground.append(0)\n",
    "                # Read in the review and convert to 'utf-8' for transmission via HTTP\n",
    "                review_input = review.read().encode('utf-8')\n",
    "                # Send the review to the predictor and store the results\n",
    "                results.append(float(predictor.predict(review_input)))\n",
    "                \n",
    "            # Sending reviews to our endpoint one at a time takes a while so we\n",
    "            # only send a small number of reviews\n",
    "            files_read += 1\n",
    "            if files_read == stop:\n",
    "                break\n",
    "            \n",
    "    return ground, results"
   ]
  },
  {
   "cell_type": "code",
   "execution_count": 55,
   "metadata": {},
   "outputs": [
    {
     "name": "stdout",
     "output_type": "stream",
     "text": [
      "Starting  pos  files\n",
      "Starting  neg  files\n"
     ]
    }
   ],
   "source": [
    "ground, results = test_reviews()"
   ]
  },
  {
   "cell_type": "code",
   "execution_count": 56,
   "metadata": {},
   "outputs": [
    {
     "data": {
      "text/plain": [
       "0.868"
      ]
     },
     "execution_count": 56,
     "metadata": {},
     "output_type": "execute_result"
    }
   ],
   "source": [
    "from sklearn.metrics import accuracy_score\n",
    "accuracy_score(ground, results)"
   ]
  },
  {
   "cell_type": "markdown",
   "metadata": {},
   "source": [
    "As an additional test, we can try sending the `test_review` that we looked at earlier."
   ]
  },
  {
   "cell_type": "code",
   "execution_count": 57,
   "metadata": {},
   "outputs": [
    {
     "data": {
      "text/plain": [
       "b'1.0'"
      ]
     },
     "execution_count": 57,
     "metadata": {},
     "output_type": "execute_result"
    }
   ],
   "source": [
    "predictor.predict(test_review)"
   ]
  },
  {
   "cell_type": "markdown",
   "metadata": {},
   "source": [
    "Now that we know our endpoint is working as expected, we can set up the web page that will interact with it. If you don't have time to finish the project now, make sure to skip down to the end of this notebook and shut down your endpoint. You can deploy it again when you come back."
   ]
  },
  {
   "cell_type": "markdown",
   "metadata": {},
   "source": [
    "## Step 7 (again): Use the model for the web app\n",
    "\n",
    "> **TODO:** This entire section and the next contain tasks for you to complete, mostly using the AWS console.\n",
    "\n",
    "So far we have been accessing our model endpoint by constructing a predictor object which uses the endpoint and then just using the predictor object to perform inference. What if we wanted to create a web app which accessed our model? The way things are set up currently makes that not possible since in order to access a SageMaker endpoint the app would first have to authenticate with AWS using an IAM role which included access to SageMaker endpoints. However, there is an easier way! We just need to use some additional AWS services.\n",
    "\n",
    "<img src=\"Web App Diagram.svg\">\n",
    "\n",
    "The diagram above gives an overview of how the various services will work together. On the far right is the model which we trained above and which is deployed using SageMaker. On the far left is our web app that collects a user's movie review, sends it off and expects a positive or negative sentiment in return.\n",
    "\n",
    "In the middle is where some of the magic happens. We will construct a Lambda function, which you can think of as a straightforward Python function that can be executed whenever a specified event occurs. We will give this function permission to send and recieve data from a SageMaker endpoint.\n",
    "\n",
    "Lastly, the method we will use to execute the Lambda function is a new endpoint that we will create using API Gateway. This endpoint will be a url that listens for data to be sent to it. Once it gets some data it will pass that data on to the Lambda function and then return whatever the Lambda function returns. Essentially it will act as an interface that lets our web app communicate with the Lambda function.\n",
    "\n",
    "### Setting up a Lambda function\n",
    "\n",
    "The first thing we are going to do is set up a Lambda function. This Lambda function will be executed whenever our public API has data sent to it. When it is executed it will receive the data, perform any sort of processing that is required, send the data (the review) to the SageMaker endpoint we've created and then return the result.\n",
    "\n",
    "#### Part A: Create an IAM Role for the Lambda function\n",
    "\n",
    "Since we want the Lambda function to call a SageMaker endpoint, we need to make sure that it has permission to do so. To do this, we will construct a role that we can later give the Lambda function.\n",
    "\n",
    "Using the AWS Console, navigate to the **IAM** page and click on **Roles**. Then, click on **Create role**. Make sure that the **AWS service** is the type of trusted entity selected and choose **Lambda** as the service that will use this role, then click **Next: Permissions**.\n",
    "\n",
    "In the search box type `sagemaker` and select the check box next to the **AmazonSageMakerFullAccess** policy. Then, click on **Next: Review**.\n",
    "\n",
    "Lastly, give this role a name. Make sure you use a name that you will remember later on, for example `LambdaSageMakerRole`. Then, click on **Create role**.\n",
    "\n",
    "#### Part B: Create a Lambda function\n",
    "\n",
    "Now it is time to actually create the Lambda function.\n",
    "\n",
    "Using the AWS Console, navigate to the AWS Lambda page and click on **Create a function**. When you get to the next page, make sure that **Author from scratch** is selected. Now, name your Lambda function, using a name that you will remember later on, for example `sentiment_analysis_func`. Make sure that the **Python 3.6** runtime is selected and then choose the role that you created in the previous part. Then, click on **Create Function**.\n",
    "\n",
    "On the next page you will see some information about the Lambda function you've just created. If you scroll down you should see an editor in which you can write the code that will be executed when your Lambda function is triggered. In our example, we will use the code below. \n",
    "\n",
    "```python\n",
    "# We need to use the low-level library to interact with SageMaker since the SageMaker API\n",
    "# is not available natively through Lambda.\n",
    "import boto3\n",
    "\n",
    "def lambda_handler(event, context):\n",
    "\n",
    "    # The SageMaker runtime is what allows us to invoke the endpoint that we've created.\n",
    "    runtime = boto3.Session().client('sagemaker-runtime')\n",
    "\n",
    "    # Now we use the SageMaker runtime to invoke our endpoint, sending the review we were given\n",
    "    response = runtime.invoke_endpoint(EndpointName = '**ENDPOINT NAME HERE**',    # The name of the endpoint we created\n",
    "                                       ContentType = 'text/plain',                 # The data format that is expected\n",
    "                                       Body = event['body'])                       # The actual review\n",
    "\n",
    "    # The response is an HTTP response whose body contains the result of our inference\n",
    "    result = response['Body'].read().decode('utf-8')\n",
    "\n",
    "    return {\n",
    "        'statusCode' : 200,\n",
    "        'headers' : { 'Content-Type' : 'text/plain', 'Access-Control-Allow-Origin' : '*' },\n",
    "        'body' : result\n",
    "    }\n",
    "```\n",
    "\n",
    "Once you have copy and pasted the code above into the Lambda code editor, replace the `**ENDPOINT NAME HERE**` portion with the name of the endpoint that we deployed earlier. You can determine the name of the endpoint using the code cell below."
   ]
  },
  {
   "cell_type": "code",
   "execution_count": 58,
   "metadata": {},
   "outputs": [
    {
     "data": {
      "text/plain": [
       "'sagemaker-pytorch-2020-07-27-22-57-14-581'"
      ]
     },
     "execution_count": 58,
     "metadata": {},
     "output_type": "execute_result"
    }
   ],
   "source": [
    "predictor.endpoint"
   ]
  },
  {
   "cell_type": "markdown",
   "metadata": {},
   "source": [
    "Once you have added the endpoint name to the Lambda function, click on **Save**. Your Lambda function is now up and running. Next we need to create a way for our web app to execute the Lambda function.\n",
    "\n",
    "### Setting up API Gateway\n",
    "\n",
    "Now that our Lambda function is set up, it is time to create a new API using API Gateway that will trigger the Lambda function we have just created.\n",
    "\n",
    "Using AWS Console, navigate to **Amazon API Gateway** and then click on **Get started**.\n",
    "\n",
    "On the next page, make sure that **New API** is selected and give the new api a name, for example, `sentiment_analysis_api`. Then, click on **Create API**.\n",
    "\n",
    "Now we have created an API, however it doesn't currently do anything. What we want it to do is to trigger the Lambda function that we created earlier.\n",
    "\n",
    "Select the **Actions** dropdown menu and click **Create Method**. A new blank method will be created, select its dropdown menu and select **POST**, then click on the check mark beside it.\n",
    "\n",
    "For the integration point, make sure that **Lambda Function** is selected and click on the **Use Lambda Proxy integration**. This option makes sure that the data that is sent to the API is then sent directly to the Lambda function with no processing. It also means that the return value must be a proper response object as it will also not be processed by API Gateway.\n",
    "\n",
    "Type the name of the Lambda function you created earlier into the **Lambda Function** text entry box and then click on **Save**. Click on **OK** in the pop-up box that then appears, giving permission to API Gateway to invoke the Lambda function you created.\n",
    "\n",
    "The last step in creating the API Gateway is to select the **Actions** dropdown and click on **Deploy API**. You will need to create a new Deployment stage and name it anything you like, for example `prod`.\n",
    "\n",
    "You have now successfully set up a public API to access your SageMaker model. Make sure to copy or write down the URL provided to invoke your newly created public API as this will be needed in the next step. This URL can be found at the top of the page, highlighted in blue next to the text **Invoke URL**."
   ]
  },
  {
   "cell_type": "markdown",
   "metadata": {},
   "source": [
    "## Step 4: Deploying our web app\n",
    "\n",
    "Now that we have a publicly available API, we can start using it in a web app. For our purposes, we have provided a simple static html file which can make use of the public api you created earlier.\n",
    "\n",
    "In the `website` folder there should be a file called `index.html`. Download the file to your computer and open that file up in a text editor of your choice. There should be a line which contains **\\*\\*REPLACE WITH PUBLIC API URL\\*\\***. Replace this string with the url that you wrote down in the last step and then save the file.\n",
    "\n",
    "Now, if you open `index.html` on your local computer, your browser will behave as a local web server and you can use the provided site to interact with your SageMaker model.\n",
    "\n",
    "If you'd like to go further, you can host this html file anywhere you'd like, for example using github or hosting a static site on Amazon's S3. Once you have done this you can share the link with anyone you'd like and have them play with it too!\n",
    "\n",
    "> **Important Note** In order for the web app to communicate with the SageMaker endpoint, the endpoint has to actually be deployed and running. This means that you are paying for it. Make sure that the endpoint is running when you want to use the web app but that you shut it down when you don't need it, otherwise you will end up with a surprisingly large AWS bill.\n",
    "\n",
    "**TODO:** Make sure that you include the edited `index.html` file in your project submission."
   ]
  },
  {
   "cell_type": "markdown",
   "metadata": {},
   "source": [
    "Now that your web app is working, trying playing around with it and see how well it works.\n",
    "\n",
    "**Question**: Give an example of a review that you entered into your web app. What was the predicted sentiment of your example review?"
   ]
  },
  {
   "attachments": {},
   "cell_type": "markdown",
   "metadata": {},
   "source": [
    "**Answer:** \n",
    "\n",
    "1.  Well, the story is splendidn and I encourged you to watch only if you eally have free time. \n",
    " -> POSITIVE(True)\n",
    " \n",
    "\n",
    "2. This movie looks sumptuous and worth watching.\n",
    " -> POSITIVE(True)\n",
    " \n",
    " \n",
    "3. This movie is just a garbage and trust e, you will remember my words after watching it.\n",
    " -> NEGATIVE(True)\n",
    "\n",
    " \n",
    " 4. Hiilarious! starting was interesting but later we didn't understand what is the story, hahahah\n",
    " -> NEGATIVE(True)"
   ]
  },
  {
   "cell_type": "markdown",
   "metadata": {},
   "source": [
    "### Delete the endpoint\n",
    "\n",
    "Remember to always shut down your endpoint if you are no longer using it. You are charged for the length of time that the endpoint is running so if you forget and leave it on you could end up with an unexpectedly large bill."
   ]
  },
  {
   "cell_type": "code",
   "execution_count": 59,
   "metadata": {},
   "outputs": [],
   "source": [
    "predictor.delete_endpoint()"
   ]
  }
 ],
 "metadata": {
  "kernelspec": {
   "display_name": "conda_pytorch_latest_p36",
   "language": "python",
   "name": "conda_pytorch_latest_p36"
  },
  "language_info": {
   "codemirror_mode": {
    "name": "ipython",
    "version": 3
   },
   "file_extension": ".py",
   "mimetype": "text/x-python",
   "name": "python",
   "nbconvert_exporter": "python",
   "pygments_lexer": "ipython3",
   "version": "3.6.10"
  }
 },
 "nbformat": 4,
 "nbformat_minor": 4
}
